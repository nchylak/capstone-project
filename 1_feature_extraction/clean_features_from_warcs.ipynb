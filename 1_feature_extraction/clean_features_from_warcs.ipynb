{
 "cells": [
  {
   "cell_type": "code",
   "execution_count": 1,
   "metadata": {
    "ExecuteTime": {
     "end_time": "2019-05-20T11:56:13.190477Z",
     "start_time": "2019-05-20T11:56:12.946400Z"
    }
   },
   "outputs": [],
   "source": [
    "import pandas as pd\n",
    "import numpy as np\n",
    "from collections import Counter\n",
    "import ast"
   ]
  },
  {
   "cell_type": "code",
   "execution_count": 2,
   "metadata": {
    "ExecuteTime": {
     "end_time": "2019-05-20T11:56:13.211808Z",
     "start_time": "2019-05-20T11:56:13.191963Z"
    }
   },
   "outputs": [
    {
     "data": {
      "text/html": [
       "<div>\n",
       "<style scoped>\n",
       "    .dataframe tbody tr th:only-of-type {\n",
       "        vertical-align: middle;\n",
       "    }\n",
       "\n",
       "    .dataframe tbody tr th {\n",
       "        vertical-align: top;\n",
       "    }\n",
       "\n",
       "    .dataframe thead th {\n",
       "        text-align: right;\n",
       "    }\n",
       "</style>\n",
       "<table border=\"1\" class=\"dataframe\">\n",
       "  <thead>\n",
       "    <tr style=\"text-align: right;\">\n",
       "      <th></th>\n",
       "      <th>email_domains</th>\n",
       "      <th>https_flag</th>\n",
       "      <th>siren</th>\n",
       "      <th>trust_av_flag</th>\n",
       "      <th>trust_flag</th>\n",
       "      <th>trust_sag_flag</th>\n",
       "      <th>trust_ts_flag</th>\n",
       "    </tr>\n",
       "  </thead>\n",
       "  <tbody>\n",
       "    <tr>\n",
       "      <th>0</th>\n",
       "      <td>['gmail', 'hotmail']</td>\n",
       "      <td>False</td>\n",
       "      <td>512719188</td>\n",
       "      <td>False</td>\n",
       "      <td>False</td>\n",
       "      <td>False</td>\n",
       "      <td>False</td>\n",
       "    </tr>\n",
       "    <tr>\n",
       "      <th>1</th>\n",
       "      <td>['easypets', 'petsafe', 'agecom-vet', 'cano-co...</td>\n",
       "      <td>True</td>\n",
       "      <td>530772565</td>\n",
       "      <td>False</td>\n",
       "      <td>True</td>\n",
       "      <td>False</td>\n",
       "      <td>True</td>\n",
       "    </tr>\n",
       "    <tr>\n",
       "      <th>2</th>\n",
       "      <td>[]</td>\n",
       "      <td>True</td>\n",
       "      <td>789521945</td>\n",
       "      <td>False</td>\n",
       "      <td>False</td>\n",
       "      <td>False</td>\n",
       "      <td>False</td>\n",
       "    </tr>\n",
       "    <tr>\n",
       "      <th>3</th>\n",
       "      <td>['domain', 'domaine', 'a4', 'recreatec']</td>\n",
       "      <td>True</td>\n",
       "      <td>388336000</td>\n",
       "      <td>False</td>\n",
       "      <td>False</td>\n",
       "      <td>False</td>\n",
       "      <td>False</td>\n",
       "    </tr>\n",
       "    <tr>\n",
       "      <th>4</th>\n",
       "      <td>['email', 'prestashop', 'avis-verifies']</td>\n",
       "      <td>True</td>\n",
       "      <td>519216188</td>\n",
       "      <td>True</td>\n",
       "      <td>True</td>\n",
       "      <td>False</td>\n",
       "      <td>False</td>\n",
       "    </tr>\n",
       "  </tbody>\n",
       "</table>\n",
       "</div>"
      ],
      "text/plain": [
       "                                       email_domains  https_flag      siren  \\\n",
       "0                               ['gmail', 'hotmail']       False  512719188   \n",
       "1  ['easypets', 'petsafe', 'agecom-vet', 'cano-co...        True  530772565   \n",
       "2                                                 []        True  789521945   \n",
       "3           ['domain', 'domaine', 'a4', 'recreatec']        True  388336000   \n",
       "4           ['email', 'prestashop', 'avis-verifies']        True  519216188   \n",
       "\n",
       "   trust_av_flag  trust_flag  trust_sag_flag  trust_ts_flag  \n",
       "0          False       False           False          False  \n",
       "1          False        True           False           True  \n",
       "2          False       False           False          False  \n",
       "3          False       False           False          False  \n",
       "4           True        True           False          False  "
      ]
     },
     "execution_count": 2,
     "metadata": {},
     "output_type": "execute_result"
    }
   ],
   "source": [
    "extracted_from_warcs = pd.read_csv('features_from_warcs.csv')\n",
    "extracted_from_warcs.head()"
   ]
  },
  {
   "cell_type": "code",
   "execution_count": 3,
   "metadata": {
    "ExecuteTime": {
     "end_time": "2019-05-20T11:56:13.215936Z",
     "start_time": "2019-05-20T11:56:13.213195Z"
    },
    "scrolled": true
   },
   "outputs": [
    {
     "data": {
      "text/plain": [
       "(3626, 7)"
      ]
     },
     "execution_count": 3,
     "metadata": {},
     "output_type": "execute_result"
    }
   ],
   "source": [
    "extracted_from_warcs.shape"
   ]
  },
  {
   "cell_type": "code",
   "execution_count": 4,
   "metadata": {
    "ExecuteTime": {
     "end_time": "2019-05-20T11:56:13.250781Z",
     "start_time": "2019-05-20T11:56:13.217356Z"
    }
   },
   "outputs": [
    {
     "data": {
      "text/plain": [
       "email_domains     ['gmail', 'hotmail']['easypets', 'petsafe', 'a...\n",
       "https_flag                                                     1383\n",
       "siren                                                 2131349177254\n",
       "trust_av_flag                                                   170\n",
       "trust_flag                                                      246\n",
       "trust_sag_flag                                                   21\n",
       "trust_ts_flag                                                    56\n",
       "dtype: object"
      ]
     },
     "execution_count": 4,
     "metadata": {},
     "output_type": "execute_result"
    }
   ],
   "source": [
    "extracted_from_warcs.sum()"
   ]
  },
  {
   "cell_type": "markdown",
   "metadata": {},
   "source": [
    "# Clean email domains\n",
    "\n",
    "Approach: create a feature of whether or not a company has an own email domain:\n",
    "* If no email domains were found: missing value\n",
    "* If only recurring email domains were found: no own email domain (False)\n",
    "* If a unique email domain name is found, own email domain (True)\n",
    "\n",
    "## Find recurring email domains"
   ]
  },
  {
   "cell_type": "code",
   "execution_count": 5,
   "metadata": {
    "ExecuteTime": {
     "end_time": "2019-05-20T11:56:13.276997Z",
     "start_time": "2019-05-20T11:56:13.251948Z"
    }
   },
   "outputs": [],
   "source": [
    "email_domains_inventory = []\n",
    "\n",
    "for email_domain_list in extracted_from_warcs['email_domains']:\n",
    "    email_domain_list = ast.literal_eval(email_domain_list)\n",
    "    for email_domain in email_domain_list:\n",
    "        email_domains_inventory.append(email_domain)    "
   ]
  },
  {
   "cell_type": "code",
   "execution_count": 6,
   "metadata": {
    "ExecuteTime": {
     "end_time": "2019-05-20T11:56:13.288117Z",
     "start_time": "2019-05-20T11:56:13.278130Z"
    }
   },
   "outputs": [
    {
     "data": {
      "text/html": [
       "<div>\n",
       "<style scoped>\n",
       "    .dataframe tbody tr th:only-of-type {\n",
       "        vertical-align: middle;\n",
       "    }\n",
       "\n",
       "    .dataframe tbody tr th {\n",
       "        vertical-align: top;\n",
       "    }\n",
       "\n",
       "    .dataframe thead th {\n",
       "        text-align: right;\n",
       "    }\n",
       "</style>\n",
       "<table border=\"1\" class=\"dataframe\">\n",
       "  <thead>\n",
       "    <tr style=\"text-align: right;\">\n",
       "      <th></th>\n",
       "      <th>index</th>\n",
       "      <th>frequency</th>\n",
       "    </tr>\n",
       "  </thead>\n",
       "  <tbody>\n",
       "    <tr>\n",
       "      <th>11</th>\n",
       "      <td>prestashop</td>\n",
       "      <td>656</td>\n",
       "    </tr>\n",
       "    <tr>\n",
       "      <th>10</th>\n",
       "      <td>email</td>\n",
       "      <td>446</td>\n",
       "    </tr>\n",
       "    <tr>\n",
       "      <th>6</th>\n",
       "      <td>domain</td>\n",
       "      <td>214</td>\n",
       "    </tr>\n",
       "    <tr>\n",
       "      <th>0</th>\n",
       "      <td>gmail</td>\n",
       "      <td>211</td>\n",
       "    </tr>\n",
       "    <tr>\n",
       "      <th>7</th>\n",
       "      <td>domaine</td>\n",
       "      <td>199</td>\n",
       "    </tr>\n",
       "  </tbody>\n",
       "</table>\n",
       "</div>"
      ],
      "text/plain": [
       "         index  frequency\n",
       "11  prestashop        656\n",
       "10       email        446\n",
       "6       domain        214\n",
       "0        gmail        211\n",
       "7      domaine        199"
      ]
     },
     "execution_count": 6,
     "metadata": {},
     "output_type": "execute_result"
    }
   ],
   "source": [
    "counter = Counter(email_domains_inventory)\n",
    "email_domains_freq = pd.DataFrame.from_dict(counter, orient='index', columns=['frequency']).reset_index()\n",
    "email_domains_freq.sort_values(by='frequency', ascending=False).head()"
   ]
  },
  {
   "cell_type": "code",
   "execution_count": 7,
   "metadata": {
    "ExecuteTime": {
     "end_time": "2019-05-20T11:56:13.294219Z",
     "start_time": "2019-05-20T11:56:13.289225Z"
    }
   },
   "outputs": [
    {
     "name": "stdout",
     "output_type": "stream",
     "text": [
      "['gmail', 'hotmail', 'domain', 'domaine', 'email', 'prestashop', 'avis-verifies', 'yahoo', 'free', 'bbox', 'laposte', 'e-mail', 'wanadoo', '4', 'ovh', '2x', 'opencart', 'orange', 'monuments-nationaux', 'ville-nice', 'outlook', 'neuf', 'me', 'skynet', 'live', 'club-internet', 'example', '2', 'aol', 'addresshere', '2x1', 'thelia', 'patworx', 'pascalevenot', 'aliceadsl', 'tawk', 'ddlx', 'sfr', 'demo', 'mail', 'exemple', 'simplyabox', 'yourcompany', 'negostice', 'gmx', 'www', 'numericable', 'mangopay', 'cssf', 'noos', 'x2', '2x-300x300', 'promobile']\n"
     ]
    }
   ],
   "source": [
    "recurring_email_domains = email_domains_freq[email_domains_freq['frequency']>1]['index'].tolist()\n",
    "print(recurring_email_domains)"
   ]
  },
  {
   "cell_type": "markdown",
   "metadata": {},
   "source": [
    "## Cleaning"
   ]
  },
  {
   "cell_type": "code",
   "execution_count": 8,
   "metadata": {
    "ExecuteTime": {
     "end_time": "2019-05-20T11:56:13.299802Z",
     "start_time": "2019-05-20T11:56:13.296102Z"
    }
   },
   "outputs": [],
   "source": [
    "features_from_warcs = extracted_from_warcs.copy()"
   ]
  },
  {
   "cell_type": "code",
   "execution_count": 9,
   "metadata": {
    "ExecuteTime": {
     "end_time": "2019-05-20T11:56:13.384674Z",
     "start_time": "2019-05-20T11:56:13.301615Z"
    },
    "scrolled": true
   },
   "outputs": [
    {
     "data": {
      "text/html": [
       "<div>\n",
       "<style scoped>\n",
       "    .dataframe tbody tr th:only-of-type {\n",
       "        vertical-align: middle;\n",
       "    }\n",
       "\n",
       "    .dataframe tbody tr th {\n",
       "        vertical-align: top;\n",
       "    }\n",
       "\n",
       "    .dataframe thead th {\n",
       "        text-align: right;\n",
       "    }\n",
       "</style>\n",
       "<table border=\"1\" class=\"dataframe\">\n",
       "  <thead>\n",
       "    <tr style=\"text-align: right;\">\n",
       "      <th></th>\n",
       "      <th>email_domains</th>\n",
       "      <th>https_flag</th>\n",
       "      <th>siren</th>\n",
       "      <th>trust_av_flag</th>\n",
       "      <th>trust_flag</th>\n",
       "      <th>trust_sag_flag</th>\n",
       "      <th>trust_ts_flag</th>\n",
       "      <th>own_email_domain</th>\n",
       "    </tr>\n",
       "  </thead>\n",
       "  <tbody>\n",
       "    <tr>\n",
       "      <th>0</th>\n",
       "      <td>['gmail', 'hotmail']</td>\n",
       "      <td>False</td>\n",
       "      <td>512719188</td>\n",
       "      <td>False</td>\n",
       "      <td>False</td>\n",
       "      <td>False</td>\n",
       "      <td>False</td>\n",
       "      <td>0</td>\n",
       "    </tr>\n",
       "    <tr>\n",
       "      <th>1</th>\n",
       "      <td>['easypets', 'petsafe', 'agecom-vet', 'cano-co...</td>\n",
       "      <td>True</td>\n",
       "      <td>530772565</td>\n",
       "      <td>False</td>\n",
       "      <td>True</td>\n",
       "      <td>False</td>\n",
       "      <td>True</td>\n",
       "      <td>1</td>\n",
       "    </tr>\n",
       "    <tr>\n",
       "      <th>2</th>\n",
       "      <td>[]</td>\n",
       "      <td>True</td>\n",
       "      <td>789521945</td>\n",
       "      <td>False</td>\n",
       "      <td>False</td>\n",
       "      <td>False</td>\n",
       "      <td>False</td>\n",
       "      <td>0</td>\n",
       "    </tr>\n",
       "    <tr>\n",
       "      <th>3</th>\n",
       "      <td>['domain', 'domaine', 'a4', 'recreatec']</td>\n",
       "      <td>True</td>\n",
       "      <td>388336000</td>\n",
       "      <td>False</td>\n",
       "      <td>False</td>\n",
       "      <td>False</td>\n",
       "      <td>False</td>\n",
       "      <td>1</td>\n",
       "    </tr>\n",
       "    <tr>\n",
       "      <th>4</th>\n",
       "      <td>['email', 'prestashop', 'avis-verifies']</td>\n",
       "      <td>True</td>\n",
       "      <td>519216188</td>\n",
       "      <td>True</td>\n",
       "      <td>True</td>\n",
       "      <td>False</td>\n",
       "      <td>False</td>\n",
       "      <td>0</td>\n",
       "    </tr>\n",
       "  </tbody>\n",
       "</table>\n",
       "</div>"
      ],
      "text/plain": [
       "                                       email_domains  https_flag      siren  \\\n",
       "0                               ['gmail', 'hotmail']       False  512719188   \n",
       "1  ['easypets', 'petsafe', 'agecom-vet', 'cano-co...        True  530772565   \n",
       "2                                                 []        True  789521945   \n",
       "3           ['domain', 'domaine', 'a4', 'recreatec']        True  388336000   \n",
       "4           ['email', 'prestashop', 'avis-verifies']        True  519216188   \n",
       "\n",
       "   trust_av_flag  trust_flag  trust_sag_flag  trust_ts_flag  own_email_domain  \n",
       "0          False       False           False          False                 0  \n",
       "1          False        True           False           True                 1  \n",
       "2          False       False           False          False                 0  \n",
       "3          False       False           False          False                 1  \n",
       "4           True        True           False          False                 0  "
      ]
     },
     "execution_count": 9,
     "metadata": {},
     "output_type": "execute_result"
    }
   ],
   "source": [
    "own_email_domain_all = []\n",
    "for i in range(extracted_from_warcs.shape[0]):\n",
    "    siren = extracted_from_warcs.iloc[i,2]\n",
    "    email_domains = extracted_from_warcs.iloc[i,0]\n",
    "    email_domains = ast.literal_eval(email_domains)\n",
    "    \n",
    "    own_email_domain = 0\n",
    "    for email_domain in email_domains:\n",
    "        if email_domain not in recurring_email_domains:\n",
    "            own_email_domain = 1\n",
    "            \n",
    "    own_email_domain_all.append(own_email_domain) \n",
    "\n",
    "features_from_warcs['own_email_domain'] = own_email_domain_all\n",
    "features_from_warcs.head()"
   ]
  },
  {
   "cell_type": "markdown",
   "metadata": {},
   "source": [
    "# Clean rest"
   ]
  },
  {
   "cell_type": "code",
   "execution_count": 10,
   "metadata": {
    "ExecuteTime": {
     "end_time": "2019-05-20T11:56:13.404646Z",
     "start_time": "2019-05-20T11:56:13.385797Z"
    },
    "scrolled": false
   },
   "outputs": [
    {
     "data": {
      "text/html": [
       "<div>\n",
       "<style scoped>\n",
       "    .dataframe tbody tr th:only-of-type {\n",
       "        vertical-align: middle;\n",
       "    }\n",
       "\n",
       "    .dataframe tbody tr th {\n",
       "        vertical-align: top;\n",
       "    }\n",
       "\n",
       "    .dataframe thead th {\n",
       "        text-align: right;\n",
       "    }\n",
       "</style>\n",
       "<table border=\"1\" class=\"dataframe\">\n",
       "  <thead>\n",
       "    <tr style=\"text-align: right;\">\n",
       "      <th></th>\n",
       "      <th>siren</th>\n",
       "      <th>https_flag</th>\n",
       "      <th>own_email_domain</th>\n",
       "      <th>trust_av_flag</th>\n",
       "      <th>trust_sag_flag</th>\n",
       "      <th>trust_ts_flag</th>\n",
       "      <th>trust_flag</th>\n",
       "    </tr>\n",
       "  </thead>\n",
       "  <tbody>\n",
       "    <tr>\n",
       "      <th>0</th>\n",
       "      <td>512719188</td>\n",
       "      <td>0</td>\n",
       "      <td>0</td>\n",
       "      <td>0</td>\n",
       "      <td>0</td>\n",
       "      <td>0</td>\n",
       "      <td>0</td>\n",
       "    </tr>\n",
       "    <tr>\n",
       "      <th>1</th>\n",
       "      <td>530772565</td>\n",
       "      <td>1</td>\n",
       "      <td>1</td>\n",
       "      <td>0</td>\n",
       "      <td>0</td>\n",
       "      <td>1</td>\n",
       "      <td>1</td>\n",
       "    </tr>\n",
       "    <tr>\n",
       "      <th>2</th>\n",
       "      <td>789521945</td>\n",
       "      <td>1</td>\n",
       "      <td>0</td>\n",
       "      <td>0</td>\n",
       "      <td>0</td>\n",
       "      <td>0</td>\n",
       "      <td>0</td>\n",
       "    </tr>\n",
       "    <tr>\n",
       "      <th>3</th>\n",
       "      <td>388336000</td>\n",
       "      <td>1</td>\n",
       "      <td>1</td>\n",
       "      <td>0</td>\n",
       "      <td>0</td>\n",
       "      <td>0</td>\n",
       "      <td>0</td>\n",
       "    </tr>\n",
       "    <tr>\n",
       "      <th>4</th>\n",
       "      <td>519216188</td>\n",
       "      <td>1</td>\n",
       "      <td>0</td>\n",
       "      <td>1</td>\n",
       "      <td>0</td>\n",
       "      <td>0</td>\n",
       "      <td>1</td>\n",
       "    </tr>\n",
       "  </tbody>\n",
       "</table>\n",
       "</div>"
      ],
      "text/plain": [
       "       siren  https_flag  own_email_domain  trust_av_flag  trust_sag_flag  \\\n",
       "0  512719188           0                 0              0               0   \n",
       "1  530772565           1                 1              0               0   \n",
       "2  789521945           1                 0              0               0   \n",
       "3  388336000           1                 1              0               0   \n",
       "4  519216188           1                 0              1               0   \n",
       "\n",
       "   trust_ts_flag  trust_flag  \n",
       "0              0           0  \n",
       "1              1           1  \n",
       "2              0           0  \n",
       "3              0           0  \n",
       "4              0           1  "
      ]
     },
     "execution_count": 10,
     "metadata": {},
     "output_type": "execute_result"
    }
   ],
   "source": [
    "features_from_warcs['https_flag'] = features_from_warcs['https_flag'].apply(lambda x: int(x))\n",
    "features_from_warcs['trust_av_flag'] = features_from_warcs['trust_av_flag'].apply(lambda x: int(x))\n",
    "features_from_warcs['trust_flag'] = features_from_warcs['trust_flag'].apply(lambda x: int(x))\n",
    "features_from_warcs['trust_sag_flag'] = features_from_warcs['trust_sag_flag'].apply(lambda x: int(x))\n",
    "features_from_warcs['trust_ts_flag'] = features_from_warcs['trust_ts_flag'].apply(lambda x: int(x))\n",
    "features_from_warcs = features_from_warcs[['siren', 'https_flag', 'own_email_domain', 'trust_av_flag', 'trust_sag_flag', 'trust_ts_flag', 'trust_flag']]\n",
    "features_from_warcs.head()"
   ]
  },
  {
   "cell_type": "code",
   "execution_count": 11,
   "metadata": {
    "ExecuteTime": {
     "end_time": "2019-05-20T11:56:13.410411Z",
     "start_time": "2019-05-20T11:56:13.405757Z"
    }
   },
   "outputs": [
    {
     "data": {
      "text/plain": [
       "(3626, 7)"
      ]
     },
     "execution_count": 11,
     "metadata": {},
     "output_type": "execute_result"
    }
   ],
   "source": [
    "features_from_warcs.shape"
   ]
  },
  {
   "cell_type": "markdown",
   "metadata": {},
   "source": [
    "# Filter by SIREN"
   ]
  },
  {
   "cell_type": "code",
   "execution_count": 16,
   "metadata": {
    "ExecuteTime": {
     "end_time": "2019-05-20T11:57:00.091572Z",
     "start_time": "2019-05-20T11:57:00.052492Z"
    }
   },
   "outputs": [
    {
     "data": {
      "text/plain": [
       "(3573, 7)"
      ]
     },
     "execution_count": 16,
     "metadata": {},
     "output_type": "execute_result"
    }
   ],
   "source": [
    "sirens = np.load('/project/0_cleaning/output_cleaning/sirens.npy').astype(int)\n",
    "to_keep = []\n",
    "for siren in features_from_warcs['siren']:\n",
    "    keep = False\n",
    "    if siren in sirens:\n",
    "        keep = True\n",
    "    to_keep.append(keep)\n",
    "    \n",
    "features_from_warcs = features_from_warcs[to_keep]\n",
    "features_from_warcs.shape"
   ]
  },
  {
   "cell_type": "markdown",
   "metadata": {},
   "source": [
    "# Save features"
   ]
  },
  {
   "cell_type": "code",
   "execution_count": 17,
   "metadata": {
    "ExecuteTime": {
     "end_time": "2019-05-20T11:57:04.219282Z",
     "start_time": "2019-05-20T11:57:04.212877Z"
    }
   },
   "outputs": [
    {
     "name": "stdout",
     "output_type": "stream",
     "text": [
      "(3573, 7)\n",
      "3573\n"
     ]
    }
   ],
   "source": [
    "print(features_from_warcs.shape)\n",
    "print(len(features_from_warcs['siren'].unique()))"
   ]
  },
  {
   "cell_type": "code",
   "execution_count": 14,
   "metadata": {
    "ExecuteTime": {
     "end_time": "2019-05-20T11:56:13.470891Z",
     "start_time": "2019-05-20T11:56:13.443161Z"
    }
   },
   "outputs": [],
   "source": [
    "features_from_warcs.to_csv('/project/1_feature_extraction/output_feature_extraction/features_from_warcs.csv', index=False)"
   ]
  },
  {
   "cell_type": "code",
   "execution_count": 15,
   "metadata": {
    "ExecuteTime": {
     "end_time": "2019-05-20T11:56:13.475519Z",
     "start_time": "2019-05-20T11:56:13.472057Z"
    }
   },
   "outputs": [
    {
     "data": {
      "text/plain": [
       "siren               2103535968876\n",
       "https_flag                   1363\n",
       "own_email_domain             1600\n",
       "trust_av_flag                 170\n",
       "trust_sag_flag                 21\n",
       "trust_ts_flag                  54\n",
       "trust_flag                    244\n",
       "dtype: int64"
      ]
     },
     "execution_count": 15,
     "metadata": {},
     "output_type": "execute_result"
    }
   ],
   "source": [
    "features_from_warcs.sum()"
   ]
  }
 ],
 "metadata": {
  "kernelspec": {
   "display_name": "Python 3",
   "language": "python",
   "name": "python3"
  },
  "language_info": {
   "codemirror_mode": {
    "name": "ipython",
    "version": 3
   },
   "file_extension": ".py",
   "mimetype": "text/x-python",
   "name": "python",
   "nbconvert_exporter": "python",
   "pygments_lexer": "ipython3",
   "version": "3.7.3"
  },
  "toc": {
   "base_numbering": 1,
   "nav_menu": {},
   "number_sections": true,
   "sideBar": true,
   "skip_h1_title": false,
   "title_cell": "Table of Contents",
   "title_sidebar": "Contents",
   "toc_cell": false,
   "toc_position": {},
   "toc_section_display": true,
   "toc_window_display": true
  },
  "varInspector": {
   "cols": {
    "lenName": 16,
    "lenType": 16,
    "lenVar": 40
   },
   "kernels_config": {
    "python": {
     "delete_cmd_postfix": "",
     "delete_cmd_prefix": "del ",
     "library": "var_list.py",
     "varRefreshCmd": "print(var_dic_list())"
    },
    "r": {
     "delete_cmd_postfix": ") ",
     "delete_cmd_prefix": "rm(",
     "library": "var_list.r",
     "varRefreshCmd": "cat(var_dic_list()) "
    }
   },
   "types_to_exclude": [
    "module",
    "function",
    "builtin_function_or_method",
    "instance",
    "_Feature"
   ],
   "window_display": false
  }
 },
 "nbformat": 4,
 "nbformat_minor": 2
}
