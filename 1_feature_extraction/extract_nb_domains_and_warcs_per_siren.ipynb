{
 "cells": [
  {
   "cell_type": "code",
   "execution_count": 1,
   "metadata": {
    "ExecuteTime": {
     "end_time": "2019-05-20T14:18:48.861128Z",
     "start_time": "2019-05-20T14:18:48.664236Z"
    }
   },
   "outputs": [],
   "source": [
    "import json\n",
    "import pandas as pd\n",
    "import numpy as np"
   ]
  },
  {
   "cell_type": "markdown",
   "metadata": {},
   "source": [
    "# Useful functions"
   ]
  },
  {
   "cell_type": "code",
   "execution_count": 2,
   "metadata": {
    "ExecuteTime": {
     "end_time": "2019-05-20T14:18:50.567523Z",
     "start_time": "2019-05-20T14:18:50.562356Z"
    }
   },
   "outputs": [],
   "source": [
    "def load_json(path):\n",
    "    f = open(path, \"r\")\n",
    "    json_loaded = json.load(f)\n",
    "    f.close()\n",
    "    return json_loaded"
   ]
  },
  {
   "cell_type": "code",
   "execution_count": 3,
   "metadata": {
    "ExecuteTime": {
     "end_time": "2019-05-20T14:18:52.118880Z",
     "start_time": "2019-05-20T14:18:52.113478Z"
    }
   },
   "outputs": [],
   "source": [
    "def json_save(obj, name):\n",
    "    json_content = json.dumps(obj)\n",
    "    f = open(f\"{name}.json\",\"w\")\n",
    "    f.write(json_content)\n",
    "    f.close()   "
   ]
  },
  {
   "cell_type": "markdown",
   "metadata": {},
   "source": [
    "# Open required files"
   ]
  },
  {
   "cell_type": "code",
   "execution_count": 4,
   "metadata": {
    "ExecuteTime": {
     "end_time": "2019-05-20T14:18:57.069732Z",
     "start_time": "2019-05-20T14:18:56.429799Z"
    },
    "scrolled": true
   },
   "outputs": [
    {
     "data": {
      "text/html": [
       "<div>\n",
       "<style scoped>\n",
       "    .dataframe tbody tr th:only-of-type {\n",
       "        vertical-align: middle;\n",
       "    }\n",
       "\n",
       "    .dataframe tbody tr th {\n",
       "        vertical-align: top;\n",
       "    }\n",
       "\n",
       "    .dataframe thead th {\n",
       "        text-align: right;\n",
       "    }\n",
       "</style>\n",
       "<table border=\"1\" class=\"dataframe\">\n",
       "  <thead>\n",
       "    <tr style=\"text-align: right;\">\n",
       "      <th></th>\n",
       "      <th>domain</th>\n",
       "      <th>siren</th>\n",
       "    </tr>\n",
       "  </thead>\n",
       "  <tbody>\n",
       "    <tr>\n",
       "      <th>0</th>\n",
       "      <td>www.easypets.fr</td>\n",
       "      <td>530772565</td>\n",
       "    </tr>\n",
       "    <tr>\n",
       "      <th>1</th>\n",
       "      <td>www.a4.fr</td>\n",
       "      <td>388336000</td>\n",
       "    </tr>\n",
       "    <tr>\n",
       "      <th>2</th>\n",
       "      <td>www.laptopservice.fr</td>\n",
       "      <td>519216188</td>\n",
       "    </tr>\n",
       "    <tr>\n",
       "      <th>3</th>\n",
       "      <td>www.toutespiecesanspermis.fr</td>\n",
       "      <td>382528958</td>\n",
       "    </tr>\n",
       "    <tr>\n",
       "      <th>4</th>\n",
       "      <td>www.studiosport.fr</td>\n",
       "      <td>495049132</td>\n",
       "    </tr>\n",
       "  </tbody>\n",
       "</table>\n",
       "</div>"
      ],
      "text/plain": [
       "                         domain      siren\n",
       "0               www.easypets.fr  530772565\n",
       "1                     www.a4.fr  388336000\n",
       "2          www.laptopservice.fr  519216188\n",
       "3  www.toutespiecesanspermis.fr  382528958\n",
       "4            www.studiosport.fr  495049132"
      ]
     },
     "execution_count": 4,
     "metadata": {},
     "output_type": "execute_result"
    }
   ],
   "source": [
    "domain_warcs = load_json('/project/0_cleaning/output_cleaning/warc_per_dom.json')\n",
    "domain_scope = pd.read_csv('/project/0_cleaning/output_cleaning/sirens_final.csv')\n",
    "domain_scope['siren'] = domain_scope['siren'].astype(str)\n",
    "sirens = np.load('/project/0_cleaning/output_cleaning/sirens.npy')\n",
    "domain_scope.head(5)"
   ]
  },
  {
   "cell_type": "markdown",
   "metadata": {},
   "source": [
    "# Extract data"
   ]
  },
  {
   "cell_type": "code",
   "execution_count": 5,
   "metadata": {
    "ExecuteTime": {
     "end_time": "2019-05-20T14:19:01.591768Z",
     "start_time": "2019-05-20T14:18:59.720014Z"
    }
   },
   "outputs": [],
   "source": [
    "siren_domains = {}\n",
    "siren_warcs = {}\n",
    "\n",
    "for siren in sirens:\n",
    "    domains = domain_scope.loc[domain_scope['siren']==siren, 'domain'].tolist()\n",
    "    siren_domains[siren] = domains\n",
    "    \n",
    "    warcs_for_siren = []\n",
    "    for domain in domains:\n",
    "        warcs = domain_warcs[domain]\n",
    "        warcs_for_siren += warcs\n",
    "    siren_warcs[siren] = warcs_for_siren"
   ]
  },
  {
   "cell_type": "code",
   "execution_count": 6,
   "metadata": {
    "ExecuteTime": {
     "end_time": "2019-05-20T14:19:32.218251Z",
     "start_time": "2019-05-20T14:19:32.209041Z"
    }
   },
   "outputs": [],
   "source": [
    "json_save(siren_domains, 'siren_domains')"
   ]
  },
  {
   "cell_type": "code",
   "execution_count": 7,
   "metadata": {
    "ExecuteTime": {
     "end_time": "2019-05-20T14:20:17.619867Z",
     "start_time": "2019-05-20T14:20:17.613995Z"
    }
   },
   "outputs": [
    {
     "data": {
      "text/plain": [
       "3573"
      ]
     },
     "execution_count": 7,
     "metadata": {},
     "output_type": "execute_result"
    }
   ],
   "source": [
    "len(siren_domains)"
   ]
  },
  {
   "cell_type": "markdown",
   "metadata": {},
   "source": [
    "# Test data extracted"
   ]
  },
  {
   "cell_type": "code",
   "execution_count": 6,
   "metadata": {
    "ExecuteTime": {
     "end_time": "2019-05-20T11:16:34.150302Z",
     "start_time": "2019-05-20T11:16:34.119424Z"
    }
   },
   "outputs": [
    {
     "name": "stdout",
     "output_type": "stream",
     "text": [
      "5559\n",
      "5559\n"
     ]
    }
   ],
   "source": [
    "print(len(domain_warcs['www.easypets.fr']) + len(domain_warcs['www.easyhorses.fr']))\n",
    "print(len(siren_warcs['530772565']))"
   ]
  },
  {
   "cell_type": "code",
   "execution_count": 7,
   "metadata": {
    "ExecuteTime": {
     "end_time": "2019-05-20T11:16:34.157666Z",
     "start_time": "2019-05-20T11:16:34.152671Z"
    }
   },
   "outputs": [
    {
     "name": "stdout",
     "output_type": "stream",
     "text": [
      "3573\n",
      "3573\n"
     ]
    }
   ],
   "source": [
    "print(len(siren_domains))\n",
    "print(len(siren_warcs))"
   ]
  },
  {
   "cell_type": "markdown",
   "metadata": {},
   "source": [
    "# Save number of domains as feature"
   ]
  },
  {
   "cell_type": "code",
   "execution_count": 8,
   "metadata": {
    "ExecuteTime": {
     "end_time": "2019-05-20T11:16:34.189627Z",
     "start_time": "2019-05-20T11:16:34.161984Z"
    },
    "scrolled": true
   },
   "outputs": [
    {
     "name": "stdout",
     "output_type": "stream",
     "text": [
      "(3573, 2)\n"
     ]
    },
    {
     "data": {
      "text/html": [
       "<div>\n",
       "<style scoped>\n",
       "    .dataframe tbody tr th:only-of-type {\n",
       "        vertical-align: middle;\n",
       "    }\n",
       "\n",
       "    .dataframe tbody tr th {\n",
       "        vertical-align: top;\n",
       "    }\n",
       "\n",
       "    .dataframe thead th {\n",
       "        text-align: right;\n",
       "    }\n",
       "</style>\n",
       "<table border=\"1\" class=\"dataframe\">\n",
       "  <thead>\n",
       "    <tr style=\"text-align: right;\">\n",
       "      <th></th>\n",
       "      <th>siren</th>\n",
       "      <th>nb_domains</th>\n",
       "    </tr>\n",
       "  </thead>\n",
       "  <tbody>\n",
       "    <tr>\n",
       "      <th>0</th>\n",
       "      <td>332224393</td>\n",
       "      <td>1</td>\n",
       "    </tr>\n",
       "    <tr>\n",
       "      <th>1</th>\n",
       "      <td>798102158</td>\n",
       "      <td>1</td>\n",
       "    </tr>\n",
       "    <tr>\n",
       "      <th>2</th>\n",
       "      <td>414305508</td>\n",
       "      <td>1</td>\n",
       "    </tr>\n",
       "    <tr>\n",
       "      <th>3</th>\n",
       "      <td>533910931</td>\n",
       "      <td>1</td>\n",
       "    </tr>\n",
       "    <tr>\n",
       "      <th>4</th>\n",
       "      <td>809944416</td>\n",
       "      <td>1</td>\n",
       "    </tr>\n",
       "  </tbody>\n",
       "</table>\n",
       "</div>"
      ],
      "text/plain": [
       "       siren  nb_domains\n",
       "0  332224393           1\n",
       "1  798102158           1\n",
       "2  414305508           1\n",
       "3  533910931           1\n",
       "4  809944416           1"
      ]
     },
     "execution_count": 8,
     "metadata": {},
     "output_type": "execute_result"
    }
   ],
   "source": [
    "nb_domains = pd.DataFrame()\n",
    "nb_domains['siren'] = sirens\n",
    "nb_domains['nb_domains'] = [len(domains) for domains in siren_domains.values()]\n",
    "nb_domains.to_csv('/project/1_feature_extraction/output_feature_extraction/nb_domains.csv', index=False)\n",
    "print(nb_domains.shape)\n",
    "nb_domains.head()"
   ]
  },
  {
   "cell_type": "markdown",
   "metadata": {},
   "source": [
    "# Save dictionary of warcs per siren for later use"
   ]
  },
  {
   "cell_type": "code",
   "execution_count": 9,
   "metadata": {
    "ExecuteTime": {
     "end_time": "2019-05-20T11:16:34.324226Z",
     "start_time": "2019-05-20T11:16:34.191279Z"
    }
   },
   "outputs": [],
   "source": [
    "json_save(siren_warcs, 'siren_warcs')"
   ]
  }
 ],
 "metadata": {
  "kernelspec": {
   "display_name": "Python 3",
   "language": "python",
   "name": "python3"
  },
  "language_info": {
   "codemirror_mode": {
    "name": "ipython",
    "version": 3
   },
   "file_extension": ".py",
   "mimetype": "text/x-python",
   "name": "python",
   "nbconvert_exporter": "python",
   "pygments_lexer": "ipython3",
   "version": "3.7.3"
  },
  "toc": {
   "base_numbering": 1,
   "nav_menu": {},
   "number_sections": true,
   "sideBar": true,
   "skip_h1_title": false,
   "title_cell": "Table of Contents",
   "title_sidebar": "Contents",
   "toc_cell": false,
   "toc_position": {},
   "toc_section_display": true,
   "toc_window_display": false
  },
  "varInspector": {
   "cols": {
    "lenName": 16,
    "lenType": 16,
    "lenVar": 40
   },
   "kernels_config": {
    "python": {
     "delete_cmd_postfix": "",
     "delete_cmd_prefix": "del ",
     "library": "var_list.py",
     "varRefreshCmd": "print(var_dic_list())"
    },
    "r": {
     "delete_cmd_postfix": ") ",
     "delete_cmd_prefix": "rm(",
     "library": "var_list.r",
     "varRefreshCmd": "cat(var_dic_list()) "
    }
   },
   "types_to_exclude": [
    "module",
    "function",
    "builtin_function_or_method",
    "instance",
    "_Feature"
   ],
   "window_display": false
  }
 },
 "nbformat": 4,
 "nbformat_minor": 2
}
