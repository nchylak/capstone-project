{
 "cells": [
  {
   "cell_type": "markdown",
   "metadata": {},
   "source": [
    "# Combine https results from WARC and from Backcheck against the domains"
   ]
  },
  {
   "cell_type": "code",
   "execution_count": 33,
   "metadata": {},
   "outputs": [],
   "source": [
    "import numpy as np\n",
    "import pandas as pd\n",
    "import json\n"
   ]
  },
  {
   "cell_type": "code",
   "execution_count": 37,
   "metadata": {},
   "outputs": [
    {
     "name": "stdout",
     "output_type": "stream",
     "text": [
      "(3767, 7)\n"
     ]
    },
    {
     "data": {
      "text/html": [
       "<div>\n",
       "<style scoped>\n",
       "    .dataframe tbody tr th:only-of-type {\n",
       "        vertical-align: middle;\n",
       "    }\n",
       "\n",
       "    .dataframe tbody tr th {\n",
       "        vertical-align: top;\n",
       "    }\n",
       "\n",
       "    .dataframe thead th {\n",
       "        text-align: right;\n",
       "    }\n",
       "</style>\n",
       "<table border=\"1\" class=\"dataframe\">\n",
       "  <thead>\n",
       "    <tr style=\"text-align: right;\">\n",
       "      <th></th>\n",
       "      <th>domain</th>\n",
       "      <th>siren</th>\n",
       "      <th>origin</th>\n",
       "      <th>wapps</th>\n",
       "      <th>Website</th>\n",
       "      <th>https</th>\n",
       "      <th>status</th>\n",
       "    </tr>\n",
       "  </thead>\n",
       "  <tbody>\n",
       "    <tr>\n",
       "      <th>0</th>\n",
       "      <td>www.easypets.fr</td>\n",
       "      <td>530772565</td>\n",
       "      <td>warc</td>\n",
       "      <td>['PrestaShop']</td>\n",
       "      <td>https://www.easypets.fr/fr/</td>\n",
       "      <td>1.0</td>\n",
       "      <td>200.0</td>\n",
       "    </tr>\n",
       "    <tr>\n",
       "      <th>1</th>\n",
       "      <td>www.a4.fr</td>\n",
       "      <td>388336000</td>\n",
       "      <td>web</td>\n",
       "      <td>['Magento']</td>\n",
       "      <td>https://www.a4.fr/</td>\n",
       "      <td>1.0</td>\n",
       "      <td>200.0</td>\n",
       "    </tr>\n",
       "    <tr>\n",
       "      <th>2</th>\n",
       "      <td>www.laptopservice.fr</td>\n",
       "      <td>519216188</td>\n",
       "      <td>web</td>\n",
       "      <td>['PrestaShop']</td>\n",
       "      <td>https://www.laptopservice.fr/</td>\n",
       "      <td>1.0</td>\n",
       "      <td>200.0</td>\n",
       "    </tr>\n",
       "    <tr>\n",
       "      <th>3</th>\n",
       "      <td>www.toutespiecesanspermis.fr</td>\n",
       "      <td>382528958</td>\n",
       "      <td>web</td>\n",
       "      <td>['PrestaShop']</td>\n",
       "      <td>https://www.toutespiecesanspermis.fr/</td>\n",
       "      <td>1.0</td>\n",
       "      <td>200.0</td>\n",
       "    </tr>\n",
       "    <tr>\n",
       "      <th>4</th>\n",
       "      <td>www.studiosport.fr</td>\n",
       "      <td>495049132</td>\n",
       "      <td>web</td>\n",
       "      <td>['OpenCart']</td>\n",
       "      <td>https://www.studiosport.fr/</td>\n",
       "      <td>1.0</td>\n",
       "      <td>200.0</td>\n",
       "    </tr>\n",
       "  </tbody>\n",
       "</table>\n",
       "</div>"
      ],
      "text/plain": [
       "                         domain      siren origin           wapps  \\\n",
       "0               www.easypets.fr  530772565   warc  ['PrestaShop']   \n",
       "1                     www.a4.fr  388336000    web     ['Magento']   \n",
       "2          www.laptopservice.fr  519216188    web  ['PrestaShop']   \n",
       "3  www.toutespiecesanspermis.fr  382528958    web  ['PrestaShop']   \n",
       "4            www.studiosport.fr  495049132    web    ['OpenCart']   \n",
       "\n",
       "                                 Website  https  status  \n",
       "0            https://www.easypets.fr/fr/    1.0   200.0  \n",
       "1                     https://www.a4.fr/    1.0   200.0  \n",
       "2          https://www.laptopservice.fr/    1.0   200.0  \n",
       "3  https://www.toutespiecesanspermis.fr/    1.0   200.0  \n",
       "4            https://www.studiosport.fr/    1.0   200.0  "
      ]
     },
     "execution_count": 37,
     "metadata": {},
     "output_type": "execute_result"
    }
   ],
   "source": [
    "https_dima = pd.read_csv(\"/project/1_feature_extraction/extract_https/sirens_final_https.csv\")\n",
    "#https.set_index('domain', inplace = True)\n",
    "print(https_dima.shape)\n",
    "https_dima.head()"
   ]
  },
  {
   "cell_type": "code",
   "execution_count": 78,
   "metadata": {},
   "outputs": [
    {
     "name": "stdout",
     "output_type": "stream",
     "text": [
      "(3573, 2)\n"
     ]
    },
    {
     "data": {
      "text/html": [
       "<div>\n",
       "<style scoped>\n",
       "    .dataframe tbody tr th:only-of-type {\n",
       "        vertical-align: middle;\n",
       "    }\n",
       "\n",
       "    .dataframe tbody tr th {\n",
       "        vertical-align: top;\n",
       "    }\n",
       "\n",
       "    .dataframe thead th {\n",
       "        text-align: right;\n",
       "    }\n",
       "</style>\n",
       "<table border=\"1\" class=\"dataframe\">\n",
       "  <thead>\n",
       "    <tr style=\"text-align: right;\">\n",
       "      <th></th>\n",
       "      <th>Website</th>\n",
       "      <th>https</th>\n",
       "    </tr>\n",
       "    <tr>\n",
       "      <th>siren</th>\n",
       "      <th></th>\n",
       "      <th></th>\n",
       "    </tr>\n",
       "  </thead>\n",
       "  <tbody>\n",
       "    <tr>\n",
       "      <th>6580195</th>\n",
       "      <td>offline</td>\n",
       "      <td>NaN</td>\n",
       "    </tr>\n",
       "    <tr>\n",
       "      <th>7220338</th>\n",
       "      <td>https://www.vannerie-du-boisle.fr/</td>\n",
       "      <td>1.0</td>\n",
       "    </tr>\n",
       "    <tr>\n",
       "      <th>15751530</th>\n",
       "      <td>offline</td>\n",
       "      <td>NaN</td>\n",
       "    </tr>\n",
       "    <tr>\n",
       "      <th>57813677</th>\n",
       "      <td>https://www.empereur.fr/</td>\n",
       "      <td>1.0</td>\n",
       "    </tr>\n",
       "    <tr>\n",
       "      <th>65501850</th>\n",
       "      <td>offline</td>\n",
       "      <td>NaN</td>\n",
       "    </tr>\n",
       "  </tbody>\n",
       "</table>\n",
       "</div>"
      ],
      "text/plain": [
       "                                     Website  https\n",
       "siren                                              \n",
       "6580195                              offline    NaN\n",
       "7220338   https://www.vannerie-du-boisle.fr/    1.0\n",
       "15751530                             offline    NaN\n",
       "57813677            https://www.empereur.fr/    1.0\n",
       "65501850                             offline    NaN"
      ]
     },
     "execution_count": 78,
     "metadata": {},
     "output_type": "execute_result"
    }
   ],
   "source": [
    "### take care of multiple sirens in https_dima, limit to size of dataframe for analysis\n",
    "# apply rule that if one of the domains for a shop has got an https flag it is assumed that\n",
    "# the entire siren with all its domains is using this protocol\n",
    "https_dima_unique = https_dima.groupby('siren')['Website', 'https'].max().reset_index()\n",
    "https_dima_unique.set_index('siren', inplace = True)\n",
    "print(https_dima_unique.shape)\n",
    "https_dima_unique.head()"
   ]
  },
  {
   "cell_type": "code",
   "execution_count": 79,
   "metadata": {},
   "outputs": [
    {
     "name": "stdout",
     "output_type": "stream",
     "text": [
      "Features Shape:  (3063, 36)\n",
      "HttpsFlag Subset:  (3063, 2)\n"
     ]
    },
    {
     "data": {
      "text/html": [
       "<div>\n",
       "<style scoped>\n",
       "    .dataframe tbody tr th:only-of-type {\n",
       "        vertical-align: middle;\n",
       "    }\n",
       "\n",
       "    .dataframe tbody tr th {\n",
       "        vertical-align: top;\n",
       "    }\n",
       "\n",
       "    .dataframe thead th {\n",
       "        text-align: right;\n",
       "    }\n",
       "</style>\n",
       "<table border=\"1\" class=\"dataframe\">\n",
       "  <thead>\n",
       "    <tr style=\"text-align: right;\">\n",
       "      <th></th>\n",
       "      <th>https_flag</th>\n",
       "      <th>label</th>\n",
       "    </tr>\n",
       "    <tr>\n",
       "      <th>siren</th>\n",
       "      <th></th>\n",
       "      <th></th>\n",
       "    </tr>\n",
       "  </thead>\n",
       "  <tbody>\n",
       "    <tr>\n",
       "      <th>530772565</th>\n",
       "      <td>1</td>\n",
       "      <td>1</td>\n",
       "    </tr>\n",
       "    <tr>\n",
       "      <th>388336000</th>\n",
       "      <td>1</td>\n",
       "      <td>0</td>\n",
       "    </tr>\n",
       "    <tr>\n",
       "      <th>519216188</th>\n",
       "      <td>1</td>\n",
       "      <td>0</td>\n",
       "    </tr>\n",
       "    <tr>\n",
       "      <th>382528958</th>\n",
       "      <td>0</td>\n",
       "      <td>0</td>\n",
       "    </tr>\n",
       "    <tr>\n",
       "      <th>495049132</th>\n",
       "      <td>1</td>\n",
       "      <td>0</td>\n",
       "    </tr>\n",
       "  </tbody>\n",
       "</table>\n",
       "</div>"
      ],
      "text/plain": [
       "           https_flag  label\n",
       "siren                       \n",
       "530772565           1      1\n",
       "388336000           1      0\n",
       "519216188           1      0\n",
       "382528958           0      0\n",
       "495049132           1      0"
      ]
     },
     "execution_count": 79,
     "metadata": {},
     "output_type": "execute_result"
    }
   ],
   "source": [
    "### READ DATA\n",
    "features = pd.read_csv(\"/project/1_feature_extraction/output_feature_extraction/final/features_all.csv\")\n",
    "features.rename(columns={features.columns[0]: 'siren'}, inplace=True)\n",
    "features.set_index('siren', inplace = True)\n",
    "print(\"Features Shape: \", features.shape)\n",
    "features.head()\n",
    "\n",
    "http_original = features[['https_flag', 'label']]\n",
    "print(\"HttpsFlag Subset: \", http_original.shape)\n",
    "\n",
    "http_original.head()"
   ]
  },
  {
   "cell_type": "code",
   "execution_count": 80,
   "metadata": {},
   "outputs": [
    {
     "name": "stdout",
     "output_type": "stream",
     "text": [
      "(3063, 4)\n"
     ]
    },
    {
     "data": {
      "text/html": [
       "<div>\n",
       "<style scoped>\n",
       "    .dataframe tbody tr th:only-of-type {\n",
       "        vertical-align: middle;\n",
       "    }\n",
       "\n",
       "    .dataframe tbody tr th {\n",
       "        vertical-align: top;\n",
       "    }\n",
       "\n",
       "    .dataframe thead th {\n",
       "        text-align: right;\n",
       "    }\n",
       "</style>\n",
       "<table border=\"1\" class=\"dataframe\">\n",
       "  <thead>\n",
       "    <tr style=\"text-align: right;\">\n",
       "      <th></th>\n",
       "      <th>https_flag</th>\n",
       "      <th>label</th>\n",
       "      <th>Website</th>\n",
       "      <th>https</th>\n",
       "    </tr>\n",
       "    <tr>\n",
       "      <th>siren</th>\n",
       "      <th></th>\n",
       "      <th></th>\n",
       "      <th></th>\n",
       "      <th></th>\n",
       "    </tr>\n",
       "  </thead>\n",
       "  <tbody>\n",
       "    <tr>\n",
       "      <th>530772565</th>\n",
       "      <td>1</td>\n",
       "      <td>1</td>\n",
       "      <td>https://www.easypets.fr/fr/</td>\n",
       "      <td>1.0</td>\n",
       "    </tr>\n",
       "    <tr>\n",
       "      <th>388336000</th>\n",
       "      <td>1</td>\n",
       "      <td>0</td>\n",
       "      <td>offline</td>\n",
       "      <td>1.0</td>\n",
       "    </tr>\n",
       "    <tr>\n",
       "      <th>519216188</th>\n",
       "      <td>1</td>\n",
       "      <td>0</td>\n",
       "      <td>https://www.laptopservice.fr/</td>\n",
       "      <td>1.0</td>\n",
       "    </tr>\n",
       "    <tr>\n",
       "      <th>382528958</th>\n",
       "      <td>0</td>\n",
       "      <td>0</td>\n",
       "      <td>https://www.toutespiecesanspermis.fr/</td>\n",
       "      <td>1.0</td>\n",
       "    </tr>\n",
       "    <tr>\n",
       "      <th>495049132</th>\n",
       "      <td>1</td>\n",
       "      <td>0</td>\n",
       "      <td>https://www.studiosport.fr/</td>\n",
       "      <td>1.0</td>\n",
       "    </tr>\n",
       "  </tbody>\n",
       "</table>\n",
       "</div>"
      ],
      "text/plain": [
       "           https_flag  label                                Website  https\n",
       "siren                                                                     \n",
       "530772565           1      1            https://www.easypets.fr/fr/    1.0\n",
       "388336000           1      0                                offline    1.0\n",
       "519216188           1      0          https://www.laptopservice.fr/    1.0\n",
       "382528958           0      0  https://www.toutespiecesanspermis.fr/    1.0\n",
       "495049132           1      0            https://www.studiosport.fr/    1.0"
      ]
     },
     "execution_count": 80,
     "metadata": {},
     "output_type": "execute_result"
    }
   ],
   "source": [
    "# join on sirens, left join on data used in the analysis\n",
    "https_join=http_original.join(https_dima_unique)\n",
    "print(https_join.shape)\n",
    "https_join.head()"
   ]
  },
  {
   "cell_type": "code",
   "execution_count": 81,
   "metadata": {},
   "outputs": [
    {
     "data": {
      "text/html": [
       "<div>\n",
       "<style scoped>\n",
       "    .dataframe tbody tr th:only-of-type {\n",
       "        vertical-align: middle;\n",
       "    }\n",
       "\n",
       "    .dataframe tbody tr th {\n",
       "        vertical-align: top;\n",
       "    }\n",
       "\n",
       "    .dataframe thead th {\n",
       "        text-align: right;\n",
       "    }\n",
       "</style>\n",
       "<table border=\"1\" class=\"dataframe\">\n",
       "  <thead>\n",
       "    <tr style=\"text-align: right;\">\n",
       "      <th></th>\n",
       "      <th>https_flag</th>\n",
       "      <th>label</th>\n",
       "      <th>Website</th>\n",
       "      <th>https</th>\n",
       "    </tr>\n",
       "    <tr>\n",
       "      <th>siren</th>\n",
       "      <th></th>\n",
       "      <th></th>\n",
       "      <th></th>\n",
       "      <th></th>\n",
       "    </tr>\n",
       "  </thead>\n",
       "  <tbody>\n",
       "    <tr>\n",
       "      <th>530772565</th>\n",
       "      <td>1</td>\n",
       "      <td>1</td>\n",
       "      <td>https://www.easypets.fr/fr/</td>\n",
       "      <td>1</td>\n",
       "    </tr>\n",
       "    <tr>\n",
       "      <th>388336000</th>\n",
       "      <td>1</td>\n",
       "      <td>0</td>\n",
       "      <td>offline</td>\n",
       "      <td>1</td>\n",
       "    </tr>\n",
       "    <tr>\n",
       "      <th>519216188</th>\n",
       "      <td>1</td>\n",
       "      <td>0</td>\n",
       "      <td>https://www.laptopservice.fr/</td>\n",
       "      <td>1</td>\n",
       "    </tr>\n",
       "    <tr>\n",
       "      <th>382528958</th>\n",
       "      <td>0</td>\n",
       "      <td>0</td>\n",
       "      <td>https://www.toutespiecesanspermis.fr/</td>\n",
       "      <td>1</td>\n",
       "    </tr>\n",
       "    <tr>\n",
       "      <th>495049132</th>\n",
       "      <td>1</td>\n",
       "      <td>0</td>\n",
       "      <td>https://www.studiosport.fr/</td>\n",
       "      <td>1</td>\n",
       "    </tr>\n",
       "  </tbody>\n",
       "</table>\n",
       "</div>"
      ],
      "text/plain": [
       "           https_flag  label                                Website https\n",
       "siren                                                                    \n",
       "530772565           1      1            https://www.easypets.fr/fr/     1\n",
       "388336000           1      0                                offline     1\n",
       "519216188           1      0          https://www.laptopservice.fr/     1\n",
       "382528958           0      0  https://www.toutespiecesanspermis.fr/     1\n",
       "495049132           1      0            https://www.studiosport.fr/     1"
      ]
     },
     "execution_count": 81,
     "metadata": {},
     "output_type": "execute_result"
    }
   ],
   "source": [
    "https_join = https_join.replace(np.nan, 'offline')\n",
    "https_join.head()"
   ]
  },
  {
   "cell_type": "code",
   "execution_count": 82,
   "metadata": {},
   "outputs": [
    {
     "data": {
      "text/plain": [
       "https_flag  https  \n",
       "0           0.0         202\n",
       "            1.0        1035\n",
       "            offline     648\n",
       "1           0.0          18\n",
       "            1.0        1120\n",
       "            offline      40\n",
       "dtype: int64"
      ]
     },
     "execution_count": 82,
     "metadata": {},
     "output_type": "execute_result"
    }
   ],
   "source": [
    "https_join.groupby(['https_flag', 'https']).size().squeeze()"
   ]
  },
  {
   "cell_type": "code",
   "execution_count": 89,
   "metadata": {},
   "outputs": [
    {
     "data": {
      "text/html": [
       "<div>\n",
       "<style scoped>\n",
       "    .dataframe tbody tr th:only-of-type {\n",
       "        vertical-align: middle;\n",
       "    }\n",
       "\n",
       "    .dataframe tbody tr th {\n",
       "        vertical-align: top;\n",
       "    }\n",
       "\n",
       "    .dataframe thead th {\n",
       "        text-align: right;\n",
       "    }\n",
       "</style>\n",
       "<table border=\"1\" class=\"dataframe\">\n",
       "  <thead>\n",
       "    <tr style=\"text-align: right;\">\n",
       "      <th></th>\n",
       "      <th>https_flag</th>\n",
       "      <th>label</th>\n",
       "      <th>Website</th>\n",
       "      <th>https</th>\n",
       "      <th>https_merge</th>\n",
       "    </tr>\n",
       "    <tr>\n",
       "      <th>siren</th>\n",
       "      <th></th>\n",
       "      <th></th>\n",
       "      <th></th>\n",
       "      <th></th>\n",
       "      <th></th>\n",
       "    </tr>\n",
       "  </thead>\n",
       "  <tbody>\n",
       "    <tr>\n",
       "      <th>530772565</th>\n",
       "      <td>1</td>\n",
       "      <td>1</td>\n",
       "      <td>https://www.easypets.fr/fr/</td>\n",
       "      <td>1</td>\n",
       "      <td>1.0</td>\n",
       "    </tr>\n",
       "    <tr>\n",
       "      <th>388336000</th>\n",
       "      <td>1</td>\n",
       "      <td>0</td>\n",
       "      <td>offline</td>\n",
       "      <td>1</td>\n",
       "      <td>1.0</td>\n",
       "    </tr>\n",
       "    <tr>\n",
       "      <th>519216188</th>\n",
       "      <td>1</td>\n",
       "      <td>0</td>\n",
       "      <td>https://www.laptopservice.fr/</td>\n",
       "      <td>1</td>\n",
       "      <td>1.0</td>\n",
       "    </tr>\n",
       "    <tr>\n",
       "      <th>382528958</th>\n",
       "      <td>0</td>\n",
       "      <td>0</td>\n",
       "      <td>https://www.toutespiecesanspermis.fr/</td>\n",
       "      <td>1</td>\n",
       "      <td>1.0</td>\n",
       "    </tr>\n",
       "    <tr>\n",
       "      <th>495049132</th>\n",
       "      <td>1</td>\n",
       "      <td>0</td>\n",
       "      <td>https://www.studiosport.fr/</td>\n",
       "      <td>1</td>\n",
       "      <td>1.0</td>\n",
       "    </tr>\n",
       "  </tbody>\n",
       "</table>\n",
       "</div>"
      ],
      "text/plain": [
       "           https_flag  label                                Website https  \\\n",
       "siren                                                                       \n",
       "530772565           1      1            https://www.easypets.fr/fr/     1   \n",
       "388336000           1      0                                offline     1   \n",
       "519216188           1      0          https://www.laptopservice.fr/     1   \n",
       "382528958           0      0  https://www.toutespiecesanspermis.fr/     1   \n",
       "495049132           1      0            https://www.studiosport.fr/     1   \n",
       "\n",
       "           https_merge  \n",
       "siren                   \n",
       "530772565          1.0  \n",
       "388336000          1.0  \n",
       "519216188          1.0  \n",
       "382528958          1.0  \n",
       "495049132          1.0  "
      ]
     },
     "execution_count": 89,
     "metadata": {},
     "output_type": "execute_result"
    }
   ],
   "source": [
    "# define rules for reclassification:\n",
    "# new data takes precedence over warc, if new empty, then keep previous flag\n",
    "new = []\n",
    "for i in range(len(https_join)):\n",
    "    if https_join.iloc[i, 3] == \"offline\":\n",
    "        new.append(https_join.iloc[i, 0])\n",
    "    else:\n",
    "        new.append(https_join.iloc[i, 3])\n",
    "    \n",
    "https_join['https_merge']=new\n",
    "\n",
    "# save as csv\n",
    "https_join.to_csv('https_merged.csv')\n",
    "\n",
    "https_join.head()"
   ]
  },
  {
   "cell_type": "code",
   "execution_count": 74,
   "metadata": {},
   "outputs": [
    {
     "data": {
      "text/plain": [
       "2195.0"
      ]
     },
     "execution_count": 74,
     "metadata": {},
     "output_type": "execute_result"
    }
   ],
   "source": [
    "https_join['https_merge'].sum()"
   ]
  },
  {
   "cell_type": "code",
   "execution_count": 87,
   "metadata": {},
   "outputs": [
    {
     "data": {
      "image/png": "[encoded data removed]",
      "text/plain": [
       "<Figure size 432x288 with 1 Axes>"
      ]
     },
     "metadata": {
      "needs_background": "light"
     },
     "output_type": "display_data"
    },
    {
     "data": {
      "image/png": "[encoded data removed]",
      "text/plain": [
       "<Figure size 432x288 with 1 Axes>"
      ]
     },
     "metadata": {
      "needs_background": "light"
     },
     "output_type": "display_data"
    }
   ],
   "source": [
    "import matplotlib.pyplot as plt\n",
    "data = https_join.groupby(['https_merge', 'label']).size().squeeze().unstack()\n",
    "\n",
    "\n",
    "\n",
    "#features.groupby([col, 'label']).size().squeeze().unstack()\n",
    "data.plot(kind='bar')#, stacked=True)\n",
    "plt.savefig(\"/project/2_exploration/output_exploration/https_update_abs.png\")\n",
    "\n",
    "#normalize to percentage of values per category class, plot side by side with the absolute values\n",
    "d = data.apply(lambda x: x/x.sum())\n",
    "d.plot(kind='bar')#, stacked=True)\n",
    "plt.savefig(\"/project/2_exploration/output_exploration/https_update_perc.png\")"
   ]
  },
  {
   "cell_type": "code",
   "execution_count": null,
   "metadata": {},
   "outputs": [],
   "source": []
  }
 ],
 "metadata": {
  "kernelspec": {
   "display_name": "Python 3",
   "language": "python",
   "name": "python3"
  },
  "language_info": {
   "codemirror_mode": {
    "name": "ipython",
    "version": 3
   },
   "file_extension": ".py",
   "mimetype": "text/x-python",
   "name": "python",
   "nbconvert_exporter": "python",
   "pygments_lexer": "ipython3",
   "version": "3.7.3"
  }
 },
 "nbformat": 4,
 "nbformat_minor": 2
}
