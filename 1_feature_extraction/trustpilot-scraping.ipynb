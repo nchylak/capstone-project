{
 "cells": [
  {
   "cell_type": "code",
   "execution_count": 1,
   "metadata": {
    "ExecuteTime": {
     "end_time": "2019-05-21T20:21:31.516538Z",
     "start_time": "2019-05-21T20:21:31.181327Z"
    }
   },
   "outputs": [],
   "source": [
    "import pandas as pd\n",
    "import requests\n",
    "from lxml.html import fromstring\n",
    "from itertools import cycle\n",
    "import traceback\n",
    "import time\n",
    "from bs4 import BeautifulSoup\n",
    "import urllib.request\n",
    "import random\n",
    "from tqdm import tqdm"
   ]
  },
  {
   "cell_type": "code",
   "execution_count": 2,
   "metadata": {
    "ExecuteTime": {
     "end_time": "2019-05-21T20:21:33.654370Z",
     "start_time": "2019-05-21T20:21:33.624204Z"
    },
    "scrolled": true
   },
   "outputs": [
    {
     "data": {
      "text/plain": [
       "(3767, 2)"
      ]
     },
     "execution_count": 2,
     "metadata": {},
     "output_type": "execute_result"
    }
   ],
   "source": [
    "domain_sirens = pd.read_csv('/project/0_cleaning/output_cleaning/sirens_final.csv')\n",
    "domains = domain_sirens['domain'].tolist()\n",
    "domain_sirens.shape"
   ]
  },
  {
   "cell_type": "code",
   "execution_count": 3,
   "metadata": {
    "ExecuteTime": {
     "end_time": "2019-05-21T17:47:57.913220Z",
     "start_time": "2019-05-21T17:47:57.905233Z"
    }
   },
   "outputs": [],
   "source": [
    "def json_save(obj, name):\n",
    "    json_content = json.dumps(obj)\n",
    "    f = open(f\"{name}.json\",\"w\")\n",
    "    f.write(json_content)\n",
    "    f.close()"
   ]
  },
  {
   "cell_type": "code",
   "execution_count": 80,
   "metadata": {
    "ExecuteTime": {
     "end_time": "2019-05-21T16:59:44.150775Z",
     "start_time": "2019-05-21T16:59:44.084260Z"
    }
   },
   "outputs": [
    {
     "name": "stdout",
     "output_type": "stream",
     "text": [
      "{'51.77.210.229:3128'}\n"
     ]
    }
   ],
   "source": [
    "def get_proxies():\n",
    "    url = 'https://free-proxy-list.net/'\n",
    "    response = requests.get(url)\n",
    "    parser = fromstring(response.text)\n",
    "    proxies = set()\n",
    "    for i in parser.xpath('//tbody/tr')[:10]:\n",
    "        if i.xpath('.//td[7][contains(text(),\"yes\")]'):\n",
    "            #Grabbing IP and corresponding PORT\n",
    "            proxy = \":\".join([i.xpath('.//td[1]/text()')[0], i.xpath('.//td[2]/text()')[0]])\n",
    "            proxies.add(proxy)\n",
    "    return proxies\n",
    "\n",
    "proxies = get_proxies()\n",
    "print(proxies)"
   ]
  },
  {
   "cell_type": "code",
   "execution_count": 5,
   "metadata": {
    "ExecuteTime": {
     "end_time": "2019-05-21T20:13:46.938121Z",
     "start_time": "2019-05-21T17:53:32.074165Z"
    }
   },
   "outputs": [
    {
     "name": "stderr",
     "output_type": "stream",
     "text": [
      "3767it [2:20:14,  2.18s/it]\n"
     ]
    }
   ],
   "source": [
    "#proxy_pool = cycle(proxies)\n",
    "domains_info = []\n",
    "\n",
    "url_static = 'https://fr.trustpilot.com/review/'\n",
    "for i, domain in tqdm(enumerate(domains)):\n",
    "    \n",
    "    # URL to request\n",
    "    url = url_static + domain\n",
    "    \n",
    "    # Get a proxy from the pool\n",
    "    #proxy = next(proxy_pool)\n",
    "    \n",
    "    try:\n",
    "        response = requests.get(url, timeout=5)#,proxies={\"http\": proxy, \"https\": proxy})\n",
    "        parsed_html = BeautifulSoup(response.content, \"html.parser\")\n",
    "        \n",
    "    except:\n",
    "        general = ''\n",
    "        email = ''\n",
    "        telephone = ''\n",
    "        agg_rating = ''\n",
    "        industry = ''\n",
    "    \n",
    "    else:\n",
    "        try:\n",
    "            general = parsed_html.find(attrs={\"data-initial-state\": \"business-unit-info\"}).get_text().strip('\\n')\n",
    "            general = json.loads(general)\n",
    "        except:\n",
    "            general = ''\n",
    "\n",
    "        try:\n",
    "            email = parsed_html.find(attrs={\"type\": \"application/ld+json\"}).get_text().split('\"email\":')[1].split(\",\")[0].strip('\"')\n",
    "        except:\n",
    "            email = ''\n",
    "\n",
    "        try:\n",
    "            telephone = parsed_html.find(attrs={\"type\": \"application/ld+json\"}).get_text().split('\"telephone\":')[1].split(\",\")[0].strip('\"')\n",
    "        except:\n",
    "            telephone = ''\n",
    "\n",
    "        try:\n",
    "            agg_rating = parsed_html.find(attrs={\"type\": \"application/ld+json\"}).get_text().split('\"aggregateRating\":')[1].split(\"},\")[0] + '}'\n",
    "            agg_rating = json.loads(agg_rating)\n",
    "        except:\n",
    "            agg_rating = ''\n",
    "\n",
    "        try:\n",
    "            industry = parsed_html.find(attrs={\"data-initial-state\": \"business-unit-tracking-properties\"}).get_text()\n",
    "            industry = json.loads(industry)\n",
    "        except:\n",
    "            industry = ''\n",
    "            \n",
    "    finally:\n",
    "        domains_info.append({\n",
    "            'domain': domain,\n",
    "            'general': general,\n",
    "            'email': email,\n",
    "            'telephone': telephone,\n",
    "            'agg_rating': agg_rating,\n",
    "            'industry': industry\n",
    "        })\n",
    "        json_save(domains_info, 'trustpilot')\n",
    "           \n",
    "    time.sleep(2)\n"
   ]
  },
  {
   "cell_type": "code",
   "execution_count": 7,
   "metadata": {
    "ExecuteTime": {
     "end_time": "2019-05-21T20:16:14.143240Z",
     "start_time": "2019-05-21T20:16:14.136225Z"
    }
   },
   "outputs": [
    {
     "data": {
      "text/plain": [
       "3767"
      ]
     },
     "execution_count": 7,
     "metadata": {},
     "output_type": "execute_result"
    }
   ],
   "source": [
    "len(domains_info)"
   ]
  }
 ],
 "metadata": {
  "kernelspec": {
   "display_name": "Python 3",
   "language": "python",
   "name": "python3"
  },
  "language_info": {
   "codemirror_mode": {
    "name": "ipython",
    "version": 3
   },
   "file_extension": ".py",
   "mimetype": "text/x-python",
   "name": "python",
   "nbconvert_exporter": "python",
   "pygments_lexer": "ipython3",
   "version": "3.6.5"
  },
  "toc": {
   "base_numbering": 1,
   "nav_menu": {},
   "number_sections": true,
   "sideBar": true,
   "skip_h1_title": false,
   "title_cell": "Table of Contents",
   "title_sidebar": "Contents",
   "toc_cell": false,
   "toc_position": {},
   "toc_section_display": true,
   "toc_window_display": true
  },
  "varInspector": {
   "cols": {
    "lenName": 16,
    "lenType": 16,
    "lenVar": 40
   },
   "kernels_config": {
    "python": {
     "delete_cmd_postfix": "",
     "delete_cmd_prefix": "del ",
     "library": "var_list.py",
     "varRefreshCmd": "print(var_dic_list())"
    },
    "r": {
     "delete_cmd_postfix": ") ",
     "delete_cmd_prefix": "rm(",
     "library": "var_list.r",
     "varRefreshCmd": "cat(var_dic_list()) "
    }
   },
   "types_to_exclude": [
    "module",
    "function",
    "builtin_function_or_method",
    "instance",
    "_Feature"
   ],
   "window_display": false
  }
 },
 "nbformat": 4,
 "nbformat_minor": 2
}
