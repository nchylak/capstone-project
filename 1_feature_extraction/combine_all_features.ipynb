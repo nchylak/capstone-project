{
 "cells": [
  {
   "cell_type": "code",
   "execution_count": 1,
   "metadata": {
    "ExecuteTime": {
     "end_time": "2019-05-26T18:24:14.343658Z",
     "start_time": "2019-05-26T18:24:14.095414Z"
    }
   },
   "outputs": [],
   "source": [
    "import pandas as pd\n",
    "import numpy as np\n",
    "import os"
   ]
  },
  {
   "cell_type": "code",
   "execution_count": 2,
   "metadata": {
    "ExecuteTime": {
     "end_time": "2019-05-26T18:24:14.349244Z",
     "start_time": "2019-05-26T18:24:14.345139Z"
    }
   },
   "outputs": [],
   "source": [
    "sirens = np.load('/project/0_cleaning/output_cleaning/sirens.npy').astype(int)"
   ]
  },
  {
   "cell_type": "code",
   "execution_count": 3,
   "metadata": {
    "ExecuteTime": {
     "end_time": "2019-05-26T18:24:14.415070Z",
     "start_time": "2019-05-26T18:24:14.350612Z"
    }
   },
   "outputs": [
    {
     "name": "stdout",
     "output_type": "stream",
     "text": [
      "Adding financial_ratios.csv with shape (3573, 9)\n",
      "New shape is (3573, 9)\n",
      "-----------------\n",
      "Adding labels.csv with shape (3573, 1)\n",
      "New shape is (3573, 10)\n",
      "-----------------\n",
      "Adding languages.csv with shape (3573, 2)\n",
      "New shape is (3573, 12)\n",
      "-----------------\n",
      "Adding features_from_db.csv with shape (3573, 10)\n",
      "New shape is (3573, 22)\n",
      "-----------------\n",
      "Adding features_from_warcs.csv with shape (3573, 6)\n",
      "New shape is (3573, 28)\n",
      "-----------------\n",
      "Adding features_from_db_bin.csv with shape (3573, 2)\n",
      "New shape is (3573, 30)\n",
      "-----------------\n",
      "Adding nb_domains.csv with shape (3573, 1)\n",
      "New shape is (3573, 31)\n",
      "-----------------\n",
      "Adding BinaryTechFeatures.csv with shape (3573, 6)\n",
      "New shape is (3573, 37)\n",
      "-----------------\n",
      "Adding ecommerce.csv with shape (3573, 1)\n",
      "New shape is (3573, 38)\n",
      "-----------------\n",
      "Adding trustpilot_features.csv with shape (3573, 2)\n",
      "New shape is (3573, 40)\n",
      "-----------------\n"
     ]
    }
   ],
   "source": [
    "path = '/project/1_feature_extraction/output_feature_extraction/'\n",
    "\n",
    "features = pd.DataFrame(index=sirens)\n",
    "for i, file in enumerate(os.listdir(path)):\n",
    "    if file != 'final' and file != '.ipynb_checkpoints':\n",
    "        df = pd.read_csv(path + file, index_col=0)\n",
    "        features = pd.merge(features, df, left_index=True, right_index=True, how='left')\n",
    "        print(f'Adding {file} with shape {df.shape}')\n",
    "        print(f'New shape is {features.shape}')\n",
    "        print('-----------------')"
   ]
  },
  {
   "cell_type": "code",
   "execution_count": 4,
   "metadata": {
    "ExecuteTime": {
     "end_time": "2019-05-26T18:24:14.526165Z",
     "start_time": "2019-05-26T18:24:14.416551Z"
    }
   },
   "outputs": [
    {
     "data": {
      "text/plain": [
       "(3063, 38)"
      ]
     },
     "execution_count": 4,
     "metadata": {},
     "output_type": "execute_result"
    }
   ],
   "source": [
    "features_copy = features.copy()\n",
    "features_copy = features_copy[(features_copy['personality_type']==0) & (features_copy['ccy_capital']=='EUR')] # Keep only PM as only one PP went bankrupt\n",
    "features_copy.drop(columns=['personality_type','ccy_capital'], inplace=True)\n",
    "features_copy.to_csv(path + 'final/features_all.csv')\n",
    "features_copy.shape"
   ]
  },
  {
   "cell_type": "code",
   "execution_count": 5,
   "metadata": {
    "ExecuteTime": {
     "end_time": "2019-05-26T18:24:14.542672Z",
     "start_time": "2019-05-26T18:24:14.527301Z"
    }
   },
   "outputs": [
    {
     "data": {
      "text/html": [
       "<div>\n",
       "<style scoped>\n",
       "    .dataframe tbody tr th:only-of-type {\n",
       "        vertical-align: middle;\n",
       "    }\n",
       "\n",
       "    .dataframe tbody tr th {\n",
       "        vertical-align: top;\n",
       "    }\n",
       "\n",
       "    .dataframe thead th {\n",
       "        text-align: right;\n",
       "    }\n",
       "</style>\n",
       "<table border=\"1\" class=\"dataframe\">\n",
       "  <thead>\n",
       "    <tr style=\"text-align: right;\">\n",
       "      <th></th>\n",
       "      <th>LTdebt-to-equity</th>\n",
       "      <th>balance_sheet_type</th>\n",
       "      <th>current_ratio</th>\n",
       "      <th>debt-to-assets</th>\n",
       "      <th>debt-to-equity</th>\n",
       "      <th>debt-to-income</th>\n",
       "      <th>financial_leverage</th>\n",
       "      <th>profitability</th>\n",
       "      <th>quick_ratio</th>\n",
       "      <th>label</th>\n",
       "      <th>...</th>\n",
       "      <th>nb_domains</th>\n",
       "      <th>tech_cms</th>\n",
       "      <th>tech_widgets</th>\n",
       "      <th>tech_analytics</th>\n",
       "      <th>tech_enhanced_advertisment</th>\n",
       "      <th>tech_interactiveness</th>\n",
       "      <th>tech_enhanced_security</th>\n",
       "      <th>tech_ecommerce</th>\n",
       "      <th>nb_reviews</th>\n",
       "      <th>trust_score</th>\n",
       "    </tr>\n",
       "  </thead>\n",
       "  <tbody>\n",
       "    <tr>\n",
       "      <th>530772565</th>\n",
       "      <td>-0.487377</td>\n",
       "      <td>C</td>\n",
       "      <td>0.801049</td>\n",
       "      <td>1.152215</td>\n",
       "      <td>-7.569634</td>\n",
       "      <td>-7.883752</td>\n",
       "      <td>-6.569634</td>\n",
       "      <td>-0.032368</td>\n",
       "      <td>0.451459</td>\n",
       "      <td>1</td>\n",
       "      <td>...</td>\n",
       "      <td>2</td>\n",
       "      <td>1</td>\n",
       "      <td>1</td>\n",
       "      <td>1</td>\n",
       "      <td>1</td>\n",
       "      <td>1</td>\n",
       "      <td>0</td>\n",
       "      <td>PrestaShop</td>\n",
       "      <td>4876.0</td>\n",
       "      <td>5.6</td>\n",
       "    </tr>\n",
       "    <tr>\n",
       "      <th>388336000</th>\n",
       "      <td>0.023354</td>\n",
       "      <td>C</td>\n",
       "      <td>5.353047</td>\n",
       "      <td>0.196319</td>\n",
       "      <td>0.244274</td>\n",
       "      <td>2.250454</td>\n",
       "      <td>1.244274</td>\n",
       "      <td>0.041878</td>\n",
       "      <td>3.351257</td>\n",
       "      <td>0</td>\n",
       "      <td>...</td>\n",
       "      <td>3</td>\n",
       "      <td>1</td>\n",
       "      <td>0</td>\n",
       "      <td>1</td>\n",
       "      <td>0</td>\n",
       "      <td>0</td>\n",
       "      <td>0</td>\n",
       "      <td>Magento</td>\n",
       "      <td>NaN</td>\n",
       "      <td>NaN</td>\n",
       "    </tr>\n",
       "    <tr>\n",
       "      <th>519216188</th>\n",
       "      <td>0.770238</td>\n",
       "      <td>C</td>\n",
       "      <td>3.863614</td>\n",
       "      <td>0.569031</td>\n",
       "      <td>1.320353</td>\n",
       "      <td>1.501278</td>\n",
       "      <td>2.320353</td>\n",
       "      <td>0.079612</td>\n",
       "      <td>1.867462</td>\n",
       "      <td>0</td>\n",
       "      <td>...</td>\n",
       "      <td>1</td>\n",
       "      <td>0</td>\n",
       "      <td>0</td>\n",
       "      <td>0</td>\n",
       "      <td>1</td>\n",
       "      <td>0</td>\n",
       "      <td>1</td>\n",
       "      <td>PrestaShop</td>\n",
       "      <td>5.0</td>\n",
       "      <td>4.1</td>\n",
       "    </tr>\n",
       "    <tr>\n",
       "      <th>382528958</th>\n",
       "      <td>NaN</td>\n",
       "      <td>NaN</td>\n",
       "      <td>NaN</td>\n",
       "      <td>NaN</td>\n",
       "      <td>NaN</td>\n",
       "      <td>NaN</td>\n",
       "      <td>NaN</td>\n",
       "      <td>NaN</td>\n",
       "      <td>NaN</td>\n",
       "      <td>0</td>\n",
       "      <td>...</td>\n",
       "      <td>1</td>\n",
       "      <td>0</td>\n",
       "      <td>0</td>\n",
       "      <td>1</td>\n",
       "      <td>1</td>\n",
       "      <td>0</td>\n",
       "      <td>0</td>\n",
       "      <td>PrestaShop</td>\n",
       "      <td>NaN</td>\n",
       "      <td>NaN</td>\n",
       "    </tr>\n",
       "    <tr>\n",
       "      <th>495049132</th>\n",
       "      <td>0.259507</td>\n",
       "      <td>C</td>\n",
       "      <td>3.157351</td>\n",
       "      <td>0.433500</td>\n",
       "      <td>0.765336</td>\n",
       "      <td>7.902094</td>\n",
       "      <td>1.765483</td>\n",
       "      <td>0.010329</td>\n",
       "      <td>0.681631</td>\n",
       "      <td>0</td>\n",
       "      <td>...</td>\n",
       "      <td>1</td>\n",
       "      <td>0</td>\n",
       "      <td>1</td>\n",
       "      <td>1</td>\n",
       "      <td>1</td>\n",
       "      <td>0</td>\n",
       "      <td>0</td>\n",
       "      <td>Other</td>\n",
       "      <td>22534.0</td>\n",
       "      <td>9.2</td>\n",
       "    </tr>\n",
       "  </tbody>\n",
       "</table>\n",
       "<p>5 rows × 38 columns</p>\n",
       "</div>"
      ],
      "text/plain": [
       "           LTdebt-to-equity balance_sheet_type  current_ratio  debt-to-assets  \\\n",
       "530772565         -0.487377                  C       0.801049        1.152215   \n",
       "388336000          0.023354                  C       5.353047        0.196319   \n",
       "519216188          0.770238                  C       3.863614        0.569031   \n",
       "382528958               NaN                NaN            NaN             NaN   \n",
       "495049132          0.259507                  C       3.157351        0.433500   \n",
       "\n",
       "           debt-to-equity  debt-to-income  financial_leverage  profitability  \\\n",
       "530772565       -7.569634       -7.883752           -6.569634      -0.032368   \n",
       "388336000        0.244274        2.250454            1.244274       0.041878   \n",
       "519216188        1.320353        1.501278            2.320353       0.079612   \n",
       "382528958             NaN             NaN                 NaN            NaN   \n",
       "495049132        0.765336        7.902094            1.765483       0.010329   \n",
       "\n",
       "           quick_ratio  label  ...  nb_domains  tech_cms  tech_widgets  \\\n",
       "530772565     0.451459      1  ...           2         1             1   \n",
       "388336000     3.351257      0  ...           3         1             0   \n",
       "519216188     1.867462      0  ...           1         0             0   \n",
       "382528958          NaN      0  ...           1         0             0   \n",
       "495049132     0.681631      0  ...           1         0             1   \n",
       "\n",
       "          tech_analytics tech_enhanced_advertisment tech_interactiveness  \\\n",
       "530772565              1                          1                    1   \n",
       "388336000              1                          0                    0   \n",
       "519216188              0                          1                    0   \n",
       "382528958              1                          1                    0   \n",
       "495049132              1                          1                    0   \n",
       "\n",
       "          tech_enhanced_security tech_ecommerce  nb_reviews  trust_score  \n",
       "530772565                      0     PrestaShop      4876.0          5.6  \n",
       "388336000                      0        Magento         NaN          NaN  \n",
       "519216188                      1     PrestaShop         5.0          4.1  \n",
       "382528958                      0     PrestaShop         NaN          NaN  \n",
       "495049132                      0          Other     22534.0          9.2  \n",
       "\n",
       "[5 rows x 38 columns]"
      ]
     },
     "execution_count": 5,
     "metadata": {},
     "output_type": "execute_result"
    }
   ],
   "source": [
    "features_copy.head()"
   ]
  },
  {
   "cell_type": "code",
   "execution_count": 6,
   "metadata": {
    "ExecuteTime": {
     "end_time": "2019-05-26T18:24:14.548911Z",
     "start_time": "2019-05-26T18:24:14.543832Z"
    }
   },
   "outputs": [
    {
     "data": {
      "text/plain": [
       "Index(['LTdebt-to-equity', 'balance_sheet_type', 'current_ratio',\n",
       "       'debt-to-assets', 'debt-to-equity', 'debt-to-income',\n",
       "       'financial_leverage', 'profitability', 'quick_ratio', 'label',\n",
       "       'translation_in_english', 'nb_languages', 'employer', 'legal_form',\n",
       "       'type_capital', 'sub-region', 'region', 'activity_class',\n",
       "       'years_since_creation', 'amount_capital', 'https_flag',\n",
       "       'own_email_domain', 'trust_av_flag', 'trust_sag_flag', 'trust_ts_flag',\n",
       "       'trust_flag', 'region_bin', 'activity_class_bin', 'nb_domains',\n",
       "       'tech_cms', 'tech_widgets', 'tech_analytics',\n",
       "       'tech_enhanced_advertisment', 'tech_interactiveness',\n",
       "       'tech_enhanced_security', 'tech_ecommerce', 'nb_reviews',\n",
       "       'trust_score'],\n",
       "      dtype='object')"
      ]
     },
     "execution_count": 6,
     "metadata": {},
     "output_type": "execute_result"
    }
   ],
   "source": [
    "features_copy.columns"
   ]
  },
  {
   "cell_type": "code",
   "execution_count": 7,
   "metadata": {
    "ExecuteTime": {
     "end_time": "2019-05-26T18:24:14.555625Z",
     "start_time": "2019-05-26T18:24:14.549950Z"
    }
   },
   "outputs": [
    {
     "data": {
      "text/plain": [
       "89"
      ]
     },
     "execution_count": 7,
     "metadata": {},
     "output_type": "execute_result"
    }
   ],
   "source": [
    "features_copy['label'].sum()"
   ]
  }
 ],
 "metadata": {
  "kernelspec": {
   "display_name": "Python 3",
   "language": "python",
   "name": "python3"
  },
  "language_info": {
   "codemirror_mode": {
    "name": "ipython",
    "version": 3
   },
   "file_extension": ".py",
   "mimetype": "text/x-python",
   "name": "python",
   "nbconvert_exporter": "python",
   "pygments_lexer": "ipython3",
   "version": "3.7.3"
  },
  "toc": {
   "base_numbering": 1,
   "nav_menu": {},
   "number_sections": true,
   "sideBar": true,
   "skip_h1_title": false,
   "title_cell": "Table of Contents",
   "title_sidebar": "Contents",
   "toc_cell": false,
   "toc_position": {},
   "toc_section_display": true,
   "toc_window_display": false
  },
  "varInspector": {
   "cols": {
    "lenName": 16,
    "lenType": 16,
    "lenVar": 40
   },
   "kernels_config": {
    "python": {
     "delete_cmd_postfix": "",
     "delete_cmd_prefix": "del ",
     "library": "var_list.py",
     "varRefreshCmd": "print(var_dic_list())"
    },
    "r": {
     "delete_cmd_postfix": ") ",
     "delete_cmd_prefix": "rm(",
     "library": "var_list.r",
     "varRefreshCmd": "cat(var_dic_list()) "
    }
   },
   "types_to_exclude": [
    "module",
    "function",
    "builtin_function_or_method",
    "instance",
    "_Feature"
   ],
   "window_display": false
  }
 },
 "nbformat": 4,
 "nbformat_minor": 2
}
