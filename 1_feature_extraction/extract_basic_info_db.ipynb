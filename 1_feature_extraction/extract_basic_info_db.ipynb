{
 "cells": [
  {
   "cell_type": "code",
   "execution_count": 1,
   "metadata": {
    "ExecuteTime": {
     "end_time": "2019-05-20T11:19:46.525794Z",
     "start_time": "2019-05-20T11:19:46.264820Z"
    }
   },
   "outputs": [],
   "source": [
    "import json\n",
    "import pandas as pd\n",
    "import numpy as np\n",
    "import mysql.connector"
   ]
  },
  {
   "cell_type": "code",
   "execution_count": 2,
   "metadata": {
    "ExecuteTime": {
     "end_time": "2019-05-20T11:19:46.531219Z",
     "start_time": "2019-05-20T11:19:46.527310Z"
    }
   },
   "outputs": [],
   "source": [
    "def fetch_all(query):\n",
    "    connection = mysql.connector.connect(host='localhost', database='rncs', user='admin', password='Pg49mkMfF4SuLLbA')\n",
    "    cursor = connection.cursor(buffered=True)    \n",
    "    cursor.execute(query)\n",
    "    full = cursor.fetchall()\n",
    "    cursor.close()\n",
    "    connection.close()\n",
    "    return full"
   ]
  },
  {
   "cell_type": "markdown",
   "metadata": {},
   "source": [
    "# Extract basic info"
   ]
  },
  {
   "cell_type": "markdown",
   "metadata": {},
   "source": [
    "* Legal form OK\n",
    "* Main activity OK\n",
    "* Employer or not\n",
    "* Capitalisation OK\n",
    "* City of main establishment OK\n",
    "* ZIP code (for region) OK\n",
    "* Number of owners\n",
    "* Country of domicile of owners"
   ]
  },
  {
   "cell_type": "code",
   "execution_count": 3,
   "metadata": {
    "ExecuteTime": {
     "end_time": "2019-05-20T11:19:46.543460Z",
     "start_time": "2019-05-20T11:19:46.532685Z"
    }
   },
   "outputs": [
    {
     "data": {
      "text/plain": [
       "3573"
      ]
     },
     "execution_count": 3,
     "metadata": {},
     "output_type": "execute_result"
    }
   ],
   "source": [
    "sirens = np.load('/project/0_cleaning/output_cleaning/sirens.npy').tolist()\n",
    "len(sirens)"
   ]
  },
  {
   "cell_type": "code",
   "execution_count": 4,
   "metadata": {
    "ExecuteTime": {
     "end_time": "2019-05-20T11:19:46.823207Z",
     "start_time": "2019-05-20T11:19:46.546002Z"
    },
    "scrolled": true
   },
   "outputs": [
    {
     "data": {
      "text/html": [
       "<div>\n",
       "<style scoped>\n",
       "    .dataframe tbody tr th:only-of-type {\n",
       "        vertical-align: middle;\n",
       "    }\n",
       "\n",
       "    .dataframe tbody tr th {\n",
       "        vertical-align: top;\n",
       "    }\n",
       "\n",
       "    .dataframe thead th {\n",
       "        text-align: right;\n",
       "    }\n",
       "</style>\n",
       "<table border=\"1\" class=\"dataframe\">\n",
       "  <thead>\n",
       "    <tr style=\"text-align: right;\">\n",
       "      <th></th>\n",
       "      <th>siren</th>\n",
       "      <th>creation_date</th>\n",
       "      <th>size</th>\n",
       "      <th>main_activity</th>\n",
       "      <th>employer</th>\n",
       "      <th>zip</th>\n",
       "      <th>city</th>\n",
       "      <th>legal_form</th>\n",
       "      <th>type_capital</th>\n",
       "      <th>ccy_capital</th>\n",
       "      <th>capital</th>\n",
       "      <th>current_capital</th>\n",
       "    </tr>\n",
       "  </thead>\n",
       "  <tbody>\n",
       "    <tr>\n",
       "      <th>0</th>\n",
       "      <td>006580195</td>\n",
       "      <td>1965-01-01</td>\n",
       "      <td>PME</td>\n",
       "      <td>29.10Z</td>\n",
       "      <td>O</td>\n",
       "      <td>44600</td>\n",
       "      <td>SAINT NAZAIRE</td>\n",
       "      <td>Société par actions simplifiée</td>\n",
       "      <td>F</td>\n",
       "      <td>Euros</td>\n",
       "      <td>12474989.36</td>\n",
       "      <td></td>\n",
       "    </tr>\n",
       "    <tr>\n",
       "      <th>1</th>\n",
       "      <td>007220338</td>\n",
       "      <td>1964-01-01</td>\n",
       "      <td>PME</td>\n",
       "      <td>46.49Z</td>\n",
       "      <td>O</td>\n",
       "      <td>80150</td>\n",
       "      <td>LE BOISLE</td>\n",
       "      <td>Société par actions simplifiée</td>\n",
       "      <td>F</td>\n",
       "      <td>Euros</td>\n",
       "      <td>37000.0</td>\n",
       "      <td></td>\n",
       "    </tr>\n",
       "    <tr>\n",
       "      <th>2</th>\n",
       "      <td>015751530</td>\n",
       "      <td>1957-01-01</td>\n",
       "      <td>PME</td>\n",
       "      <td>10.72Z</td>\n",
       "      <td>O</td>\n",
       "      <td>21000</td>\n",
       "      <td>DIJON</td>\n",
       "      <td>Société anonyme à conseil d'administration</td>\n",
       "      <td>F</td>\n",
       "      <td>Euros</td>\n",
       "      <td>120000.0</td>\n",
       "      <td></td>\n",
       "    </tr>\n",
       "    <tr>\n",
       "      <th>3</th>\n",
       "      <td>057813677</td>\n",
       "      <td>1957-01-01</td>\n",
       "      <td>PME</td>\n",
       "      <td>47.52A</td>\n",
       "      <td>O</td>\n",
       "      <td>13001</td>\n",
       "      <td>MARSEILLE 1</td>\n",
       "      <td>Société par actions simplifiée</td>\n",
       "      <td>F</td>\n",
       "      <td>Euros</td>\n",
       "      <td>42000.0</td>\n",
       "      <td></td>\n",
       "    </tr>\n",
       "    <tr>\n",
       "      <th>4</th>\n",
       "      <td>065501850</td>\n",
       "      <td>1965-01-01</td>\n",
       "      <td>PME</td>\n",
       "      <td>47.78B</td>\n",
       "      <td>O</td>\n",
       "      <td>38350</td>\n",
       "      <td>LA MURE</td>\n",
       "      <td>Société par actions simplifiée</td>\n",
       "      <td>F</td>\n",
       "      <td>Euros</td>\n",
       "      <td>100000.0</td>\n",
       "      <td></td>\n",
       "    </tr>\n",
       "  </tbody>\n",
       "</table>\n",
       "</div>"
      ],
      "text/plain": [
       "       siren creation_date size main_activity employer    zip           city  \\\n",
       "0  006580195    1965-01-01  PME        29.10Z        O  44600  SAINT NAZAIRE   \n",
       "1  007220338    1964-01-01  PME        46.49Z        O  80150      LE BOISLE   \n",
       "2  015751530    1957-01-01  PME        10.72Z        O  21000          DIJON   \n",
       "3  057813677    1957-01-01  PME        47.52A        O  13001    MARSEILLE 1   \n",
       "4  065501850    1965-01-01  PME        47.78B        O  38350        LA MURE   \n",
       "\n",
       "                                   legal_form type_capital ccy_capital  \\\n",
       "0              Société par actions simplifiée            F       Euros   \n",
       "1              Société par actions simplifiée            F       Euros   \n",
       "2  Société anonyme à conseil d'administration            F       Euros   \n",
       "3              Société par actions simplifiée            F       Euros   \n",
       "4              Société par actions simplifiée            F       Euros   \n",
       "\n",
       "       capital current_capital  \n",
       "0  12474989.36                  \n",
       "1      37000.0                  \n",
       "2     120000.0                  \n",
       "3      42000.0                  \n",
       "4     100000.0                  "
      ]
     },
     "execution_count": 4,
     "metadata": {},
     "output_type": "execute_result"
    }
   ],
   "source": [
    "query = f'''\n",
    "    SELECT\n",
    "        insee_unite_legale.siren,\n",
    "        insee_unite_legale.date_creation,\n",
    "        insee_unite_legale.categorie_entreprise,\n",
    "        insee_unite_legale.activite_principale,\n",
    "        insee_unite_legale.caractere_employeur,      \n",
    "        insee_etablissement.code_postal,\n",
    "        insee_etablissement.libelle_commune,\n",
    "        imr_pm.forme_juridique,\n",
    "        imr_pm.type_capital,\n",
    "        imr_pm.devise,\n",
    "        imr_pm.capital,\n",
    "        imr_pm.capital_actuel\n",
    "    FROM\n",
    "        insee_unite_legale\n",
    "    LEFT JOIN imr_pm ON insee_unite_legale.siren = imr_pm.siren\n",
    "    LEFT JOIN insee_etablissement ON insee_unite_legale.siren = insee_etablissement.siren\n",
    "    WHERE\n",
    "        insee_unite_legale.siren IN {tuple(sirens)} AND\n",
    "        insee_etablissement.etablissement_siege = 'true' AND\n",
    "        imr_pm.libelle_evt <> 'Modifications relatives au dossier' AND\n",
    "        imr_pm.type_inscription = 'P'\n",
    "    \n",
    "    UNION\n",
    "\n",
    "    SELECT\n",
    "        imr_pp.siren,\n",
    "        imr_pp.date_immatriculation,\n",
    "        'PP',\n",
    "        '',\n",
    "        'N',       \n",
    "        imr_pp.code_postal,\n",
    "        imr_pp.ville,\n",
    "        'Entreprise individuelle',\n",
    "        'EI',\n",
    "        '',\n",
    "        '',\n",
    "        ''\n",
    "    FROM\n",
    "        imr_pp\n",
    "    WHERE\n",
    "        imr_pp.siren IN {tuple(sirens)} AND\n",
    "        imr_pp.libelle_evt <> 'Modifications relatives au dossier' AND\n",
    "        imr_pp.type_inscription = 'P'\n",
    "    \n",
    "'''\n",
    "\n",
    "result = fetch_all(query)\n",
    "result_df = pd.DataFrame(result, \n",
    "                         columns=['siren', 'creation_date', 'size', 'main_activity', 'employer', 'zip', 'city',\n",
    "                                  'legal_form', 'type_capital', 'ccy_capital', 'capital', 'current_capital']).drop_duplicates()\n",
    "\n",
    "result_df.head()"
   ]
  },
  {
   "cell_type": "code",
   "execution_count": 40,
   "metadata": {
    "ExecuteTime": {
     "end_time": "2019-05-20T11:26:06.723554Z",
     "start_time": "2019-05-20T11:26:06.715302Z"
    }
   },
   "outputs": [
    {
     "data": {
      "text/plain": [
       "0"
      ]
     },
     "execution_count": 40,
     "metadata": {},
     "output_type": "execute_result"
    }
   ],
   "source": [
    "result_df['siren'].isna().sum()"
   ]
  },
  {
   "cell_type": "markdown",
   "metadata": {},
   "source": [
    "# Ensure that len = len(siren)"
   ]
  },
  {
   "cell_type": "code",
   "execution_count": 5,
   "metadata": {
    "ExecuteTime": {
     "end_time": "2019-05-20T11:19:46.827191Z",
     "start_time": "2019-05-20T11:19:46.824435Z"
    }
   },
   "outputs": [],
   "source": [
    "def to_float(x):\n",
    "    if x == '':\n",
    "        x = np.nan\n",
    "    else:\n",
    "        x = float(x)\n",
    "    return x"
   ]
  },
  {
   "cell_type": "code",
   "execution_count": 6,
   "metadata": {
    "ExecuteTime": {
     "end_time": "2019-05-20T11:19:46.835193Z",
     "start_time": "2019-05-20T11:19:46.828328Z"
    }
   },
   "outputs": [],
   "source": [
    "def dedup_result_df(result_df, sirens):\n",
    "    \n",
    "    result_df['creation_date'] = pd.to_datetime(result_df['creation_date'])\n",
    "    result_df['capital'] = result_df['capital'].apply(to_float)\n",
    "    result_df['current_capital'] = result_df['current_capital'].apply(to_float)\n",
    "    result_df.replace({'ccy_capital': {\n",
    "                                        'Euros':'EUR',\n",
    "                                        'EUROS':'EUR',\n",
    "                                        'Franc suisse': 'CHF',\n",
    "                                        'LIVRE STERLING': 'GBP',\n",
    "                                        'SHEKEL': 'ILS',\n",
    "                                        'YEN': 'JPY'}}, inplace=True)\n",
    "\n",
    "    dedup_df = pd.DataFrame(columns=result_df.columns)\n",
    "\n",
    "    for siren in sirens:\n",
    "\n",
    "        df = result_df[result_df['siren']==siren].drop_duplicates()\n",
    "\n",
    "        if df.shape[0]>1:\n",
    "            df = df[df['creation_date']==max(df['creation_date'])]\n",
    "            if df.shape[0]>1:\n",
    "                df = df[df['capital']==np.nanmax(df['capital'])]\n",
    "                if df.shape[0]>1:\n",
    "                    df = df[df['legal_form']==max(df['legal_form'])] # data quality issue, have to pick either one of the record\n",
    "        elif df.shape[0]==0:\n",
    "            df = pd.DataFrame(columns=result_df.columns)\n",
    "            df.loc[0, 'siren'] = siren\n",
    "\n",
    "        dedup_df = pd.concat([dedup_df,df]).reset_index(drop=True)\n",
    "\n",
    "    return dedup_df"
   ]
  },
  {
   "cell_type": "code",
   "execution_count": 7,
   "metadata": {
    "ExecuteTime": {
     "end_time": "2019-05-20T11:20:07.360296Z",
     "start_time": "2019-05-20T11:19:46.836331Z"
    }
   },
   "outputs": [
    {
     "name": "stdout",
     "output_type": "stream",
     "text": [
      "3573\n",
      "(3573, 12)\n"
     ]
    }
   ],
   "source": [
    "dedup_df = dedup_result_df(result_df, sirens)\n",
    "print(len(dedup_df['siren'].unique()))\n",
    "print(dedup_df.shape)"
   ]
  },
  {
   "cell_type": "code",
   "execution_count": 8,
   "metadata": {
    "ExecuteTime": {
     "end_time": "2019-05-20T11:20:07.367483Z",
     "start_time": "2019-05-20T11:20:07.362443Z"
    },
    "scrolled": true
   },
   "outputs": [
    {
     "data": {
      "text/plain": [
       "EUR    3063\n",
       "        490\n",
       "JPY       2\n",
       "CHF       1\n",
       "ILS       1\n",
       "Name: ccy_capital, dtype: int64"
      ]
     },
     "execution_count": 8,
     "metadata": {},
     "output_type": "execute_result"
    }
   ],
   "source": [
    "dedup_df['ccy_capital'].value_counts().head()"
   ]
  },
  {
   "cell_type": "code",
   "execution_count": 9,
   "metadata": {
    "ExecuteTime": {
     "end_time": "2019-05-20T11:20:07.381708Z",
     "start_time": "2019-05-20T11:20:07.369252Z"
    }
   },
   "outputs": [
    {
     "data": {
      "text/html": [
       "<div>\n",
       "<style scoped>\n",
       "    .dataframe tbody tr th:only-of-type {\n",
       "        vertical-align: middle;\n",
       "    }\n",
       "\n",
       "    .dataframe tbody tr th {\n",
       "        vertical-align: top;\n",
       "    }\n",
       "\n",
       "    .dataframe thead th {\n",
       "        text-align: right;\n",
       "    }\n",
       "</style>\n",
       "<table border=\"1\" class=\"dataframe\">\n",
       "  <thead>\n",
       "    <tr style=\"text-align: right;\">\n",
       "      <th></th>\n",
       "      <th>siren</th>\n",
       "      <th>creation_date</th>\n",
       "      <th>size</th>\n",
       "      <th>main_activity</th>\n",
       "      <th>employer</th>\n",
       "      <th>zip</th>\n",
       "      <th>city</th>\n",
       "      <th>legal_form</th>\n",
       "      <th>type_capital</th>\n",
       "      <th>ccy_capital</th>\n",
       "      <th>capital</th>\n",
       "      <th>current_capital</th>\n",
       "    </tr>\n",
       "  </thead>\n",
       "  <tbody>\n",
       "    <tr>\n",
       "      <th>1028</th>\n",
       "      <td>823268677</td>\n",
       "      <td>2016-10-11</td>\n",
       "      <td>PME</td>\n",
       "      <td>47.78C</td>\n",
       "      <td>N</td>\n",
       "      <td>75017</td>\n",
       "      <td>PARIS 17</td>\n",
       "      <td>Société par actions simplifiée</td>\n",
       "      <td>F</td>\n",
       "      <td>EUR</td>\n",
       "      <td>2162.0</td>\n",
       "      <td>NaN</td>\n",
       "    </tr>\n",
       "  </tbody>\n",
       "</table>\n",
       "</div>"
      ],
      "text/plain": [
       "          siren creation_date size main_activity employer    zip      city  \\\n",
       "1028  823268677    2016-10-11  PME        47.78C        N  75017  PARIS 17   \n",
       "\n",
       "                          legal_form type_capital ccy_capital  capital  \\\n",
       "1028  Société par actions simplifiée            F         EUR   2162.0   \n",
       "\n",
       "      current_capital  \n",
       "1028              NaN  "
      ]
     },
     "execution_count": 9,
     "metadata": {},
     "output_type": "execute_result"
    }
   ],
   "source": [
    "dedup_df[dedup_df['siren']=='823268677']"
   ]
  },
  {
   "cell_type": "code",
   "execution_count": 41,
   "metadata": {
    "ExecuteTime": {
     "end_time": "2019-05-20T11:26:28.716478Z",
     "start_time": "2019-05-20T11:26:28.707678Z"
    }
   },
   "outputs": [
    {
     "data": {
      "text/plain": [
       "0"
      ]
     },
     "execution_count": 41,
     "metadata": {},
     "output_type": "execute_result"
    }
   ],
   "source": [
    "dedup_df['siren'].isna().sum()"
   ]
  },
  {
   "cell_type": "markdown",
   "metadata": {},
   "source": [
    "# Cleaning extracted data"
   ]
  },
  {
   "cell_type": "code",
   "execution_count": 46,
   "metadata": {
    "ExecuteTime": {
     "end_time": "2019-05-20T11:29:07.192185Z",
     "start_time": "2019-05-20T11:29:07.168535Z"
    }
   },
   "outputs": [
    {
     "data": {
      "text/html": [
       "<div>\n",
       "<style scoped>\n",
       "    .dataframe tbody tr th:only-of-type {\n",
       "        vertical-align: middle;\n",
       "    }\n",
       "\n",
       "    .dataframe tbody tr th {\n",
       "        vertical-align: top;\n",
       "    }\n",
       "\n",
       "    .dataframe thead th {\n",
       "        text-align: right;\n",
       "    }\n",
       "</style>\n",
       "<table border=\"1\" class=\"dataframe\">\n",
       "  <thead>\n",
       "    <tr style=\"text-align: right;\">\n",
       "      <th></th>\n",
       "      <th>siren</th>\n",
       "      <th>creation_date</th>\n",
       "      <th>size</th>\n",
       "      <th>main_activity</th>\n",
       "      <th>employer</th>\n",
       "      <th>zip</th>\n",
       "      <th>city</th>\n",
       "      <th>legal_form</th>\n",
       "      <th>type_capital</th>\n",
       "      <th>ccy_capital</th>\n",
       "      <th>capital</th>\n",
       "      <th>current_capital</th>\n",
       "    </tr>\n",
       "  </thead>\n",
       "  <tbody>\n",
       "    <tr>\n",
       "      <th>0</th>\n",
       "      <td>332224393</td>\n",
       "      <td>1985-05-01</td>\n",
       "      <td>PME</td>\n",
       "      <td>10.13B</td>\n",
       "      <td>O</td>\n",
       "      <td>59640</td>\n",
       "      <td>DUNKERQUE</td>\n",
       "      <td>Société à responsabilité limitée</td>\n",
       "      <td>F</td>\n",
       "      <td>EUR</td>\n",
       "      <td>7622.45</td>\n",
       "      <td>NaN</td>\n",
       "    </tr>\n",
       "  </tbody>\n",
       "</table>\n",
       "</div>"
      ],
      "text/plain": [
       "       siren creation_date size main_activity employer    zip       city  \\\n",
       "0  332224393    1985-05-01  PME        10.13B        O  59640  DUNKERQUE   \n",
       "\n",
       "                         legal_form type_capital ccy_capital  capital  \\\n",
       "0  Société à responsabilité limitée            F         EUR  7622.45   \n",
       "\n",
       "   current_capital  \n",
       "0              NaN  "
      ]
     },
     "execution_count": 46,
     "metadata": {},
     "output_type": "execute_result"
    }
   ],
   "source": [
    "clean_df = dedup_df.copy()\n",
    "clean_df.head(1)"
   ]
  },
  {
   "cell_type": "code",
   "execution_count": 47,
   "metadata": {
    "ExecuteTime": {
     "end_time": "2019-05-20T11:29:08.935750Z",
     "start_time": "2019-05-20T11:29:08.911761Z"
    }
   },
   "outputs": [
    {
     "data": {
      "text/plain": [
       "(3573, 12)"
      ]
     },
     "execution_count": 47,
     "metadata": {},
     "output_type": "execute_result"
    }
   ],
   "source": [
    "clean_df.replace({\n",
    "    'size': {'':None, np.nan: None},\n",
    "    'zip': {'':None, np.nan: None},\n",
    "    'city': {'':None, np.nan: None},\n",
    "    'main_activity': {'':None, np.nan: None},\n",
    "    'type_capital': {'':None, np.nan: None},\n",
    "    'ccy_capital': {'':None, np.nan: None},\n",
    "    'creation_date': {np.datetime64('1900-01-01'): pd.NaT}\n",
    "}, inplace=True)\n",
    "clean_df.shape"
   ]
  },
  {
   "cell_type": "code",
   "execution_count": 52,
   "metadata": {
    "ExecuteTime": {
     "end_time": "2019-05-20T11:32:23.046768Z",
     "start_time": "2019-05-20T11:32:23.032503Z"
    }
   },
   "outputs": [],
   "source": [
    "def clean_legal_form(clean_df):\n",
    "    mapping = {\n",
    "        'Société par actions simplifiée': [\n",
    "            'Société par actions simplifiée',\n",
    "            'Société par actions simplifiée  à associé unique et capital variable',\n",
    "            'Société par actions simplifiée à associé unique',\n",
    "            'Société par actions simplifiée à capital variable'],\n",
    "        'Société anonyme': [\n",
    "            \"Société anonyme à conseil d'administration\",\n",
    "            'Société anonyme',\n",
    "            'Société anonyme à directoire et conseil de surveillance',\n",
    "            \"Société anonyme d'économie mixte\",\n",
    "            'Société anonyme sportive professionnelle'],\n",
    "        'Société à responsabilité limitée': [\n",
    "            'Société à responsabilité limitée',\n",
    "            'Société à responsabilité limitée à associé unique',\n",
    "            'Société à responsabilité limitée à capital variable',\n",
    "            'Société à responsabilité limitée de presse'],\n",
    "         'Société coopérative': [\n",
    "             'Société coopérative agricole à capital variable',\n",
    "             'Société coopérative à forme anonyme',\n",
    "             'Société coopérative agricole',\n",
    "             'Société coopérative à capital variable à capital variable à capital variable',\n",
    "             'Société coopérative de production à responsabilité limitée à capital variable',\n",
    "             'Société coopérative de consommation à forme anonyme',\n",
    "             'Société coopérative ouvrière de production à responsabilité limitée',\n",
    "             \"Société coopérative d'intérêt collectif à responsabilité limitée à capital variable\",\n",
    "             'Société coopérative à responsabilité limitée',\n",
    "             'Société coopérative ouvrière de production à forme anonyme',\n",
    "             'Société coopérative de production à forme anonyme et capital variable',\n",
    "             'Société coopérative de production à responsabilité limitée',\n",
    "             'Société coopérative de production à forme anonyme',\n",
    "             'Société coopérative à responsabilité limitée à capital variable',\n",
    "             'Société coopérative ouvrière de production à responsabilité limitée à capital variable',\n",
    "             'Société coopérative à forme anonyme à capital variable',\n",
    "             \"Société coopérative d'intérêt collectif à responsabilité limitée\",\n",
    "             'Société coopérative à capital variable'],\n",
    "        'Société civile': [\n",
    "            'Société civile',\n",
    "            \"Société civile d'intérêt collectif agricole\",\n",
    "            \"Société civile d'exploitation agricole\",\n",
    "            'Société civile professionnelle',\n",
    "            'Société civile immobilière'],\n",
    "        \"Société d'exercice libéral\": [\n",
    "            \"Société d'exercice libéral à associé unique\",\n",
    "            \"Société d'exercice libéral à responsabilité limitée\",\n",
    "            \"Société d'exercice libéral à responsabilité limitée à associé unique\"],\n",
    "        'Société de droit étranger': [\n",
    "            'Société de droit étranger',\n",
    "            \"Société anonyme d'un Etat non membre de la CE ou non partie à l'accord sur l'Espace économique européen\"],\n",
    "        'Groupement': [\n",
    "            \"Groupement d'intérêt économique\",\n",
    "            \"Groupement agricole d'exploitation en commun\"],\n",
    "        'Etablissement public' : ['Etablissement public à caractère industriel et commercial'],\n",
    "        'Exploitation agricole' : ['Exploitation agricole à responsabilité limitée'],\n",
    "        'Autre': [\n",
    "            'Exploitation agricole',\n",
    "            'Société civile',\n",
    "            \"Société d'exercice libéral\",\n",
    "            \"Groupement\",\n",
    "            \"Société en nom collectif\",\n",
    "            \"Société en commandite simple\",\n",
    "            \"Etablissement public\"]\n",
    "    }\n",
    "    mapping_transformed = {v : k for k, V in mapping.items() for v in V}\n",
    "    clean_df['legal_form'] = clean_df['legal_form'].replace(mapping_transformed, regex=True)"
   ]
  },
  {
   "cell_type": "code",
   "execution_count": 53,
   "metadata": {
    "ExecuteTime": {
     "end_time": "2019-05-20T11:32:25.300710Z",
     "start_time": "2019-05-20T11:32:25.137925Z"
    },
    "scrolled": true
   },
   "outputs": [
    {
     "data": {
      "text/plain": [
       "Société à responsabilité limitée    1856\n",
       "Société par actions simplifiée      1094\n",
       "Entreprise individuelle              483\n",
       "Société anonyme                       51\n",
       "Autre                                 36\n",
       "Société coopérative                   31\n",
       "Société de droit étranger              7\n",
       "Name: legal_form, dtype: int64"
      ]
     },
     "execution_count": 53,
     "metadata": {},
     "output_type": "execute_result"
    }
   ],
   "source": [
    "clean_legal_form(clean_df)\n",
    "clean_df['legal_form'].value_counts()"
   ]
  },
  {
   "cell_type": "code",
   "execution_count": 54,
   "metadata": {
    "ExecuteTime": {
     "end_time": "2019-05-20T11:32:45.257821Z",
     "start_time": "2019-05-20T11:32:45.251860Z"
    }
   },
   "outputs": [
    {
     "data": {
      "text/plain": [
       "(3573, 12)"
      ]
     },
     "execution_count": 54,
     "metadata": {},
     "output_type": "execute_result"
    }
   ],
   "source": [
    "clean_df.shape"
   ]
  },
  {
   "cell_type": "code",
   "execution_count": 55,
   "metadata": {
    "ExecuteTime": {
     "end_time": "2019-05-20T11:32:47.565226Z",
     "start_time": "2019-05-20T11:32:47.541951Z"
    },
    "scrolled": true
   },
   "outputs": [
    {
     "data": {
      "text/html": [
       "<div>\n",
       "<style scoped>\n",
       "    .dataframe tbody tr th:only-of-type {\n",
       "        vertical-align: middle;\n",
       "    }\n",
       "\n",
       "    .dataframe tbody tr th {\n",
       "        vertical-align: top;\n",
       "    }\n",
       "\n",
       "    .dataframe thead th {\n",
       "        text-align: right;\n",
       "    }\n",
       "</style>\n",
       "<table border=\"1\" class=\"dataframe\">\n",
       "  <thead>\n",
       "    <tr style=\"text-align: right;\">\n",
       "      <th></th>\n",
       "      <th>siren</th>\n",
       "      <th>creation_date</th>\n",
       "      <th>size</th>\n",
       "      <th>main_activity</th>\n",
       "      <th>employer</th>\n",
       "      <th>zip</th>\n",
       "      <th>city</th>\n",
       "      <th>legal_form</th>\n",
       "      <th>type_capital</th>\n",
       "      <th>ccy_capital</th>\n",
       "      <th>capital</th>\n",
       "      <th>current_capital</th>\n",
       "    </tr>\n",
       "  </thead>\n",
       "  <tbody>\n",
       "    <tr>\n",
       "      <th>358</th>\n",
       "      <td>794350942</td>\n",
       "      <td>2014-07-30</td>\n",
       "      <td>PP</td>\n",
       "      <td>None</td>\n",
       "      <td>N</td>\n",
       "      <td>20290</td>\n",
       "      <td>Borgo</td>\n",
       "      <td>Entreprise individuelle</td>\n",
       "      <td>EI</td>\n",
       "      <td>None</td>\n",
       "      <td>NaN</td>\n",
       "      <td>NaN</td>\n",
       "    </tr>\n",
       "  </tbody>\n",
       "</table>\n",
       "</div>"
      ],
      "text/plain": [
       "         siren creation_date size main_activity employer    zip   city  \\\n",
       "358  794350942    2014-07-30   PP          None        N  20290  Borgo   \n",
       "\n",
       "                  legal_form type_capital ccy_capital  capital  \\\n",
       "358  Entreprise individuelle           EI        None      NaN   \n",
       "\n",
       "     current_capital  \n",
       "358              NaN  "
      ]
     },
     "execution_count": 55,
     "metadata": {},
     "output_type": "execute_result"
    }
   ],
   "source": [
    "clean_df[clean_df['siren']== '794350942']"
   ]
  },
  {
   "cell_type": "code",
   "execution_count": 56,
   "metadata": {
    "ExecuteTime": {
     "end_time": "2019-05-20T11:33:01.950001Z",
     "start_time": "2019-05-20T11:33:01.941924Z"
    }
   },
   "outputs": [
    {
     "data": {
      "text/plain": [
       "0"
      ]
     },
     "execution_count": 56,
     "metadata": {},
     "output_type": "execute_result"
    }
   ],
   "source": [
    "clean_df['siren'].isna().sum()"
   ]
  },
  {
   "cell_type": "markdown",
   "metadata": {},
   "source": [
    "# Extract features\n",
    "## Departement and region"
   ]
  },
  {
   "cell_type": "code",
   "execution_count": 68,
   "metadata": {
    "ExecuteTime": {
     "end_time": "2019-05-20T11:36:07.980848Z",
     "start_time": "2019-05-20T11:36:07.972168Z"
    }
   },
   "outputs": [
    {
     "data": {
      "text/plain": [
       "(3573, 12)"
      ]
     },
     "execution_count": 68,
     "metadata": {},
     "output_type": "execute_result"
    }
   ],
   "source": [
    "features_df = clean_df.copy()\n",
    "features_df.shape"
   ]
  },
  {
   "cell_type": "code",
   "execution_count": 69,
   "metadata": {
    "ExecuteTime": {
     "end_time": "2019-05-20T11:36:09.515714Z",
     "start_time": "2019-05-20T11:36:09.497507Z"
    }
   },
   "outputs": [
    {
     "name": "stdout",
     "output_type": "stream",
     "text": [
      "[59. 75. 77. 38. 35. 42. nan 93. 13. 69. 34. 87. 14. 31. 47. 62. 76. 74.\n",
      " 26. 33. 63. 79. 92. 60. 80. 95. 17.  6. 83. 19. 37. 29. 51. 82. 48. 94.\n",
      " 45. 44. 71. 39. 43. 58. 11. 25. 50. 81. 84. 21. 66. 40. 55. 49. 70. 64.\n",
      "  2. 30. 10. 91. 78. 54. 32. 85. 27.  8. 73. 15. 53. 52. 56. 65.  7. 72.\n",
      " 20. 86.  1.  5. 46.  4. 18. 24. 22.  3. 12. 61. 68. 90. 89. 41. 28. 88.\n",
      " 16.  9. 36. 23.]\n"
     ]
    }
   ],
   "source": [
    "def extract_dpt(x):\n",
    "    if x is None:\n",
    "        return x\n",
    "    else:\n",
    "        return int(str(x)[:2])\n",
    "features_df['zip'] = features_df['zip'].apply(extract_dpt)\n",
    "print(features_df['zip'].unique())"
   ]
  },
  {
   "cell_type": "code",
   "execution_count": 70,
   "metadata": {
    "ExecuteTime": {
     "end_time": "2019-05-20T11:36:11.720149Z",
     "start_time": "2019-05-20T11:36:11.702407Z"
    }
   },
   "outputs": [
    {
     "data": {
      "text/html": [
       "<div>\n",
       "<style scoped>\n",
       "    .dataframe tbody tr th:only-of-type {\n",
       "        vertical-align: middle;\n",
       "    }\n",
       "\n",
       "    .dataframe tbody tr th {\n",
       "        vertical-align: top;\n",
       "    }\n",
       "\n",
       "    .dataframe thead th {\n",
       "        text-align: right;\n",
       "    }\n",
       "</style>\n",
       "<table border=\"1\" class=\"dataframe\">\n",
       "  <thead>\n",
       "    <tr style=\"text-align: right;\">\n",
       "      <th></th>\n",
       "      <th>code</th>\n",
       "      <th>sub-region</th>\n",
       "      <th>region</th>\n",
       "    </tr>\n",
       "  </thead>\n",
       "  <tbody>\n",
       "    <tr>\n",
       "      <th>0</th>\n",
       "      <td>1</td>\n",
       "      <td>Ain</td>\n",
       "      <td>Auvergne-Rhône-Alpes</td>\n",
       "    </tr>\n",
       "    <tr>\n",
       "      <th>1</th>\n",
       "      <td>2</td>\n",
       "      <td>Aisne</td>\n",
       "      <td>Hauts-de-France</td>\n",
       "    </tr>\n",
       "    <tr>\n",
       "      <th>2</th>\n",
       "      <td>3</td>\n",
       "      <td>Allier</td>\n",
       "      <td>Auvergne-Rhône-Alpes</td>\n",
       "    </tr>\n",
       "    <tr>\n",
       "      <th>3</th>\n",
       "      <td>4</td>\n",
       "      <td>Alpes-de-Haute-Provence</td>\n",
       "      <td>Provence-Alpes-Côte d'Azur</td>\n",
       "    </tr>\n",
       "    <tr>\n",
       "      <th>4</th>\n",
       "      <td>5</td>\n",
       "      <td>Hautes-Alpes</td>\n",
       "      <td>Provence-Alpes-Côte d'Azur</td>\n",
       "    </tr>\n",
       "  </tbody>\n",
       "</table>\n",
       "</div>"
      ],
      "text/plain": [
       "   code               sub-region                      region\n",
       "0     1                      Ain        Auvergne-Rhône-Alpes\n",
       "1     2                    Aisne             Hauts-de-France\n",
       "2     3                   Allier        Auvergne-Rhône-Alpes\n",
       "3     4  Alpes-de-Haute-Provence  Provence-Alpes-Côte d'Azur\n",
       "4     5             Hautes-Alpes  Provence-Alpes-Côte d'Azur"
      ]
     },
     "execution_count": 70,
     "metadata": {},
     "output_type": "execute_result"
    }
   ],
   "source": [
    "zips = pd.read_csv('french-zips.csv', sep=';')\n",
    "zips.head()"
   ]
  },
  {
   "cell_type": "code",
   "execution_count": 71,
   "metadata": {
    "ExecuteTime": {
     "end_time": "2019-05-20T11:36:13.943692Z",
     "start_time": "2019-05-20T11:36:13.921794Z"
    }
   },
   "outputs": [
    {
     "data": {
      "text/plain": [
       "(3573, 14)"
      ]
     },
     "execution_count": 71,
     "metadata": {},
     "output_type": "execute_result"
    }
   ],
   "source": [
    "features_df = features_df.merge(zips, how='left', left_on='zip', right_on='code')\n",
    "features_df.drop(columns=['code'], inplace=True)\n",
    "features_df.shape"
   ]
  },
  {
   "cell_type": "code",
   "execution_count": 72,
   "metadata": {
    "ExecuteTime": {
     "end_time": "2019-05-20T11:36:16.166066Z",
     "start_time": "2019-05-20T11:36:16.158366Z"
    }
   },
   "outputs": [
    {
     "data": {
      "text/plain": [
       "0"
      ]
     },
     "execution_count": 72,
     "metadata": {},
     "output_type": "execute_result"
    }
   ],
   "source": [
    "features_df['siren'].isna().sum()"
   ]
  },
  {
   "cell_type": "markdown",
   "metadata": {},
   "source": [
    "## Activity"
   ]
  },
  {
   "cell_type": "code",
   "execution_count": 73,
   "metadata": {
    "ExecuteTime": {
     "end_time": "2019-05-20T11:36:18.433215Z",
     "start_time": "2019-05-20T11:36:18.411446Z"
    },
    "scrolled": true
   },
   "outputs": [
    {
     "name": "stdout",
     "output_type": "stream",
     "text": [
      "[10. 47. 46. 85. nan 15. 71. 11. 58. 77. 81. 74. 43. 93. 70. 90. 64. 62.\n",
      " 20. 53. 56. 32. 45. 95. 14. 23. 33. 96. 31. 27. 29. 55. 91. 82. 28. 26.\n",
      " 73. 59. 13. 18. 30.  1. 63. 79. 38. 69. 68. 42. 16. 65. 25.  3. 80. 88.\n",
      " 17. 51. 49.  2. 22. 72. 86. 61. 52. 87. 66. 41. 84. 21.]\n"
     ]
    }
   ],
   "source": [
    "def extract_act(x):\n",
    "    if x is None:\n",
    "        return np.nan\n",
    "    else:\n",
    "        return float(str(x).split('.')[0])\n",
    "features_df['main_activity'] = features_df['main_activity'].apply(extract_act)\n",
    "features_df.loc[features_df['main_activity'] == 0.0, 'main_activity'] = np.nan\n",
    "print(features_df['main_activity'].unique())"
   ]
  },
  {
   "cell_type": "code",
   "execution_count": 74,
   "metadata": {
    "ExecuteTime": {
     "end_time": "2019-05-20T11:36:21.447009Z",
     "start_time": "2019-05-20T11:36:21.431617Z"
    },
    "scrolled": true
   },
   "outputs": [
    {
     "data": {
      "text/html": [
       "<div>\n",
       "<style scoped>\n",
       "    .dataframe tbody tr th:only-of-type {\n",
       "        vertical-align: middle;\n",
       "    }\n",
       "\n",
       "    .dataframe tbody tr th {\n",
       "        vertical-align: top;\n",
       "    }\n",
       "\n",
       "    .dataframe thead th {\n",
       "        text-align: right;\n",
       "    }\n",
       "</style>\n",
       "<table border=\"1\" class=\"dataframe\">\n",
       "  <thead>\n",
       "    <tr style=\"text-align: right;\">\n",
       "      <th></th>\n",
       "      <th>code</th>\n",
       "      <th>activity_class</th>\n",
       "    </tr>\n",
       "  </thead>\n",
       "  <tbody>\n",
       "    <tr>\n",
       "      <th>0</th>\n",
       "      <td>1</td>\n",
       "      <td>Culture et production animale, chasse et servi...</td>\n",
       "    </tr>\n",
       "    <tr>\n",
       "      <th>1</th>\n",
       "      <td>2</td>\n",
       "      <td>Sylviculture et exploitation forestière</td>\n",
       "    </tr>\n",
       "    <tr>\n",
       "      <th>2</th>\n",
       "      <td>3</td>\n",
       "      <td>Pêche et aquaculture</td>\n",
       "    </tr>\n",
       "    <tr>\n",
       "      <th>3</th>\n",
       "      <td>5</td>\n",
       "      <td>Extraction de houille et de lignite</td>\n",
       "    </tr>\n",
       "    <tr>\n",
       "      <th>4</th>\n",
       "      <td>6</td>\n",
       "      <td>Extraction d'hydrocarbures</td>\n",
       "    </tr>\n",
       "  </tbody>\n",
       "</table>\n",
       "</div>"
      ],
      "text/plain": [
       "   code                                     activity_class\n",
       "0     1  Culture et production animale, chasse et servi...\n",
       "1     2            Sylviculture et exploitation forestière\n",
       "2     3                               Pêche et aquaculture\n",
       "3     5                Extraction de houille et de lignite\n",
       "4     6                         Extraction d'hydrocarbures"
      ]
     },
     "execution_count": 74,
     "metadata": {},
     "output_type": "execute_result"
    }
   ],
   "source": [
    "activities = pd.read_csv('naf2008_liste_n2.csv', sep=';')\n",
    "activities.head()"
   ]
  },
  {
   "cell_type": "code",
   "execution_count": 75,
   "metadata": {
    "ExecuteTime": {
     "end_time": "2019-05-20T11:36:23.977345Z",
     "start_time": "2019-05-20T11:36:23.954918Z"
    }
   },
   "outputs": [
    {
     "data": {
      "text/plain": [
       "(3573, 15)"
      ]
     },
     "execution_count": 75,
     "metadata": {},
     "output_type": "execute_result"
    }
   ],
   "source": [
    "features_df = features_df.merge(activities, how='left', left_on='main_activity', right_on='code')\n",
    "features_df.drop(columns=['code'], inplace=True)\n",
    "features_df.shape"
   ]
  },
  {
   "cell_type": "code",
   "execution_count": 76,
   "metadata": {
    "ExecuteTime": {
     "end_time": "2019-05-20T11:36:25.908361Z",
     "start_time": "2019-05-20T11:36:25.900750Z"
    }
   },
   "outputs": [
    {
     "data": {
      "text/plain": [
       "0"
      ]
     },
     "execution_count": 76,
     "metadata": {},
     "output_type": "execute_result"
    }
   ],
   "source": [
    "features_df['siren'].isna().sum()"
   ]
  },
  {
   "cell_type": "markdown",
   "metadata": {},
   "source": [
    "## Age"
   ]
  },
  {
   "cell_type": "code",
   "execution_count": 77,
   "metadata": {
    "ExecuteTime": {
     "end_time": "2019-05-20T11:36:35.379404Z",
     "start_time": "2019-05-20T11:36:35.364933Z"
    }
   },
   "outputs": [
    {
     "data": {
      "text/plain": [
       "4.0    352\n",
       "3.0    314\n",
       "6.0    234\n",
       "5.0    215\n",
       "8.0    204\n",
       "Name: years_since_creation, dtype: int64"
      ]
     },
     "execution_count": 77,
     "metadata": {},
     "output_type": "execute_result"
    }
   ],
   "source": [
    "features_df['years_since_creation'] = 2019 - features_df['creation_date'].dt.year\n",
    "features_df['years_since_creation'].value_counts().head()"
   ]
  },
  {
   "cell_type": "code",
   "execution_count": 78,
   "metadata": {
    "ExecuteTime": {
     "end_time": "2019-05-20T11:36:39.065388Z",
     "start_time": "2019-05-20T11:36:39.059653Z"
    },
    "scrolled": false
   },
   "outputs": [
    {
     "data": {
      "text/plain": [
       "(3573, 16)"
      ]
     },
     "execution_count": 78,
     "metadata": {},
     "output_type": "execute_result"
    }
   ],
   "source": [
    "features_df.shape"
   ]
  },
  {
   "cell_type": "markdown",
   "metadata": {},
   "source": [
    "## Capital"
   ]
  },
  {
   "cell_type": "code",
   "execution_count": 79,
   "metadata": {
    "ExecuteTime": {
     "end_time": "2019-05-20T11:36:42.599544Z",
     "start_time": "2019-05-20T11:36:42.576261Z"
    }
   },
   "outputs": [],
   "source": [
    "def get_capital(df):\n",
    "    capital_final = []\n",
    "    capital = features_df['capital'].tolist()\n",
    "    current_capital = features_df['current_capital'].tolist()\n",
    "    for i in range(len(capital)):\n",
    "        if np.isnan(capital[i]):\n",
    "            if np.isnan(current_capital[i]):\n",
    "                capital_final.append(np.nan)\n",
    "            else:\n",
    "                capital_final.append(current_capital[i])\n",
    "        else:\n",
    "            if np.isnan(current_capital[i]):\n",
    "                capital_final.append(capital[i])\n",
    "            else:\n",
    "                capital_final.append(max(capital[i], current_capital[i]))\n",
    "    \n",
    "    return capital_final\n",
    "\n",
    "features_df['amount_capital'] = get_capital(features_df)"
   ]
  },
  {
   "cell_type": "markdown",
   "metadata": {},
   "source": [
    "## Employer capacity"
   ]
  },
  {
   "cell_type": "code",
   "execution_count": 80,
   "metadata": {
    "ExecuteTime": {
     "end_time": "2019-05-20T11:36:45.131614Z",
     "start_time": "2019-05-20T11:36:45.121400Z"
    },
    "scrolled": true
   },
   "outputs": [],
   "source": [
    "features_df['employer'] = [int(x=='O') for x in features_df['employer']]"
   ]
  },
  {
   "cell_type": "code",
   "execution_count": 81,
   "metadata": {
    "ExecuteTime": {
     "end_time": "2019-05-20T11:36:46.902741Z",
     "start_time": "2019-05-20T11:36:46.896918Z"
    }
   },
   "outputs": [
    {
     "data": {
      "text/plain": [
       "(3573, 17)"
      ]
     },
     "execution_count": 81,
     "metadata": {},
     "output_type": "execute_result"
    }
   ],
   "source": [
    "features_df.shape"
   ]
  },
  {
   "cell_type": "markdown",
   "metadata": {},
   "source": [
    "## Personality type"
   ]
  },
  {
   "cell_type": "code",
   "execution_count": 82,
   "metadata": {
    "ExecuteTime": {
     "end_time": "2019-05-20T11:36:50.162359Z",
     "start_time": "2019-05-20T11:36:50.150459Z"
    }
   },
   "outputs": [
    {
     "data": {
      "text/plain": [
       "(3573, 18)"
      ]
     },
     "execution_count": 82,
     "metadata": {},
     "output_type": "execute_result"
    }
   ],
   "source": [
    "features_df['personality_type'] = [int(x=='PP') for x in features_df['size']]\n",
    "features_df.shape"
   ]
  },
  {
   "cell_type": "markdown",
   "metadata": {},
   "source": [
    "## Drop columns no longer needed"
   ]
  },
  {
   "cell_type": "code",
   "execution_count": 83,
   "metadata": {
    "ExecuteTime": {
     "end_time": "2019-05-20T11:36:53.306352Z",
     "start_time": "2019-05-20T11:36:53.283503Z"
    },
    "scrolled": true
   },
   "outputs": [
    {
     "data": {
      "text/html": [
       "<div>\n",
       "<style scoped>\n",
       "    .dataframe tbody tr th:only-of-type {\n",
       "        vertical-align: middle;\n",
       "    }\n",
       "\n",
       "    .dataframe tbody tr th {\n",
       "        vertical-align: top;\n",
       "    }\n",
       "\n",
       "    .dataframe thead th {\n",
       "        text-align: right;\n",
       "    }\n",
       "</style>\n",
       "<table border=\"1\" class=\"dataframe\">\n",
       "  <thead>\n",
       "    <tr style=\"text-align: right;\">\n",
       "      <th></th>\n",
       "      <th>siren</th>\n",
       "      <th>employer</th>\n",
       "      <th>legal_form</th>\n",
       "      <th>type_capital</th>\n",
       "      <th>ccy_capital</th>\n",
       "      <th>sub-region</th>\n",
       "      <th>region</th>\n",
       "      <th>activity_class</th>\n",
       "      <th>years_since_creation</th>\n",
       "      <th>amount_capital</th>\n",
       "      <th>personality_type</th>\n",
       "    </tr>\n",
       "  </thead>\n",
       "  <tbody>\n",
       "    <tr>\n",
       "      <th>0</th>\n",
       "      <td>332224393</td>\n",
       "      <td>1</td>\n",
       "      <td>Société à responsabilité limitée</td>\n",
       "      <td>F</td>\n",
       "      <td>EUR</td>\n",
       "      <td>Nord</td>\n",
       "      <td>Hauts-de-France</td>\n",
       "      <td>Industries alimentaires</td>\n",
       "      <td>34.0</td>\n",
       "      <td>7622.45</td>\n",
       "      <td>0</td>\n",
       "    </tr>\n",
       "    <tr>\n",
       "      <th>1</th>\n",
       "      <td>798102158</td>\n",
       "      <td>0</td>\n",
       "      <td>Société à responsabilité limitée</td>\n",
       "      <td>F</td>\n",
       "      <td>EUR</td>\n",
       "      <td>Paris</td>\n",
       "      <td>Île-de-France</td>\n",
       "      <td>Commerce de détail, à l'exception des automobi...</td>\n",
       "      <td>6.0</td>\n",
       "      <td>10000.00</td>\n",
       "      <td>0</td>\n",
       "    </tr>\n",
       "    <tr>\n",
       "      <th>2</th>\n",
       "      <td>414305508</td>\n",
       "      <td>1</td>\n",
       "      <td>Société à responsabilité limitée</td>\n",
       "      <td>F</td>\n",
       "      <td>EUR</td>\n",
       "      <td>Seine-et-Marne</td>\n",
       "      <td>Île-de-France</td>\n",
       "      <td>Commerce de détail, à l'exception des automobi...</td>\n",
       "      <td>22.0</td>\n",
       "      <td>7623.00</td>\n",
       "      <td>0</td>\n",
       "    </tr>\n",
       "    <tr>\n",
       "      <th>3</th>\n",
       "      <td>533910931</td>\n",
       "      <td>1</td>\n",
       "      <td>Société par actions simplifiée</td>\n",
       "      <td>F</td>\n",
       "      <td>EUR</td>\n",
       "      <td>Isère</td>\n",
       "      <td>Auvergne-Rhône-Alpes</td>\n",
       "      <td>Commerce de gros, à l'exception des automobile...</td>\n",
       "      <td>8.0</td>\n",
       "      <td>4400000.00</td>\n",
       "      <td>0</td>\n",
       "    </tr>\n",
       "    <tr>\n",
       "      <th>4</th>\n",
       "      <td>809944416</td>\n",
       "      <td>0</td>\n",
       "      <td>Société par actions simplifiée</td>\n",
       "      <td>F</td>\n",
       "      <td>EUR</td>\n",
       "      <td>Ille-et-Vilaine</td>\n",
       "      <td>Bretagne</td>\n",
       "      <td>Commerce de détail, à l'exception des automobi...</td>\n",
       "      <td>4.0</td>\n",
       "      <td>5000.00</td>\n",
       "      <td>0</td>\n",
       "    </tr>\n",
       "  </tbody>\n",
       "</table>\n",
       "</div>"
      ],
      "text/plain": [
       "       siren  employer                        legal_form type_capital  \\\n",
       "0  332224393         1  Société à responsabilité limitée            F   \n",
       "1  798102158         0  Société à responsabilité limitée            F   \n",
       "2  414305508         1  Société à responsabilité limitée            F   \n",
       "3  533910931         1    Société par actions simplifiée            F   \n",
       "4  809944416         0    Société par actions simplifiée            F   \n",
       "\n",
       "  ccy_capital       sub-region                region  \\\n",
       "0         EUR             Nord       Hauts-de-France   \n",
       "1         EUR            Paris         Île-de-France   \n",
       "2         EUR   Seine-et-Marne         Île-de-France   \n",
       "3         EUR            Isère  Auvergne-Rhône-Alpes   \n",
       "4         EUR  Ille-et-Vilaine              Bretagne   \n",
       "\n",
       "                                      activity_class  years_since_creation  \\\n",
       "0                            Industries alimentaires                  34.0   \n",
       "1  Commerce de détail, à l'exception des automobi...                   6.0   \n",
       "2  Commerce de détail, à l'exception des automobi...                  22.0   \n",
       "3  Commerce de gros, à l'exception des automobile...                   8.0   \n",
       "4  Commerce de détail, à l'exception des automobi...                   4.0   \n",
       "\n",
       "   amount_capital  personality_type  \n",
       "0         7622.45                 0  \n",
       "1        10000.00                 0  \n",
       "2         7623.00                 0  \n",
       "3      4400000.00                 0  \n",
       "4         5000.00                 0  "
      ]
     },
     "execution_count": 83,
     "metadata": {},
     "output_type": "execute_result"
    }
   ],
   "source": [
    "features_df.drop(columns=['size', 'creation_date', 'main_activity', 'capital', 'current_capital', 'zip', 'city'], inplace=True)\n",
    "features_df.head()"
   ]
  },
  {
   "cell_type": "code",
   "execution_count": 85,
   "metadata": {
    "ExecuteTime": {
     "end_time": "2019-05-20T11:37:27.198675Z",
     "start_time": "2019-05-20T11:37:27.183443Z"
    }
   },
   "outputs": [
    {
     "name": "stdout",
     "output_type": "stream",
     "text": [
      "<class 'pandas.core.frame.DataFrame'>\n",
      "Int64Index: 3573 entries, 0 to 3572\n",
      "Data columns (total 11 columns):\n",
      "siren                   3573 non-null object\n",
      "employer                3573 non-null int64\n",
      "legal_form              3558 non-null object\n",
      "type_capital            3551 non-null object\n",
      "ccy_capital             3068 non-null object\n",
      "sub-region              3550 non-null object\n",
      "region                  3550 non-null object\n",
      "activity_class          3072 non-null object\n",
      "years_since_creation    3545 non-null float64\n",
      "amount_capital          3068 non-null float64\n",
      "personality_type        3573 non-null int64\n",
      "dtypes: float64(2), int64(2), object(7)\n",
      "memory usage: 335.0+ KB\n"
     ]
    }
   ],
   "source": [
    "features_df.info()"
   ]
  },
  {
   "cell_type": "markdown",
   "metadata": {},
   "source": [
    "# Filter out irrelevant SIRENs"
   ]
  },
  {
   "cell_type": "code",
   "execution_count": 86,
   "metadata": {
    "ExecuteTime": {
     "end_time": "2019-05-20T11:37:27.247011Z",
     "start_time": "2019-05-20T11:37:27.201788Z"
    }
   },
   "outputs": [],
   "source": [
    "domains = pd.read_csv('/project/0_cleaning/output_cleaning/sirens_final.csv') \n",
    "labels = pd.read_csv('/project/1_feature_extraction/output_feature_extraction/labels.csv')\n",
    "domains['siren'] = domains['siren'].astype(str)\n",
    "labels['siren'] = labels['siren'].astype(str)"
   ]
  },
  {
   "cell_type": "code",
   "execution_count": 87,
   "metadata": {
    "ExecuteTime": {
     "end_time": "2019-05-20T11:37:27.275153Z",
     "start_time": "2019-05-20T11:37:27.249384Z"
    }
   },
   "outputs": [
    {
     "data": {
      "text/html": [
       "<div>\n",
       "<style scoped>\n",
       "    .dataframe tbody tr th:only-of-type {\n",
       "        vertical-align: middle;\n",
       "    }\n",
       "\n",
       "    .dataframe tbody tr th {\n",
       "        vertical-align: top;\n",
       "    }\n",
       "\n",
       "    .dataframe thead th {\n",
       "        text-align: right;\n",
       "    }\n",
       "</style>\n",
       "<table border=\"1\" class=\"dataframe\">\n",
       "  <thead>\n",
       "    <tr style=\"text-align: right;\">\n",
       "      <th></th>\n",
       "      <th>siren</th>\n",
       "      <th>employer</th>\n",
       "      <th>legal_form</th>\n",
       "      <th>type_capital</th>\n",
       "      <th>ccy_capital</th>\n",
       "      <th>sub-region</th>\n",
       "      <th>region</th>\n",
       "      <th>activity_class</th>\n",
       "      <th>years_since_creation</th>\n",
       "      <th>amount_capital</th>\n",
       "      <th>personality_type</th>\n",
       "      <th>domain</th>\n",
       "      <th>label</th>\n",
       "    </tr>\n",
       "  </thead>\n",
       "  <tbody>\n",
       "    <tr>\n",
       "      <th>0</th>\n",
       "      <td>332224393</td>\n",
       "      <td>1</td>\n",
       "      <td>Société à responsabilité limitée</td>\n",
       "      <td>F</td>\n",
       "      <td>EUR</td>\n",
       "      <td>Nord</td>\n",
       "      <td>Hauts-de-France</td>\n",
       "      <td>Industries alimentaires</td>\n",
       "      <td>34.0</td>\n",
       "      <td>7622.45</td>\n",
       "      <td>0</td>\n",
       "      <td>www.kalifrais.fr</td>\n",
       "      <td>0.0</td>\n",
       "    </tr>\n",
       "    <tr>\n",
       "      <th>1</th>\n",
       "      <td>798102158</td>\n",
       "      <td>0</td>\n",
       "      <td>Société à responsabilité limitée</td>\n",
       "      <td>F</td>\n",
       "      <td>EUR</td>\n",
       "      <td>Paris</td>\n",
       "      <td>Île-de-France</td>\n",
       "      <td>Commerce de détail, à l'exception des automobi...</td>\n",
       "      <td>6.0</td>\n",
       "      <td>10000.00</td>\n",
       "      <td>0</td>\n",
       "      <td>urbanwine.fr</td>\n",
       "      <td>0.0</td>\n",
       "    </tr>\n",
       "    <tr>\n",
       "      <th>2</th>\n",
       "      <td>414305508</td>\n",
       "      <td>1</td>\n",
       "      <td>Société à responsabilité limitée</td>\n",
       "      <td>F</td>\n",
       "      <td>EUR</td>\n",
       "      <td>Seine-et-Marne</td>\n",
       "      <td>Île-de-France</td>\n",
       "      <td>Commerce de détail, à l'exception des automobi...</td>\n",
       "      <td>22.0</td>\n",
       "      <td>7623.00</td>\n",
       "      <td>0</td>\n",
       "      <td>www.zawai.fr</td>\n",
       "      <td>0.0</td>\n",
       "    </tr>\n",
       "    <tr>\n",
       "      <th>3</th>\n",
       "      <td>533910931</td>\n",
       "      <td>1</td>\n",
       "      <td>Société par actions simplifiée</td>\n",
       "      <td>F</td>\n",
       "      <td>EUR</td>\n",
       "      <td>Isère</td>\n",
       "      <td>Auvergne-Rhône-Alpes</td>\n",
       "      <td>Commerce de gros, à l'exception des automobile...</td>\n",
       "      <td>8.0</td>\n",
       "      <td>4400000.00</td>\n",
       "      <td>0</td>\n",
       "      <td>www.villaverde.fr</td>\n",
       "      <td>0.0</td>\n",
       "    </tr>\n",
       "    <tr>\n",
       "      <th>4</th>\n",
       "      <td>809944416</td>\n",
       "      <td>0</td>\n",
       "      <td>Société par actions simplifiée</td>\n",
       "      <td>F</td>\n",
       "      <td>EUR</td>\n",
       "      <td>Ille-et-Vilaine</td>\n",
       "      <td>Bretagne</td>\n",
       "      <td>Commerce de détail, à l'exception des automobi...</td>\n",
       "      <td>4.0</td>\n",
       "      <td>5000.00</td>\n",
       "      <td>0</td>\n",
       "      <td>protype3d.fr</td>\n",
       "      <td>0.0</td>\n",
       "    </tr>\n",
       "  </tbody>\n",
       "</table>\n",
       "</div>"
      ],
      "text/plain": [
       "       siren  employer                        legal_form type_capital  \\\n",
       "0  332224393         1  Société à responsabilité limitée            F   \n",
       "1  798102158         0  Société à responsabilité limitée            F   \n",
       "2  414305508         1  Société à responsabilité limitée            F   \n",
       "3  533910931         1    Société par actions simplifiée            F   \n",
       "4  809944416         0    Société par actions simplifiée            F   \n",
       "\n",
       "  ccy_capital       sub-region                region  \\\n",
       "0         EUR             Nord       Hauts-de-France   \n",
       "1         EUR            Paris         Île-de-France   \n",
       "2         EUR   Seine-et-Marne         Île-de-France   \n",
       "3         EUR            Isère  Auvergne-Rhône-Alpes   \n",
       "4         EUR  Ille-et-Vilaine              Bretagne   \n",
       "\n",
       "                                      activity_class  years_since_creation  \\\n",
       "0                            Industries alimentaires                  34.0   \n",
       "1  Commerce de détail, à l'exception des automobi...                   6.0   \n",
       "2  Commerce de détail, à l'exception des automobi...                  22.0   \n",
       "3  Commerce de gros, à l'exception des automobile...                   8.0   \n",
       "4  Commerce de détail, à l'exception des automobi...                   4.0   \n",
       "\n",
       "   amount_capital  personality_type             domain  label  \n",
       "0         7622.45                 0   www.kalifrais.fr    0.0  \n",
       "1        10000.00                 0       urbanwine.fr    0.0  \n",
       "2         7623.00                 0       www.zawai.fr    0.0  \n",
       "3      4400000.00                 0  www.villaverde.fr    0.0  \n",
       "4         5000.00                 0       protype3d.fr    0.0  "
      ]
     },
     "execution_count": 87,
     "metadata": {},
     "output_type": "execute_result"
    }
   ],
   "source": [
    "features_df_copy = features_df.copy()\n",
    "features_df_copy = features_df_copy.merge(domains, how='left')\n",
    "features_df_copy = features_df_copy.merge(labels, how='left')\n",
    "features_df_copy.head()"
   ]
  },
  {
   "cell_type": "code",
   "execution_count": 88,
   "metadata": {
    "ExecuteTime": {
     "end_time": "2019-05-20T11:37:27.845448Z",
     "start_time": "2019-05-20T11:37:27.277034Z"
    }
   },
   "outputs": [],
   "source": [
    "features_df_copy.to_excel('filter_SIREN.xlsx')"
   ]
  },
  {
   "cell_type": "markdown",
   "metadata": {},
   "source": [
    "After exploration, we found no clear pattern enabling us to exclude SIRENs based on obviously erroneous features (e.g. absurd legal form)."
   ]
  },
  {
   "cell_type": "markdown",
   "metadata": {},
   "source": [
    "# Extract features"
   ]
  },
  {
   "cell_type": "code",
   "execution_count": 89,
   "metadata": {
    "ExecuteTime": {
     "end_time": "2019-05-20T11:37:27.871781Z",
     "start_time": "2019-05-20T11:37:27.846660Z"
    }
   },
   "outputs": [],
   "source": [
    "features_df.to_csv('/project/1_feature_extraction/output_feature_extraction/features_from_db.csv', index=False)"
   ]
  },
  {
   "cell_type": "code",
   "execution_count": 90,
   "metadata": {
    "ExecuteTime": {
     "end_time": "2019-05-20T11:37:27.885441Z",
     "start_time": "2019-05-20T11:37:27.872918Z"
    }
   },
   "outputs": [
    {
     "data": {
      "text/html": [
       "<div>\n",
       "<style scoped>\n",
       "    .dataframe tbody tr th:only-of-type {\n",
       "        vertical-align: middle;\n",
       "    }\n",
       "\n",
       "    .dataframe tbody tr th {\n",
       "        vertical-align: top;\n",
       "    }\n",
       "\n",
       "    .dataframe thead th {\n",
       "        text-align: right;\n",
       "    }\n",
       "</style>\n",
       "<table border=\"1\" class=\"dataframe\">\n",
       "  <thead>\n",
       "    <tr style=\"text-align: right;\">\n",
       "      <th></th>\n",
       "      <th>siren</th>\n",
       "      <th>employer</th>\n",
       "      <th>legal_form</th>\n",
       "      <th>type_capital</th>\n",
       "      <th>ccy_capital</th>\n",
       "      <th>sub-region</th>\n",
       "      <th>region</th>\n",
       "      <th>activity_class</th>\n",
       "      <th>years_since_creation</th>\n",
       "      <th>amount_capital</th>\n",
       "      <th>personality_type</th>\n",
       "    </tr>\n",
       "  </thead>\n",
       "  <tbody>\n",
       "    <tr>\n",
       "      <th>0</th>\n",
       "      <td>332224393</td>\n",
       "      <td>1</td>\n",
       "      <td>Société à responsabilité limitée</td>\n",
       "      <td>F</td>\n",
       "      <td>EUR</td>\n",
       "      <td>Nord</td>\n",
       "      <td>Hauts-de-France</td>\n",
       "      <td>Industries alimentaires</td>\n",
       "      <td>34.0</td>\n",
       "      <td>7622.45</td>\n",
       "      <td>0</td>\n",
       "    </tr>\n",
       "    <tr>\n",
       "      <th>1</th>\n",
       "      <td>798102158</td>\n",
       "      <td>0</td>\n",
       "      <td>Société à responsabilité limitée</td>\n",
       "      <td>F</td>\n",
       "      <td>EUR</td>\n",
       "      <td>Paris</td>\n",
       "      <td>Île-de-France</td>\n",
       "      <td>Commerce de détail, à l'exception des automobi...</td>\n",
       "      <td>6.0</td>\n",
       "      <td>10000.00</td>\n",
       "      <td>0</td>\n",
       "    </tr>\n",
       "    <tr>\n",
       "      <th>2</th>\n",
       "      <td>414305508</td>\n",
       "      <td>1</td>\n",
       "      <td>Société à responsabilité limitée</td>\n",
       "      <td>F</td>\n",
       "      <td>EUR</td>\n",
       "      <td>Seine-et-Marne</td>\n",
       "      <td>Île-de-France</td>\n",
       "      <td>Commerce de détail, à l'exception des automobi...</td>\n",
       "      <td>22.0</td>\n",
       "      <td>7623.00</td>\n",
       "      <td>0</td>\n",
       "    </tr>\n",
       "    <tr>\n",
       "      <th>3</th>\n",
       "      <td>533910931</td>\n",
       "      <td>1</td>\n",
       "      <td>Société par actions simplifiée</td>\n",
       "      <td>F</td>\n",
       "      <td>EUR</td>\n",
       "      <td>Isère</td>\n",
       "      <td>Auvergne-Rhône-Alpes</td>\n",
       "      <td>Commerce de gros, à l'exception des automobile...</td>\n",
       "      <td>8.0</td>\n",
       "      <td>4400000.00</td>\n",
       "      <td>0</td>\n",
       "    </tr>\n",
       "    <tr>\n",
       "      <th>4</th>\n",
       "      <td>809944416</td>\n",
       "      <td>0</td>\n",
       "      <td>Société par actions simplifiée</td>\n",
       "      <td>F</td>\n",
       "      <td>EUR</td>\n",
       "      <td>Ille-et-Vilaine</td>\n",
       "      <td>Bretagne</td>\n",
       "      <td>Commerce de détail, à l'exception des automobi...</td>\n",
       "      <td>4.0</td>\n",
       "      <td>5000.00</td>\n",
       "      <td>0</td>\n",
       "    </tr>\n",
       "  </tbody>\n",
       "</table>\n",
       "</div>"
      ],
      "text/plain": [
       "       siren  employer                        legal_form type_capital  \\\n",
       "0  332224393         1  Société à responsabilité limitée            F   \n",
       "1  798102158         0  Société à responsabilité limitée            F   \n",
       "2  414305508         1  Société à responsabilité limitée            F   \n",
       "3  533910931         1    Société par actions simplifiée            F   \n",
       "4  809944416         0    Société par actions simplifiée            F   \n",
       "\n",
       "  ccy_capital       sub-region                region  \\\n",
       "0         EUR             Nord       Hauts-de-France   \n",
       "1         EUR            Paris         Île-de-France   \n",
       "2         EUR   Seine-et-Marne         Île-de-France   \n",
       "3         EUR            Isère  Auvergne-Rhône-Alpes   \n",
       "4         EUR  Ille-et-Vilaine              Bretagne   \n",
       "\n",
       "                                      activity_class  years_since_creation  \\\n",
       "0                            Industries alimentaires                  34.0   \n",
       "1  Commerce de détail, à l'exception des automobi...                   6.0   \n",
       "2  Commerce de détail, à l'exception des automobi...                  22.0   \n",
       "3  Commerce de gros, à l'exception des automobile...                   8.0   \n",
       "4  Commerce de détail, à l'exception des automobi...                   4.0   \n",
       "\n",
       "   amount_capital  personality_type  \n",
       "0         7622.45                 0  \n",
       "1        10000.00                 0  \n",
       "2         7623.00                 0  \n",
       "3      4400000.00                 0  \n",
       "4         5000.00                 0  "
      ]
     },
     "execution_count": 90,
     "metadata": {},
     "output_type": "execute_result"
    }
   ],
   "source": [
    "features_df.head()"
   ]
  },
  {
   "cell_type": "code",
   "execution_count": 91,
   "metadata": {
    "ExecuteTime": {
     "end_time": "2019-05-20T11:37:27.894076Z",
     "start_time": "2019-05-20T11:37:27.886574Z"
    }
   },
   "outputs": [
    {
     "data": {
      "text/plain": [
       "siren                     0\n",
       "employer                  0\n",
       "legal_form               15\n",
       "type_capital             22\n",
       "ccy_capital             505\n",
       "sub-region               23\n",
       "region                   23\n",
       "activity_class          501\n",
       "years_since_creation     28\n",
       "amount_capital          505\n",
       "personality_type          0\n",
       "dtype: int64"
      ]
     },
     "execution_count": 91,
     "metadata": {},
     "output_type": "execute_result"
    }
   ],
   "source": [
    "features_df.isna().sum()"
   ]
  }
 ],
 "metadata": {
  "kernelspec": {
   "display_name": "Python 3",
   "language": "python",
   "name": "python3"
  },
  "language_info": {
   "codemirror_mode": {
    "name": "ipython",
    "version": 3
   },
   "file_extension": ".py",
   "mimetype": "text/x-python",
   "name": "python",
   "nbconvert_exporter": "python",
   "pygments_lexer": "ipython3",
   "version": "3.7.3"
  },
  "toc": {
   "base_numbering": 1,
   "nav_menu": {},
   "number_sections": true,
   "sideBar": true,
   "skip_h1_title": false,
   "title_cell": "Table of Contents",
   "title_sidebar": "Contents",
   "toc_cell": false,
   "toc_position": {},
   "toc_section_display": true,
   "toc_window_display": true
  },
  "varInspector": {
   "cols": {
    "lenName": 16,
    "lenType": 16,
    "lenVar": 40
   },
   "kernels_config": {
    "python": {
     "delete_cmd_postfix": "",
     "delete_cmd_prefix": "del ",
     "library": "var_list.py",
     "varRefreshCmd": "print(var_dic_list())"
    },
    "r": {
     "delete_cmd_postfix": ") ",
     "delete_cmd_prefix": "rm(",
     "library": "var_list.r",
     "varRefreshCmd": "cat(var_dic_list()) "
    }
   },
   "types_to_exclude": [
    "module",
    "function",
    "builtin_function_or_method",
    "instance",
    "_Feature"
   ],
   "window_display": false
  }
 },
 "nbformat": 4,
 "nbformat_minor": 2
}
