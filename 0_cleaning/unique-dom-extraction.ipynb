{
 "cells": [
  {
   "cell_type": "code",
   "execution_count": null,
   "metadata": {
    "ExecuteTime": {
     "end_time": "2019-05-07T14:48:46.886822Z",
     "start_time": "2019-05-07T12:29:50.024Z"
    }
   },
   "outputs": [],
   "source": [
    "import pandas as pd\n",
    "from warcio.archiveiterator import ArchiveIterator\n",
    "from collections import Counter\n",
    "import re\n",
    "from tqdm import tqdm\n",
    "import os\n",
    "from urllib.parse import urlparse\n",
    "import json"
   ]
  },
  {
   "cell_type": "code",
   "execution_count": 3,
   "metadata": {
    "ExecuteTime": {
     "end_time": "2019-05-07T07:03:51.611452Z",
     "start_time": "2019-05-07T07:03:50.806014Z"
    },
    "scrolled": false
   },
   "outputs": [
    {
     "data": {
      "text/html": [
       "<div>\n",
       "<style scoped>\n",
       "    .dataframe tbody tr th:only-of-type {\n",
       "        vertical-align: middle;\n",
       "    }\n",
       "\n",
       "    .dataframe tbody tr th {\n",
       "        vertical-align: top;\n",
       "    }\n",
       "\n",
       "    .dataframe thead th {\n",
       "        text-align: right;\n",
       "    }\n",
       "</style>\n",
       "<table border=\"1\" class=\"dataframe\">\n",
       "  <thead>\n",
       "    <tr style=\"text-align: right;\">\n",
       "      <th></th>\n",
       "      <th>ecommerce</th>\n",
       "      <th>wapp_folder</th>\n",
       "      <th>wapps</th>\n",
       "    </tr>\n",
       "  </thead>\n",
       "  <tbody>\n",
       "    <tr>\n",
       "      <th>0</th>\n",
       "      <td>CC-MAIN-20171119004302-20171119024302-00601.wa...</td>\n",
       "      <td>wapp-00</td>\n",
       "      <td>['PrestaShop']</td>\n",
       "    </tr>\n",
       "    <tr>\n",
       "      <th>1</th>\n",
       "      <td>CC-MAIN-20171120032907-20171120052907-00562.wa...</td>\n",
       "      <td>wapp-00</td>\n",
       "      <td>['OpenCart']</td>\n",
       "    </tr>\n",
       "    <tr>\n",
       "      <th>2</th>\n",
       "      <td>CC-MAIN-20171124180349-20171124200349-00561.wa...</td>\n",
       "      <td>wapp-00</td>\n",
       "      <td>['Magento']</td>\n",
       "    </tr>\n",
       "    <tr>\n",
       "      <th>3</th>\n",
       "      <td>CC-MAIN-20171123050243-20171123070243-00112.wa...</td>\n",
       "      <td>wapp-00</td>\n",
       "      <td>['OpenCart']</td>\n",
       "    </tr>\n",
       "    <tr>\n",
       "      <th>4</th>\n",
       "      <td>CC-MAIN-20171117223659-20171118003659-00491.wa...</td>\n",
       "      <td>wapp-00</td>\n",
       "      <td>['Magento']</td>\n",
       "    </tr>\n",
       "  </tbody>\n",
       "</table>\n",
       "</div>"
      ],
      "text/plain": [
       "                                           ecommerce wapp_folder  \\\n",
       "0  CC-MAIN-20171119004302-20171119024302-00601.wa...     wapp-00   \n",
       "1  CC-MAIN-20171120032907-20171120052907-00562.wa...     wapp-00   \n",
       "2  CC-MAIN-20171124180349-20171124200349-00561.wa...     wapp-00   \n",
       "3  CC-MAIN-20171123050243-20171123070243-00112.wa...     wapp-00   \n",
       "4  CC-MAIN-20171117223659-20171118003659-00491.wa...     wapp-00   \n",
       "\n",
       "            wapps  \n",
       "0  ['PrestaShop']  \n",
       "1    ['OpenCart']  \n",
       "2     ['Magento']  \n",
       "3    ['OpenCart']  \n",
       "4     ['Magento']  "
      ]
     },
     "execution_count": 3,
     "metadata": {},
     "output_type": "execute_result"
    }
   ],
   "source": [
    "df = pd.read_csv('/project/0_cleaning/output_cleaning/ecom-full.csv')\n",
    "df.head()"
   ]
  },
  {
   "cell_type": "markdown",
   "metadata": {},
   "source": [
    "# Create WARC summarising dataframe"
   ]
  },
  {
   "cell_type": "code",
   "execution_count": 55,
   "metadata": {
    "ExecuteTime": {
     "end_time": "2019-05-07T02:25:02.486866Z",
     "start_time": "2019-05-06T20:43:00.315016Z"
    }
   },
   "outputs": [
    {
     "name": "stderr",
     "output_type": "stream",
     "text": [
      "100%|██████████| 605987/605987 [5:39:59<00:00, 29.71it/s]   \n"
     ]
    }
   ],
   "source": [
    "table = []\n",
    "\n",
    "for entry in tqdm(df['ecommerce']):\n",
    "    \n",
    "    file_path = '/mnt/bigdata/s3/'+ entry\n",
    "    stream = open(file_path, 'rb')\n",
    "    for record in ArchiveIterator(stream):\n",
    "        if record.rec_type == 'response':\n",
    "            url = record.rec_headers.get_header('WARC-Target-URI')\n",
    "            ip = record.rec_headers.get_header('WARC-IP-Address')\n",
    "            content = record.http_headers.get_header('Content-Type')\n",
    "    stream.close()    \n",
    "\n",
    "    table.append({\n",
    "        'file': entry,\n",
    "        'ip': ip,\n",
    "        'url': url,\n",
    "        'content-type': content,\n",
    "        'wapps': df['wapps'][df['ecommerce'] == entry].tolist()[0]\n",
    "    })\n",
    "\n",
    "df_warc = pd.DataFrame(table)\n",
    "df_warc.to_csv('/project/0_cleaning/output_cleaning/summary-warc.csv', index=False)"
   ]
  },
  {
   "cell_type": "markdown",
   "metadata": {},
   "source": [
    "# Extract unique domains\n",
    "\n",
    "Create a list of unique domains identified as ecommerce domains."
   ]
  },
  {
   "cell_type": "code",
   "execution_count": 3,
   "metadata": {
    "ExecuteTime": {
     "end_time": "2019-05-07T11:50:54.457282Z",
     "start_time": "2019-05-07T11:50:52.221919Z"
    },
    "scrolled": false
   },
   "outputs": [
    {
     "data": {
      "text/html": [
       "<div>\n",
       "<style scoped>\n",
       "    .dataframe tbody tr th:only-of-type {\n",
       "        vertical-align: middle;\n",
       "    }\n",
       "\n",
       "    .dataframe tbody tr th {\n",
       "        vertical-align: top;\n",
       "    }\n",
       "\n",
       "    .dataframe thead th {\n",
       "        text-align: right;\n",
       "    }\n",
       "</style>\n",
       "<table border=\"1\" class=\"dataframe\">\n",
       "  <thead>\n",
       "    <tr style=\"text-align: right;\">\n",
       "      <th></th>\n",
       "      <th>content-type</th>\n",
       "      <th>file</th>\n",
       "      <th>ip</th>\n",
       "      <th>url</th>\n",
       "      <th>wapps</th>\n",
       "    </tr>\n",
       "  </thead>\n",
       "  <tbody>\n",
       "    <tr>\n",
       "      <th>0</th>\n",
       "      <td>text/html; charset=utf-8</td>\n",
       "      <td>CC-MAIN-20171119004302-20171119024302-00601.wa...</td>\n",
       "      <td>80.248.213.170</td>\n",
       "      <td>https://www.boutique-waterair.fr/pages/retour....</td>\n",
       "      <td>0    ['PrestaShop']\\nName: wapps, dtype: object</td>\n",
       "    </tr>\n",
       "    <tr>\n",
       "      <th>1</th>\n",
       "      <td>text/html; charset=utf-8</td>\n",
       "      <td>CC-MAIN-20171120032907-20171120052907-00562.wa...</td>\n",
       "      <td>107.154.162.186</td>\n",
       "      <td>http://www.manga-vf.fr/anime-gate-keepers-vf-s...</td>\n",
       "      <td>1    ['OpenCart']\\nName: wapps, dtype: object</td>\n",
       "    </tr>\n",
       "    <tr>\n",
       "      <th>2</th>\n",
       "      <td>text/html; charset=UTF-8</td>\n",
       "      <td>CC-MAIN-20171124180349-20171124200349-00561.wa...</td>\n",
       "      <td>136.144.137.205</td>\n",
       "      <td>https://www.machemer-online.fr/tissu-en-coton-...</td>\n",
       "      <td>2    ['Magento']\\nName: wapps, dtype: object</td>\n",
       "    </tr>\n",
       "    <tr>\n",
       "      <th>3</th>\n",
       "      <td>text/html; charset=utf-8</td>\n",
       "      <td>CC-MAIN-20171123050243-20171123070243-00112.wa...</td>\n",
       "      <td>165.231.2.190</td>\n",
       "      <td>http://www.bougezpourlivg.fr/Maillot-Formation...</td>\n",
       "      <td>3    ['OpenCart']\\nName: wapps, dtype: object</td>\n",
       "    </tr>\n",
       "    <tr>\n",
       "      <th>4</th>\n",
       "      <td>text/html; charset=UTF-8</td>\n",
       "      <td>CC-MAIN-20171117223659-20171118003659-00491.wa...</td>\n",
       "      <td>178.32.102.200</td>\n",
       "      <td>http://www.kalifrais.fr/kalifrais-products/pot...</td>\n",
       "      <td>4    ['Magento']\\nName: wapps, dtype: object</td>\n",
       "    </tr>\n",
       "  </tbody>\n",
       "</table>\n",
       "</div>"
      ],
      "text/plain": [
       "               content-type  \\\n",
       "0  text/html; charset=utf-8   \n",
       "1  text/html; charset=utf-8   \n",
       "2  text/html; charset=UTF-8   \n",
       "3  text/html; charset=utf-8   \n",
       "4  text/html; charset=UTF-8   \n",
       "\n",
       "                                                file               ip  \\\n",
       "0  CC-MAIN-20171119004302-20171119024302-00601.wa...   80.248.213.170   \n",
       "1  CC-MAIN-20171120032907-20171120052907-00562.wa...  107.154.162.186   \n",
       "2  CC-MAIN-20171124180349-20171124200349-00561.wa...  136.144.137.205   \n",
       "3  CC-MAIN-20171123050243-20171123070243-00112.wa...    165.231.2.190   \n",
       "4  CC-MAIN-20171117223659-20171118003659-00491.wa...   178.32.102.200   \n",
       "\n",
       "                                                 url  \\\n",
       "0  https://www.boutique-waterair.fr/pages/retour....   \n",
       "1  http://www.manga-vf.fr/anime-gate-keepers-vf-s...   \n",
       "2  https://www.machemer-online.fr/tissu-en-coton-...   \n",
       "3  http://www.bougezpourlivg.fr/Maillot-Formation...   \n",
       "4  http://www.kalifrais.fr/kalifrais-products/pot...   \n",
       "\n",
       "                                             wapps  \n",
       "0  0    ['PrestaShop']\\nName: wapps, dtype: object  \n",
       "1    1    ['OpenCart']\\nName: wapps, dtype: object  \n",
       "2     2    ['Magento']\\nName: wapps, dtype: object  \n",
       "3    3    ['OpenCart']\\nName: wapps, dtype: object  \n",
       "4     4    ['Magento']\\nName: wapps, dtype: object  "
      ]
     },
     "execution_count": 3,
     "metadata": {},
     "output_type": "execute_result"
    }
   ],
   "source": [
    "df_warc = pd.read_csv('/project/0_cleaning/output_cleaning/summary-warc.csv')\n",
    "df_warc.head()"
   ]
  },
  {
   "cell_type": "code",
   "execution_count": 8,
   "metadata": {
    "ExecuteTime": {
     "end_time": "2019-05-07T11:52:14.147065Z",
     "start_time": "2019-05-07T11:52:09.769968Z"
    }
   },
   "outputs": [
    {
     "name": "stderr",
     "output_type": "stream",
     "text": [
      "100%|██████████| 605987/605987 [00:03<00:00, 176535.18it/s]\n"
     ]
    }
   ],
   "source": [
    "urls = []\n",
    "\n",
    "for url in tqdm(df_warc['url']):\n",
    "    url_parsed = urlparse(url)\n",
    "    urls.append({\n",
    "        'scheme': url_parsed.scheme,\n",
    "        'domain': url_parsed.netloc,\n",
    "        'url': f'{url_parsed.scheme}://{url_parsed.netloc}'\n",
    "    })\n",
    "\n",
    "df_urls = pd.DataFrame(urls)\n",
    "unique_domains = np.array(df_urls['domain'].unique())\n",
    "np.save('/project/0_cleaning/output_cleaning/unique_domains_ecom.npy', unique_domains)"
   ]
  }
 ],
 "metadata": {
  "kernelspec": {
   "display_name": "Python 3",
   "language": "python",
   "name": "python3"
  },
  "language_info": {
   "codemirror_mode": {
    "name": "ipython",
    "version": 3
   },
   "file_extension": ".py",
   "mimetype": "text/x-python",
   "name": "python",
   "nbconvert_exporter": "python",
   "pygments_lexer": "ipython3",
   "version": "3.7.3"
  },
  "toc": {
   "base_numbering": 1,
   "nav_menu": {},
   "number_sections": true,
   "sideBar": true,
   "skip_h1_title": false,
   "title_cell": "Table of Contents",
   "title_sidebar": "Contents",
   "toc_cell": false,
   "toc_position": {},
   "toc_section_display": true,
   "toc_window_display": true
  },
  "varInspector": {
   "cols": {
    "lenName": 16,
    "lenType": 16,
    "lenVar": 40
   },
   "kernels_config": {
    "python": {
     "delete_cmd_postfix": "",
     "delete_cmd_prefix": "del ",
     "library": "var_list.py",
     "varRefreshCmd": "print(var_dic_list())"
    },
    "r": {
     "delete_cmd_postfix": ") ",
     "delete_cmd_prefix": "rm(",
     "library": "var_list.r",
     "varRefreshCmd": "cat(var_dic_list()) "
    }
   },
   "types_to_exclude": [
    "module",
    "function",
    "builtin_function_or_method",
    "instance",
    "_Feature"
   ],
   "window_display": false
  }
 },
 "nbformat": 4,
 "nbformat_minor": 2
}
