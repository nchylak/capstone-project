{
 "cells": [
  {
   "cell_type": "code",
   "execution_count": 1,
   "metadata": {
    "ExecuteTime": {
     "end_time": "2019-05-09T18:09:55.286994Z",
     "start_time": "2019-05-09T18:09:55.041382Z"
    }
   },
   "outputs": [],
   "source": [
    "import json\n",
    "import pandas as pd\n",
    "import numpy as np\n",
    "from urllib.parse import urlparse"
   ]
  },
  {
   "cell_type": "code",
   "execution_count": 2,
   "metadata": {
    "ExecuteTime": {
     "end_time": "2019-05-09T18:09:57.508342Z",
     "start_time": "2019-05-09T18:09:55.288571Z"
    }
   },
   "outputs": [
    {
     "data": {
      "text/html": [
       "<div>\n",
       "<style scoped>\n",
       "    .dataframe tbody tr th:only-of-type {\n",
       "        vertical-align: middle;\n",
       "    }\n",
       "\n",
       "    .dataframe tbody tr th {\n",
       "        vertical-align: top;\n",
       "    }\n",
       "\n",
       "    .dataframe thead th {\n",
       "        text-align: right;\n",
       "    }\n",
       "</style>\n",
       "<table border=\"1\" class=\"dataframe\">\n",
       "  <thead>\n",
       "    <tr style=\"text-align: right;\">\n",
       "      <th></th>\n",
       "      <th>content-type</th>\n",
       "      <th>file</th>\n",
       "      <th>ip</th>\n",
       "      <th>url</th>\n",
       "      <th>wapps</th>\n",
       "    </tr>\n",
       "  </thead>\n",
       "  <tbody>\n",
       "    <tr>\n",
       "      <th>0</th>\n",
       "      <td>text/html; charset=utf-8</td>\n",
       "      <td>CC-MAIN-20171119004302-20171119024302-00601.wa...</td>\n",
       "      <td>80.248.213.170</td>\n",
       "      <td>https://www.boutique-waterair.fr/pages/retour....</td>\n",
       "      <td>0    ['PrestaShop']\\nName: wapps, dtype: object</td>\n",
       "    </tr>\n",
       "    <tr>\n",
       "      <th>1</th>\n",
       "      <td>text/html; charset=utf-8</td>\n",
       "      <td>CC-MAIN-20171120032907-20171120052907-00562.wa...</td>\n",
       "      <td>107.154.162.186</td>\n",
       "      <td>http://www.manga-vf.fr/anime-gate-keepers-vf-s...</td>\n",
       "      <td>1    ['OpenCart']\\nName: wapps, dtype: object</td>\n",
       "    </tr>\n",
       "    <tr>\n",
       "      <th>2</th>\n",
       "      <td>text/html; charset=UTF-8</td>\n",
       "      <td>CC-MAIN-20171124180349-20171124200349-00561.wa...</td>\n",
       "      <td>136.144.137.205</td>\n",
       "      <td>https://www.machemer-online.fr/tissu-en-coton-...</td>\n",
       "      <td>2    ['Magento']\\nName: wapps, dtype: object</td>\n",
       "    </tr>\n",
       "    <tr>\n",
       "      <th>3</th>\n",
       "      <td>text/html; charset=utf-8</td>\n",
       "      <td>CC-MAIN-20171123050243-20171123070243-00112.wa...</td>\n",
       "      <td>165.231.2.190</td>\n",
       "      <td>http://www.bougezpourlivg.fr/Maillot-Formation...</td>\n",
       "      <td>3    ['OpenCart']\\nName: wapps, dtype: object</td>\n",
       "    </tr>\n",
       "    <tr>\n",
       "      <th>4</th>\n",
       "      <td>text/html; charset=UTF-8</td>\n",
       "      <td>CC-MAIN-20171117223659-20171118003659-00491.wa...</td>\n",
       "      <td>178.32.102.200</td>\n",
       "      <td>http://www.kalifrais.fr/kalifrais-products/pot...</td>\n",
       "      <td>4    ['Magento']\\nName: wapps, dtype: object</td>\n",
       "    </tr>\n",
       "  </tbody>\n",
       "</table>\n",
       "</div>"
      ],
      "text/plain": [
       "               content-type  \\\n",
       "0  text/html; charset=utf-8   \n",
       "1  text/html; charset=utf-8   \n",
       "2  text/html; charset=UTF-8   \n",
       "3  text/html; charset=utf-8   \n",
       "4  text/html; charset=UTF-8   \n",
       "\n",
       "                                                file               ip  \\\n",
       "0  CC-MAIN-20171119004302-20171119024302-00601.wa...   80.248.213.170   \n",
       "1  CC-MAIN-20171120032907-20171120052907-00562.wa...  107.154.162.186   \n",
       "2  CC-MAIN-20171124180349-20171124200349-00561.wa...  136.144.137.205   \n",
       "3  CC-MAIN-20171123050243-20171123070243-00112.wa...    165.231.2.190   \n",
       "4  CC-MAIN-20171117223659-20171118003659-00491.wa...   178.32.102.200   \n",
       "\n",
       "                                                 url  \\\n",
       "0  https://www.boutique-waterair.fr/pages/retour....   \n",
       "1  http://www.manga-vf.fr/anime-gate-keepers-vf-s...   \n",
       "2  https://www.machemer-online.fr/tissu-en-coton-...   \n",
       "3  http://www.bougezpourlivg.fr/Maillot-Formation...   \n",
       "4  http://www.kalifrais.fr/kalifrais-products/pot...   \n",
       "\n",
       "                                             wapps  \n",
       "0  0    ['PrestaShop']\\nName: wapps, dtype: object  \n",
       "1    1    ['OpenCart']\\nName: wapps, dtype: object  \n",
       "2     2    ['Magento']\\nName: wapps, dtype: object  \n",
       "3    3    ['OpenCart']\\nName: wapps, dtype: object  \n",
       "4     4    ['Magento']\\nName: wapps, dtype: object  "
      ]
     },
     "execution_count": 2,
     "metadata": {},
     "output_type": "execute_result"
    }
   ],
   "source": [
    "df_warc = pd.read_csv('/project/0_cleaning/output_cleaning/summary-warc.csv')\n",
    "df_warc.head()"
   ]
  },
  {
   "cell_type": "code",
   "execution_count": 3,
   "metadata": {
    "ExecuteTime": {
     "end_time": "2019-05-09T18:09:57.513383Z",
     "start_time": "2019-05-09T18:09:57.509994Z"
    }
   },
   "outputs": [],
   "source": [
    "def list_wapps_url(wapps):\n",
    "    x = wapps.replace('[',']').split(']')[1].replace(' ', '').replace(\"'\", \"\").replace('\"','')\n",
    "    if ',' in x:\n",
    "        x = x.split(',')\n",
    "    else:\n",
    "        x = [x]\n",
    "    return x"
   ]
  },
  {
   "cell_type": "code",
   "execution_count": 4,
   "metadata": {
    "ExecuteTime": {
     "end_time": "2019-05-09T18:09:58.437528Z",
     "start_time": "2019-05-09T18:09:57.514906Z"
    }
   },
   "outputs": [
    {
     "name": "stdout",
     "output_type": "stream",
     "text": [
      "[['PrestaShop'], ['OpenCart'], ['Magento']]\n"
     ]
    }
   ],
   "source": [
    "wapps = []\n",
    "for wapp_list_str in df_warc.loc[:,'wapps']:\n",
    "    wapps_list = list_wapps_url(wapp_list_str)\n",
    "    wapps.append(wapps_list)\n",
    "print(wapps[:3])"
   ]
  },
  {
   "cell_type": "code",
   "execution_count": 5,
   "metadata": {
    "ExecuteTime": {
     "end_time": "2019-05-09T18:09:58.441729Z",
     "start_time": "2019-05-09T18:09:58.438951Z"
    }
   },
   "outputs": [],
   "source": [
    "def extract_domain(url):\n",
    "    url_parsed = urlparse(url)\n",
    "    domain = url_parsed.netloc\n",
    "    return domain"
   ]
  },
  {
   "cell_type": "code",
   "execution_count": 6,
   "metadata": {
    "ExecuteTime": {
     "end_time": "2019-05-09T18:10:01.577462Z",
     "start_time": "2019-05-09T18:09:58.442932Z"
    },
    "scrolled": false
   },
   "outputs": [
    {
     "name": "stdout",
     "output_type": "stream",
     "text": [
      "['www.boutique-waterair.fr', 'www.manga-vf.fr', 'www.machemer-online.fr']\n"
     ]
    }
   ],
   "source": [
    "domains = []\n",
    "for url in df_warc.loc[:,'url']:\n",
    "    domain = extract_domain(url)\n",
    "    domains.append(domain)\n",
    "print(domains[:3])"
   ]
  },
  {
   "cell_type": "code",
   "execution_count": 7,
   "metadata": {
    "ExecuteTime": {
     "end_time": "2019-05-09T18:10:01.582696Z",
     "start_time": "2019-05-09T18:10:01.578960Z"
    }
   },
   "outputs": [
    {
     "name": "stdout",
     "output_type": "stream",
     "text": [
      "605987\n",
      "605987\n"
     ]
    }
   ],
   "source": [
    "print(len(domains))\n",
    "print(len(wapps))"
   ]
  },
  {
   "cell_type": "markdown",
   "metadata": {},
   "source": [
    "# Key: WAPP, Values: Domains"
   ]
  },
  {
   "cell_type": "code",
   "execution_count": 8,
   "metadata": {
    "ExecuteTime": {
     "end_time": "2019-05-09T18:10:05.320532Z",
     "start_time": "2019-05-09T18:10:01.584732Z"
    }
   },
   "outputs": [],
   "source": [
    "domains_per_ecom_wapp = {}\n",
    "\n",
    "for i in range(len(domains)):\n",
    "    domain = domains[i]\n",
    "    wapps_list = list(dict.fromkeys(wapps[i]))\n",
    "    for wapp in wapps_list:\n",
    "        if wapp in domains_per_ecom_wapp:\n",
    "            if domain not in domains_per_ecom_wapp[wapp]:\n",
    "                domains_per_ecom_wapp[wapp].append(domain)\n",
    "        else:\n",
    "             domains_per_ecom_wapp[wapp] = [domain]      "
   ]
  },
  {
   "cell_type": "code",
   "execution_count": 9,
   "metadata": {
    "ExecuteTime": {
     "end_time": "2019-05-09T18:10:05.329141Z",
     "start_time": "2019-05-09T18:10:05.322632Z"
    }
   },
   "outputs": [],
   "source": [
    "json_content = json.dumps(domains_per_ecom_wapp)\n",
    "f = open(\"/project/0_cleaning/output_cleaning/domains_per_ecom_wapp.json\",\"w\")\n",
    "f.write(json_content)\n",
    "f.close()"
   ]
  },
  {
   "cell_type": "markdown",
   "metadata": {},
   "source": [
    "# Key: Domain, Values: WAPPs"
   ]
  },
  {
   "cell_type": "code",
   "execution_count": 10,
   "metadata": {
    "ExecuteTime": {
     "end_time": "2019-05-09T18:10:05.924111Z",
     "start_time": "2019-05-09T18:10:05.330338Z"
    }
   },
   "outputs": [],
   "source": [
    "ecom_wapps_per_domain = {}\n",
    "\n",
    "for i in range(len(domains)):\n",
    "    domain = domains[i]\n",
    "    wapps_url = list(dict.fromkeys(wapps[i]))\n",
    "    if domain in ecom_wapps_per_domain:\n",
    "        for w in wapps_url:\n",
    "            if w not in ecom_wapps_per_domain[domain]:\n",
    "                ecom_wapps_per_domain[domain].append(w)\n",
    "    else:\n",
    "        ecom_wapps_per_domain[domain] = wapps_url"
   ]
  },
  {
   "cell_type": "code",
   "execution_count": 11,
   "metadata": {
    "ExecuteTime": {
     "end_time": "2019-05-09T18:10:06.053718Z",
     "start_time": "2019-05-09T18:10:05.925600Z"
    }
   },
   "outputs": [],
   "source": [
    "json_content = json.dumps(ecom_wapps_per_domain)\n",
    "f = open(\"/project/0_cleaning/output_cleaning/ecom_wapps_per_domain.json\",\"w\")\n",
    "f.write(json_content)\n",
    "f.close()"
   ]
  }
 ],
 "metadata": {
  "kernelspec": {
   "display_name": "Python 3",
   "language": "python",
   "name": "python3"
  },
  "language_info": {
   "codemirror_mode": {
    "name": "ipython",
    "version": 3
   },
   "file_extension": ".py",
   "mimetype": "text/x-python",
   "name": "python",
   "nbconvert_exporter": "python",
   "pygments_lexer": "ipython3",
   "version": "3.7.3"
  },
  "toc": {
   "base_numbering": 1,
   "nav_menu": {},
   "number_sections": true,
   "sideBar": true,
   "skip_h1_title": false,
   "title_cell": "Table of Contents",
   "title_sidebar": "Contents",
   "toc_cell": false,
   "toc_position": {},
   "toc_section_display": true,
   "toc_window_display": false
  },
  "varInspector": {
   "cols": {
    "lenName": 16,
    "lenType": 16,
    "lenVar": 40
   },
   "kernels_config": {
    "python": {
     "delete_cmd_postfix": "",
     "delete_cmd_prefix": "del ",
     "library": "var_list.py",
     "varRefreshCmd": "print(var_dic_list())"
    },
    "r": {
     "delete_cmd_postfix": ") ",
     "delete_cmd_prefix": "rm(",
     "library": "var_list.r",
     "varRefreshCmd": "cat(var_dic_list()) "
    }
   },
   "types_to_exclude": [
    "module",
    "function",
    "builtin_function_or_method",
    "instance",
    "_Feature"
   ],
   "window_display": false
  }
 },
 "nbformat": 4,
 "nbformat_minor": 2
}
