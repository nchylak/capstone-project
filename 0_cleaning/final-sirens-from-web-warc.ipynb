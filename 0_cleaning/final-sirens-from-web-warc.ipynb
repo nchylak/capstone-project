{
 "cells": [
  {
   "cell_type": "code",
   "execution_count": 1,
   "metadata": {
    "ExecuteTime": {
     "end_time": "2019-05-22T09:45:58.270258Z",
     "start_time": "2019-05-22T09:45:58.057256Z"
    }
   },
   "outputs": [],
   "source": [
    "import json\n",
    "import pandas as pd\n",
    "import numpy as np\n",
    "import re\n",
    "import mysql.connector \n",
    "import ast"
   ]
  },
  {
   "cell_type": "markdown",
   "metadata": {},
   "source": [
    "# Subset valid SIRENs\n",
    "\n",
    "SIRENs were filtered according to the following criteria: \n",
    "* Date of first registration: either empty or before 1 December 2017\n",
    "* Date of deregistration either empty or after 1 January 2016\n",
    "* Company size is neither intermediary nor big (i.e. either small-medium or empty)"
   ]
  },
  {
   "cell_type": "code",
   "execution_count": 2,
   "metadata": {
    "ExecuteTime": {
     "end_time": "2019-05-22T09:46:00.456275Z",
     "start_time": "2019-05-22T09:46:00.449124Z"
    }
   },
   "outputs": [],
   "source": [
    "def fetch_all(query):\n",
    "    connection = mysql.connector.connect(host='localhost', database='rncs', user='admin', password='Pg49mkMfF4SuLLbA')\n",
    "    cursor = connection.cursor(buffered=True)    \n",
    "    cursor.execute(query)\n",
    "    full = cursor.fetchall()\n",
    "    cursor.close()\n",
    "    connection.close()\n",
    "    return full"
   ]
  },
  {
   "cell_type": "code",
   "execution_count": 3,
   "metadata": {
    "ExecuteTime": {
     "end_time": "2019-05-20T12:01:43.197068Z",
     "start_time": "2019-05-20T11:59:45.709578Z"
    }
   },
   "outputs": [],
   "source": [
    "query = '''\n",
    "    SELECT \n",
    "        imr_pm.siren,\n",
    "        'imr-pm' as origin,\n",
    "        imr_pm.denomination,\n",
    "        imr_pm.date_1re_immatriculation,\n",
    "        imr_pm.date_radiation,\n",
    "        insee.categorie_entreprise\n",
    "    FROM\n",
    "        imr_pm\n",
    "    LEFT JOIN insee_unite_legale insee ON insee.siren = imr_pm.siren\n",
    "    WHERE \n",
    "        (imr_pm.date_1re_immatriculation < '2017-12-01' OR imr_pm.date_1re_immatriculation IS NULL) AND\n",
    "        (imr_pm.date_radiation > '2016-01-01' OR imr_pm.date_radiation IS NULL) AND\n",
    "        insee.categorie_entreprise <> 'ETI' AND\n",
    "        insee.categorie_entreprise <> 'GE'\n",
    "    \n",
    "    UNION\n",
    "\n",
    "    SELECT \n",
    "        imr_pp.siren,\n",
    "        'imr-pp' as origin,\n",
    "        imr_pp.nom_patronymique,\n",
    "        imr_pp.date_1re_immatriculation,\n",
    "        imr_pp.date_radiation,\n",
    "        insee.categorie_entreprise\n",
    "    FROM\n",
    "        imr_pp\n",
    "    LEFT JOIN insee_unite_legale insee ON insee.siren = imr_pp.siren\n",
    "    WHERE \n",
    "        (imr_pp.date_1re_immatriculation < '2017-12-01' OR imr_pp.date_1re_immatriculation IS NULL) AND\n",
    "        (imr_pp.date_radiation > '2016-01-01' OR imr_pp.date_radiation IS NULL) AND\n",
    "        insee.categorie_entreprise <> 'ETI' AND\n",
    "        insee.categorie_entreprise <> 'GE'  \n",
    "'''\n",
    "\n",
    "result = fetch_all(query)\n",
    "result_df = pd.DataFrame(result, \n",
    "                         columns=['siren', 'origin', 'name', 'date_first_entry', 'date_deregistration', 'cat'])\n",
    "sirens_for_filtering = np.array(result_df['siren'].unique())\n",
    "np.save('sirens_for_filtering.npy', sirens_for_filtering)"
   ]
  },
  {
   "cell_type": "markdown",
   "metadata": {},
   "source": [
    "# Load dictionaries"
   ]
  },
  {
   "cell_type": "code",
   "execution_count": 3,
   "metadata": {
    "ExecuteTime": {
     "end_time": "2019-05-22T09:46:06.909341Z",
     "start_time": "2019-05-22T09:46:06.904460Z"
    }
   },
   "outputs": [],
   "source": [
    "def load_json(path):\n",
    "    f = open(path, \"r\")\n",
    "    json_loaded = json.load(f)\n",
    "    f.close()\n",
    "    return json_loaded"
   ]
  },
  {
   "cell_type": "code",
   "execution_count": 5,
   "metadata": {
    "ExecuteTime": {
     "end_time": "2019-05-20T12:01:43.590231Z",
     "start_time": "2019-05-20T12:01:43.208752Z"
    }
   },
   "outputs": [],
   "source": [
    "sirens_warcs = load_json(\"/project/0_cleaning/output_cleaning/sirens_in_warcs.json\")\n",
    "sirets_warcs = load_json(\"/project/0_cleaning/output_cleaning/sirets_in_warcs.json\")\n",
    "sirens_web = load_json(\"/project/0_cleaning/output_cleaning/sirens_in_web.json\")\n",
    "sirets_web = load_json(\"/project/0_cleaning/output_cleaning/sirets_in_web.json\")\n",
    "dics = [\n",
    "    [sirens_warcs, 0, 'sirens_warcs_filtered'],\n",
    "    [sirets_warcs, 1, 'sirets_warcs_filtered'],\n",
    "    [sirens_web, 0, 'sirens_web_filtered'],\n",
    "    [sirets_web, 1, 'sirets_web_filtered']\n",
    "]"
   ]
  },
  {
   "cell_type": "markdown",
   "metadata": {},
   "source": [
    "# Filter by existing SIRENs"
   ]
  },
  {
   "cell_type": "code",
   "execution_count": 6,
   "metadata": {
    "ExecuteTime": {
     "end_time": "2019-05-20T12:01:43.594852Z",
     "start_time": "2019-05-20T12:01:43.591447Z"
    }
   },
   "outputs": [],
   "source": [
    "def filter_sirs(dic, sirs_off, siret_true): # 0 for siren, 1 for siret\n",
    "    \n",
    "    filtered = {}\n",
    "    \n",
    "    for i, (domain, sirs) in enumerate(dic.items()):\n",
    "            \n",
    "        if siret_true:\n",
    "            sirs = [sir[:9] for sir in sirs]\n",
    "        filtered_sirs = [sir for sir in sirs if sir in sirs_off]\n",
    "        filtered[domain] = filtered_sirs\n",
    "        \n",
    "    return filtered"
   ]
  },
  {
   "cell_type": "code",
   "execution_count": 7,
   "metadata": {
    "ExecuteTime": {
     "end_time": "2019-05-20T12:01:43.616122Z",
     "start_time": "2019-05-20T12:01:43.595906Z"
    }
   },
   "outputs": [],
   "source": [
    "def json_save(obj, name):\n",
    "    json_content = json.dumps(obj)\n",
    "    f = open(f\"{name}.json\",\"w\")\n",
    "    f.write(json_content)\n",
    "    f.close()"
   ]
  },
  {
   "cell_type": "code",
   "execution_count": 8,
   "metadata": {
    "ExecuteTime": {
     "end_time": "2019-05-20T12:15:52.019324Z",
     "start_time": "2019-05-20T12:01:43.619140Z"
    },
    "scrolled": true
   },
   "outputs": [
    {
     "name": "stdout",
     "output_type": "stream",
     "text": [
      "1 dictionaries processed.\n",
      "2 dictionaries processed.\n",
      "3 dictionaries processed.\n",
      "4 dictionaries processed.\n"
     ]
    }
   ],
   "source": [
    "sirens_off = np.load('sirens_for_filtering.npy')\n",
    "\n",
    "for i, dic in enumerate(dics):\n",
    "    dic_filtered = filter_sirs(dic[0], sirens_off, dic[1])\n",
    "    json_save(dic_filtered, dic[2])\n",
    "    print(f'{i+1} dictionaries processed.')"
   ]
  },
  {
   "cell_type": "markdown",
   "metadata": {},
   "source": [
    "# Merge dictionaries and assign confidence level for SIRENs"
   ]
  },
  {
   "cell_type": "code",
   "execution_count": 4,
   "metadata": {
    "ExecuteTime": {
     "end_time": "2019-05-22T09:46:15.599643Z",
     "start_time": "2019-05-22T09:46:15.557306Z"
    }
   },
   "outputs": [],
   "source": [
    "sirens_warcs_filtered = load_json(\"sirens_warcs_filtered.json\")\n",
    "sirets_warcs_filtered = load_json(\"sirets_warcs_filtered.json\")\n",
    "sirens_web_filtered = load_json(\"sirens_web_filtered.json\")\n",
    "sirets_web_filtered = load_json(\"sirets_web_filtered.json\")\n",
    "\n",
    "sirens_exclude = load_json(\"sirens-to-exclude.json\")\n",
    "domains_exclude = load_json(\"domains-to-exclude.json\")\n",
    "\n",
    "domains = list(sirens_warcs_filtered.keys())"
   ]
  },
  {
   "cell_type": "code",
   "execution_count": 5,
   "metadata": {
    "ExecuteTime": {
     "end_time": "2019-05-22T09:46:17.699845Z",
     "start_time": "2019-05-22T09:46:17.694967Z"
    }
   },
   "outputs": [],
   "source": [
    "def check_domain(domain):\n",
    "    for exclude in domains_exclude:\n",
    "        if re.search(exclude, domain):\n",
    "            return False\n",
    "    return True"
   ]
  },
  {
   "cell_type": "code",
   "execution_count": 8,
   "metadata": {
    "ExecuteTime": {
     "end_time": "2019-05-22T09:48:55.647061Z",
     "start_time": "2019-05-22T09:48:55.482478Z"
    }
   },
   "outputs": [
    {
     "data": {
      "text/html": [
       "<div>\n",
       "<style scoped>\n",
       "    .dataframe tbody tr th:only-of-type {\n",
       "        vertical-align: middle;\n",
       "    }\n",
       "\n",
       "    .dataframe tbody tr th {\n",
       "        vertical-align: top;\n",
       "    }\n",
       "\n",
       "    .dataframe thead th {\n",
       "        text-align: right;\n",
       "    }\n",
       "</style>\n",
       "<table border=\"1\" class=\"dataframe\">\n",
       "  <thead>\n",
       "    <tr style=\"text-align: right;\">\n",
       "      <th></th>\n",
       "      <th>confidence</th>\n",
       "      <th>domain</th>\n",
       "      <th>siren</th>\n",
       "      <th>origin</th>\n",
       "    </tr>\n",
       "  </thead>\n",
       "  <tbody>\n",
       "    <tr>\n",
       "      <th>0</th>\n",
       "      <td>***</td>\n",
       "      <td>www.allofamille.fr</td>\n",
       "      <td>[512719188]</td>\n",
       "      <td>warc</td>\n",
       "    </tr>\n",
       "    <tr>\n",
       "      <th>1</th>\n",
       "      <td>*</td>\n",
       "      <td>www.europages.fr</td>\n",
       "      <td>[542066717, 520840695, 505015644, 524862661, 5...</td>\n",
       "      <td>warc</td>\n",
       "    </tr>\n",
       "    <tr>\n",
       "      <th>2</th>\n",
       "      <td></td>\n",
       "      <td>www.bibamagazine.fr</td>\n",
       "      <td>[]</td>\n",
       "      <td></td>\n",
       "    </tr>\n",
       "    <tr>\n",
       "      <th>3</th>\n",
       "      <td>***</td>\n",
       "      <td>www.easypets.fr</td>\n",
       "      <td>[530772565]</td>\n",
       "      <td>warc</td>\n",
       "    </tr>\n",
       "    <tr>\n",
       "      <th>4</th>\n",
       "      <td></td>\n",
       "      <td>www.univeda.fr</td>\n",
       "      <td>[]</td>\n",
       "      <td></td>\n",
       "    </tr>\n",
       "  </tbody>\n",
       "</table>\n",
       "</div>"
      ],
      "text/plain": [
       "  confidence               domain  \\\n",
       "0        ***   www.allofamille.fr   \n",
       "1          *     www.europages.fr   \n",
       "2             www.bibamagazine.fr   \n",
       "3        ***      www.easypets.fr   \n",
       "4                  www.univeda.fr   \n",
       "\n",
       "                                               siren origin  \n",
       "0                                        [512719188]   warc  \n",
       "1  [542066717, 520840695, 505015644, 524862661, 5...   warc  \n",
       "2                                                 []         \n",
       "3                                        [530772565]   warc  \n",
       "4                                                 []         "
      ]
     },
     "execution_count": 8,
     "metadata": {},
     "output_type": "execute_result"
    }
   ],
   "source": [
    "sirens = []\n",
    "\n",
    "for domain in domains:\n",
    "    if check_domain(domain):\n",
    "        domain_sirens_from_sirets_web = list(dict.fromkeys([sir[:9] for sir in sirets_web_filtered[domain] if sir not in sirens_exclude]))\n",
    "        domain_sirens_web = [sir for sir in sirens_web_filtered[domain] if sir not in sirens_exclude]\n",
    "        domain_sirens_from_sirets_warcs = list(dict.fromkeys([sir[:9] for sir in sirets_warcs_filtered[domain] if sir not in sirens_exclude]))\n",
    "        domain_sirens_warcs = [sir for sir in sirens_warcs_filtered[domain] if sir not in sirens_exclude]\n",
    "        final_sirens = []\n",
    "        confidence = ''\n",
    "\n",
    "        sirs_web = list(dict.fromkeys(domain_sirens_from_sirets_web + domain_sirens_web))\n",
    "        sirs_warcs = list(dict.fromkeys(domain_sirens_from_sirets_warcs + domain_sirens_warcs))\n",
    "\n",
    "        if len(sirs_web)>0:\n",
    "            if len(sirs_web)==1:\n",
    "                final_sirens = sirs_web\n",
    "                confidence = '***'\n",
    "                origin = 'web'\n",
    "            else:\n",
    "                final_sirens = sirs_web\n",
    "                confidence = '**'\n",
    "                origin = 'web'\n",
    "        elif len(sirs_warcs)>0:\n",
    "            if len(sirs_warcs)==1:\n",
    "                final_sirens = sirs_warcs\n",
    "                confidence = '***'\n",
    "                origin = 'warc'\n",
    "            else:\n",
    "                final_sirens = sirs_warcs\n",
    "                confidence = '*'\n",
    "                origin = 'warc'\n",
    "        else:\n",
    "            final_sirens = []\n",
    "            confidence = ''\n",
    "            origin = ''\n",
    "\n",
    "        sirens.append({\n",
    "            'domain': domain,\n",
    "            'siren': final_sirens,\n",
    "            'confidence': confidence,\n",
    "            'origin': origin\n",
    "        })\n",
    "\n",
    "# Raw ooutput\n",
    "sirens_df = pd.DataFrame(sirens)\n",
    "sirens_df = sirens_df[['confidence', 'domain', 'siren', 'origin']]\n",
    "sirens_df.to_csv('/project/0_cleaning/output_cleaning/sirens_all.csv', index=False)\n",
    "sirens_df.head()"
   ]
  },
  {
   "cell_type": "markdown",
   "metadata": {},
   "source": [
    "# Filter by relevant ecommerce app"
   ]
  },
  {
   "cell_type": "code",
   "execution_count": 9,
   "metadata": {
    "ExecuteTime": {
     "end_time": "2019-05-22T09:49:22.241081Z",
     "start_time": "2019-05-22T09:49:22.203407Z"
    }
   },
   "outputs": [
    {
     "data": {
      "text/html": [
       "<div>\n",
       "<style scoped>\n",
       "    .dataframe tbody tr th:only-of-type {\n",
       "        vertical-align: middle;\n",
       "    }\n",
       "\n",
       "    .dataframe tbody tr th {\n",
       "        vertical-align: top;\n",
       "    }\n",
       "\n",
       "    .dataframe thead th {\n",
       "        text-align: right;\n",
       "    }\n",
       "</style>\n",
       "<table border=\"1\" class=\"dataframe\">\n",
       "  <thead>\n",
       "    <tr style=\"text-align: right;\">\n",
       "      <th></th>\n",
       "      <th>domain</th>\n",
       "      <th>wapps</th>\n",
       "    </tr>\n",
       "  </thead>\n",
       "  <tbody>\n",
       "    <tr>\n",
       "      <th>0</th>\n",
       "      <td>www.boutique-waterair.fr</td>\n",
       "      <td>[PrestaShop]</td>\n",
       "    </tr>\n",
       "    <tr>\n",
       "      <th>1</th>\n",
       "      <td>www.manga-vf.fr</td>\n",
       "      <td>[OpenCart]</td>\n",
       "    </tr>\n",
       "    <tr>\n",
       "      <th>2</th>\n",
       "      <td>www.machemer-online.fr</td>\n",
       "      <td>[Magento]</td>\n",
       "    </tr>\n",
       "    <tr>\n",
       "      <th>3</th>\n",
       "      <td>www.bougezpourlivg.fr</td>\n",
       "      <td>[OpenCart]</td>\n",
       "    </tr>\n",
       "    <tr>\n",
       "      <th>4</th>\n",
       "      <td>www.kalifrais.fr</td>\n",
       "      <td>[Magento]</td>\n",
       "    </tr>\n",
       "  </tbody>\n",
       "</table>\n",
       "</div>"
      ],
      "text/plain": [
       "                     domain         wapps\n",
       "0  www.boutique-waterair.fr  [PrestaShop]\n",
       "1           www.manga-vf.fr    [OpenCart]\n",
       "2    www.machemer-online.fr     [Magento]\n",
       "3     www.bougezpourlivg.fr    [OpenCart]\n",
       "4          www.kalifrais.fr     [Magento]"
      ]
     },
     "execution_count": 9,
     "metadata": {},
     "output_type": "execute_result"
    }
   ],
   "source": [
    "domain_wapps = load_json(\"/project/0_cleaning/output_cleaning/ecom_wapps_per_domain.json\")\n",
    "\n",
    "domains = []\n",
    "wapps = []\n",
    "for key, value in domain_wapps.items():\n",
    "    domains.append(key)\n",
    "    wapps.append(value)\n",
    "    \n",
    "domain_wapps_df = pd.DataFrame()\n",
    "domain_wapps_df['domain'] = domains\n",
    "domain_wapps_df['wapps'] = wapps\n",
    "domain_wapps_df.head()"
   ]
  },
  {
   "cell_type": "code",
   "execution_count": 29,
   "metadata": {
    "ExecuteTime": {
     "end_time": "2019-05-22T12:08:08.308610Z",
     "start_time": "2019-05-22T12:08:07.157043Z"
    },
    "scrolled": true
   },
   "outputs": [
    {
     "data": {
      "text/html": [
       "<div>\n",
       "<style scoped>\n",
       "    .dataframe tbody tr th:only-of-type {\n",
       "        vertical-align: middle;\n",
       "    }\n",
       "\n",
       "    .dataframe tbody tr th {\n",
       "        vertical-align: top;\n",
       "    }\n",
       "\n",
       "    .dataframe thead th {\n",
       "        text-align: right;\n",
       "    }\n",
       "</style>\n",
       "<table border=\"1\" class=\"dataframe\">\n",
       "  <thead>\n",
       "    <tr style=\"text-align: right;\">\n",
       "      <th></th>\n",
       "      <th>confidence</th>\n",
       "      <th>domain</th>\n",
       "      <th>siren</th>\n",
       "      <th>origin</th>\n",
       "      <th>wapps</th>\n",
       "    </tr>\n",
       "  </thead>\n",
       "  <tbody>\n",
       "    <tr>\n",
       "      <th>0</th>\n",
       "      <td>***</td>\n",
       "      <td>www.allofamille.fr</td>\n",
       "      <td>[512719188]</td>\n",
       "      <td>warc</td>\n",
       "      <td>[IBMWebSphereCommerce]</td>\n",
       "    </tr>\n",
       "    <tr>\n",
       "      <th>1</th>\n",
       "      <td>*</td>\n",
       "      <td>www.europages.fr</td>\n",
       "      <td>[542066717, 520840695, 505015644, 524862661, 5...</td>\n",
       "      <td>warc</td>\n",
       "      <td>[OpenCart]</td>\n",
       "    </tr>\n",
       "    <tr>\n",
       "      <th>2</th>\n",
       "      <td></td>\n",
       "      <td>www.bibamagazine.fr</td>\n",
       "      <td>[]</td>\n",
       "      <td></td>\n",
       "      <td>[IBMWebSphereCommerce]</td>\n",
       "    </tr>\n",
       "    <tr>\n",
       "      <th>3</th>\n",
       "      <td>***</td>\n",
       "      <td>www.easypets.fr</td>\n",
       "      <td>[530772565]</td>\n",
       "      <td>warc</td>\n",
       "      <td>[PrestaShop]</td>\n",
       "    </tr>\n",
       "    <tr>\n",
       "      <th>4</th>\n",
       "      <td></td>\n",
       "      <td>www.univeda.fr</td>\n",
       "      <td>[]</td>\n",
       "      <td></td>\n",
       "      <td>[PrestaShop]</td>\n",
       "    </tr>\n",
       "  </tbody>\n",
       "</table>\n",
       "</div>"
      ],
      "text/plain": [
       "  confidence               domain  \\\n",
       "0        ***   www.allofamille.fr   \n",
       "1          *     www.europages.fr   \n",
       "2             www.bibamagazine.fr   \n",
       "3        ***      www.easypets.fr   \n",
       "4                  www.univeda.fr   \n",
       "\n",
       "                                               siren origin  \\\n",
       "0                                        [512719188]   warc   \n",
       "1  [542066717, 520840695, 505015644, 524862661, 5...   warc   \n",
       "2                                                 []          \n",
       "3                                        [530772565]   warc   \n",
       "4                                                 []          \n",
       "\n",
       "                    wapps  \n",
       "0  [IBMWebSphereCommerce]  \n",
       "1              [OpenCart]  \n",
       "2  [IBMWebSphereCommerce]  \n",
       "3            [PrestaShop]  \n",
       "4            [PrestaShop]  "
      ]
     },
     "execution_count": 29,
     "metadata": {},
     "output_type": "execute_result"
    }
   ],
   "source": [
    "sirens_incl_wapps = sirens_df.merge(domain_wapps_df)\n",
    "sirens_incl_wapps.to_excel('sirens_incl_wapps.xlsx')\n",
    "sirens_incl_wapps.head()"
   ]
  },
  {
   "cell_type": "code",
   "execution_count": 14,
   "metadata": {
    "ExecuteTime": {
     "end_time": "2019-05-22T10:56:42.477116Z",
     "start_time": "2019-05-22T10:56:42.356808Z"
    }
   },
   "outputs": [],
   "source": [
    "relevant_ecom_wapps = ['PrestaShop','WooCommerce','Magento','OpenCart','Shopify','EPages','DrupalCommerce','Thelia']\n",
    "relevant_ecom_app = []\n",
    "for i in range(sirens_incl_wapps.shape[0]):\n",
    "    wapps = sirens_incl_wapps.iloc[i,4]\n",
    "    keep = 0\n",
    "    for wapp in wapps:\n",
    "        if wapp in relevant_ecom_wapps:\n",
    "            keep = 1\n",
    "    relevant_ecom_app.append(keep)\n",
    "\n",
    "sirens_incl_wapps['keep'] = relevant_ecom_app"
   ]
  },
  {
   "cell_type": "code",
   "execution_count": 15,
   "metadata": {
    "ExecuteTime": {
     "end_time": "2019-05-22T10:56:44.968931Z",
     "start_time": "2019-05-22T10:56:44.950538Z"
    },
    "scrolled": true
   },
   "outputs": [
    {
     "data": {
      "text/html": [
       "<div>\n",
       "<style scoped>\n",
       "    .dataframe tbody tr th:only-of-type {\n",
       "        vertical-align: middle;\n",
       "    }\n",
       "\n",
       "    .dataframe tbody tr th {\n",
       "        vertical-align: top;\n",
       "    }\n",
       "\n",
       "    .dataframe thead th {\n",
       "        text-align: right;\n",
       "    }\n",
       "</style>\n",
       "<table border=\"1\" class=\"dataframe\">\n",
       "  <thead>\n",
       "    <tr style=\"text-align: right;\">\n",
       "      <th></th>\n",
       "      <th>confidence</th>\n",
       "      <th>domain</th>\n",
       "      <th>siren</th>\n",
       "      <th>origin</th>\n",
       "      <th>wapps</th>\n",
       "      <th>keep</th>\n",
       "    </tr>\n",
       "  </thead>\n",
       "  <tbody>\n",
       "    <tr>\n",
       "      <th>0</th>\n",
       "      <td>***</td>\n",
       "      <td>www.allofamille.fr</td>\n",
       "      <td>[512719188]</td>\n",
       "      <td>warc</td>\n",
       "      <td>[IBMWebSphereCommerce]</td>\n",
       "      <td>0</td>\n",
       "    </tr>\n",
       "    <tr>\n",
       "      <th>1</th>\n",
       "      <td>*</td>\n",
       "      <td>www.europages.fr</td>\n",
       "      <td>[542066717, 520840695, 505015644, 524862661, 5...</td>\n",
       "      <td>warc</td>\n",
       "      <td>[OpenCart]</td>\n",
       "      <td>1</td>\n",
       "    </tr>\n",
       "    <tr>\n",
       "      <th>2</th>\n",
       "      <td></td>\n",
       "      <td>www.bibamagazine.fr</td>\n",
       "      <td>[]</td>\n",
       "      <td></td>\n",
       "      <td>[IBMWebSphereCommerce]</td>\n",
       "      <td>0</td>\n",
       "    </tr>\n",
       "    <tr>\n",
       "      <th>3</th>\n",
       "      <td>***</td>\n",
       "      <td>www.easypets.fr</td>\n",
       "      <td>[530772565]</td>\n",
       "      <td>warc</td>\n",
       "      <td>[PrestaShop]</td>\n",
       "      <td>1</td>\n",
       "    </tr>\n",
       "    <tr>\n",
       "      <th>4</th>\n",
       "      <td></td>\n",
       "      <td>www.univeda.fr</td>\n",
       "      <td>[]</td>\n",
       "      <td></td>\n",
       "      <td>[PrestaShop]</td>\n",
       "      <td>1</td>\n",
       "    </tr>\n",
       "  </tbody>\n",
       "</table>\n",
       "</div>"
      ],
      "text/plain": [
       "  confidence               domain  \\\n",
       "0        ***   www.allofamille.fr   \n",
       "1          *     www.europages.fr   \n",
       "2             www.bibamagazine.fr   \n",
       "3        ***      www.easypets.fr   \n",
       "4                  www.univeda.fr   \n",
       "\n",
       "                                               siren origin  \\\n",
       "0                                        [512719188]   warc   \n",
       "1  [542066717, 520840695, 505015644, 524862661, 5...   warc   \n",
       "2                                                 []          \n",
       "3                                        [530772565]   warc   \n",
       "4                                                 []          \n",
       "\n",
       "                    wapps  keep  \n",
       "0  [IBMWebSphereCommerce]     0  \n",
       "1              [OpenCart]     1  \n",
       "2  [IBMWebSphereCommerce]     0  \n",
       "3            [PrestaShop]     1  \n",
       "4            [PrestaShop]     1  "
      ]
     },
     "execution_count": 15,
     "metadata": {},
     "output_type": "execute_result"
    }
   ],
   "source": [
    "sirens_incl_wapps.head()"
   ]
  },
  {
   "cell_type": "markdown",
   "metadata": {},
   "source": [
    "# Save final list of SIREN"
   ]
  },
  {
   "cell_type": "code",
   "execution_count": 23,
   "metadata": {
    "ExecuteTime": {
     "end_time": "2019-05-22T11:00:33.726064Z",
     "start_time": "2019-05-22T11:00:33.363142Z"
    }
   },
   "outputs": [
    {
     "name": "stdout",
     "output_type": "stream",
     "text": [
      "3573 unique sirens extracted.\n"
     ]
    }
   ],
   "source": [
    "# Final list of sirens incl. domain\n",
    "sirens_final = sirens_incl_wapps.loc[(sirens_incl_wapps['confidence'] == '***') & (sirens_incl_wapps['keep'] == 1),['domain','siren','origin','wapps']]\n",
    "sirens_final['siren'] = sirens_final['siren'].apply(lambda x: x[0])\n",
    "sirens_final.to_csv('/project/0_cleaning/output_cleaning/sirens_final.csv', index=False)\n",
    "sirens_final.to_excel('sirens_final.xlsx', index=False)\n",
    "# Final list of sirens\n",
    "sirens = sirens_final['siren'].tolist()\n",
    "sirens = list(dict.fromkeys(sirens))\n",
    "np.save('/project/0_cleaning/output_cleaning/sirens.npy', sirens)\n",
    "print(f'{len(sirens)} unique sirens extracted.')"
   ]
  }
 ],
 "metadata": {
  "kernelspec": {
   "display_name": "Python 3",
   "language": "python",
   "name": "python3"
  },
  "language_info": {
   "codemirror_mode": {
    "name": "ipython",
    "version": 3
   },
   "file_extension": ".py",
   "mimetype": "text/x-python",
   "name": "python",
   "nbconvert_exporter": "python",
   "pygments_lexer": "ipython3",
   "version": "3.7.3"
  },
  "toc": {
   "base_numbering": 1,
   "nav_menu": {},
   "number_sections": true,
   "sideBar": true,
   "skip_h1_title": false,
   "title_cell": "Table of Contents",
   "title_sidebar": "Contents",
   "toc_cell": false,
   "toc_position": {},
   "toc_section_display": true,
   "toc_window_display": false
  },
  "varInspector": {
   "cols": {
    "lenName": 16,
    "lenType": 16,
    "lenVar": 40
   },
   "kernels_config": {
    "python": {
     "delete_cmd_postfix": "",
     "delete_cmd_prefix": "del ",
     "library": "var_list.py",
     "varRefreshCmd": "print(var_dic_list())"
    },
    "r": {
     "delete_cmd_postfix": ") ",
     "delete_cmd_prefix": "rm(",
     "library": "var_list.r",
     "varRefreshCmd": "cat(var_dic_list()) "
    }
   },
   "types_to_exclude": [
    "module",
    "function",
    "builtin_function_or_method",
    "instance",
    "_Feature"
   ],
   "window_display": false
  }
 },
 "nbformat": 4,
 "nbformat_minor": 2
}
