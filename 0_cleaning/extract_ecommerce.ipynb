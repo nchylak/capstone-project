{
 "cells": [
  {
   "cell_type": "code",
   "execution_count": 1,
   "metadata": {},
   "outputs": [],
   "source": [
    "import json\n",
    "from warcio.archiveiterator import ArchiveIterator\n",
    "import os\n",
    "import time\n",
    "import pandas as pd\n",
    "import tqdm"
   ]
  },
  {
   "cell_type": "markdown",
   "metadata": {},
   "source": [
    "# Find ecommerce per wapp directory"
   ]
  },
  {
   "cell_type": "code",
   "execution_count": 2,
   "metadata": {},
   "outputs": [
    {
     "data": {
      "text/plain": [
       "['/var/www/wapp-00/',\n",
       " '/var/www/wapp-01/',\n",
       " '/var/www/wapp-02/',\n",
       " '/var/www/wapp-03/',\n",
       " '/var/www/wapp-04/',\n",
       " '/var/www/wapp-05/',\n",
       " '/var/www/wapp-06/',\n",
       " '/var/www/wapp-07/',\n",
       " '/var/www/wapp-08/',\n",
       " '/var/www/wapp-09/']"
      ]
     },
     "execution_count": 2,
     "metadata": {},
     "output_type": "execute_result"
    }
   ],
   "source": [
    "paths = [f'/var/www/wapp-0{i}/' for i in range(10)]\n",
    "paths"
   ]
  },
  {
   "cell_type": "code",
   "execution_count": 3,
   "metadata": {},
   "outputs": [
    {
     "name": "stdout",
     "output_type": "stream",
     "text": [
      "['3dCart', '91App', 'Afosto', 'AfterBuy', 'Arastta', 'Avangate', 'BigBangShop', 'Bigcommerce', 'Bigware', 'Bizweb', 'Blesta', 'Botble CMS', 'Clientexec', 'CloudCart', 'ColorMeShop', 'Comandia', 'Combeenation', 'Commerce Server', 'Cosmoshop', 'Craft Commerce', 'CS Cart', 'CubeCart', 'Drupal Commerce', 'Dynamicweb', 'EC-CUBE', 'Elcodi', 'EPages', 'eZ Publish', 'Fastcommerce', 'Fbits', 'Fortune3', 'Future Shop', 'FWP', 'Gambio', 'Haravan', 'Hinza Advanced CMS', 'Hybris', 'IBM WebSphere Commerce', 'iCongo', 'Ideasoft', 'IdoSell Shop', 'Intershop', 'INTI', 'iPresta', 'JET Enterprise', 'Jetshop', 'JTL Shop', 'Kajabi', 'Kamva', 'Klarna Checkout', 'KobiMaster', 'Lightspeed eCom', 'Magento', 'MakeShopKorea', 'Melis CMS V2', 'Mietshop', 'Modified', 'Moguta.CMS', 'Mondo Media', 'MYPAGE Platform', 'NEO - Omnichannel Commerce Platform', 'Neto', 'Netsuite', 'nopCommerce', 'Odoo', 'Open Classifieds', 'Open eShop', 'OpenCart', 'Oracle Commerce', 'Oracle Commerce Cloud', 'osCommerce', 'osCSS', 'OXID eShop', 'Pimcore', 'Plentymarkets', 'Powergap', 'PrestaShop', 'Projesoft', 'Proximis Omnichannel', 'Proximis Web to Store', 'Quick.Cart', 'Rakuten DBCore', 'Rakuten Digital Commerce', 'RBS Change', 'Robin', 'Rocket', 'Salesforce Commerce Cloud', 'Sazito', 'Shopatron', 'Shopcada', 'Shoper', 'shoperfa', 'Shopery', 'Shopfa', 'Shopify', 'Shopline', 'Shoptet', 'Shopware', 'Smartstore', 'SoftTr', 'Solusquare OmniCommerce Cloud', 'Spree', 'Store Systems', 'Storeden', 'Strato', 'Textalk', 'Thelia', 'Ticimax', 'Tictail', 'TomatoCart', 'TotalCode', 'Tray', 'Ubercart', 'UltraCart', 'Venda', 'vibecommerce', 'VirtueMart', 'Volusion (V1)', 'Volusion (V2)', 'VP-ASP', 'VTEX', 'VTEX Integrated Store', 'Websale', 'WEBXPAY', 'WHMCS', 'Wikinggruppen', 'WooCommerce', 'Woosa', 'X-Cart', 'Xanario', 'Xonic', 'xtCommerce', 'Yahoo! Ecommerce', 'Zen Cart', 'Zeuscart']\n"
     ]
    }
   ],
   "source": [
    "# Relevant apps scraped from https://www.wappalyzer.com/datasets\n",
    "ecom_apps = ['3dCart', '91App', 'Afosto', 'AfterBuy', 'Arastta', 'Avangate', 'BigBangShop', 'Bigcommerce', 'Bigware', 'Bizweb', 'Blesta', 'Botble CMS', 'Clientexec', 'CloudCart', 'ColorMeShop', 'Comandia', 'Combeenation', 'Commerce Server', 'Cosmoshop', 'Craft Commerce', 'CS Cart', 'CubeCart', 'Drupal Commerce', 'Dynamicweb', 'EC-CUBE', 'Elcodi', 'EPages', 'eZ Publish', 'Fastcommerce', 'Fbits', 'Fortune3', 'Future Shop', 'FWP', 'Gambio', 'Haravan', 'Hinza Advanced CMS', 'Hybris', 'IBM WebSphere Commerce', 'iCongo', 'Ideasoft', 'IdoSell Shop', 'Intershop', 'INTI', 'iPresta', 'JET Enterprise', 'Jetshop', 'JTL Shop', 'Kajabi', 'Kamva', 'Klarna Checkout', 'KobiMaster', 'Lightspeed eCom', 'Magento', 'MakeShopKorea', 'Melis CMS V2', 'Mietshop', 'Modified', 'Moguta.CMS', 'Mondo Media', 'MYPAGE Platform', 'NEO - Omnichannel Commerce Platform', 'Neto', 'Netsuite', 'nopCommerce', 'Odoo', 'Open Classifieds', 'Open eShop', 'OpenCart', 'Oracle Commerce', 'Oracle Commerce Cloud', 'osCommerce', 'osCSS', 'OXID eShop', 'Pimcore', 'Plentymarkets', 'Powergap', 'PrestaShop', 'Projesoft', 'Proximis Omnichannel', 'Proximis Web to Store', 'Quick.Cart', 'Rakuten DBCore', 'Rakuten Digital Commerce', 'RBS Change', 'Robin', 'Rocket', 'Salesforce Commerce Cloud', 'Sazito', 'Shopatron', 'Shopcada', 'Shoper', 'shoperfa', 'Shopery', 'Shopfa', 'Shopify', 'Shopline', 'Shoptet', 'Shopware', 'Smartstore', 'SoftTr', 'Solusquare OmniCommerce Cloud', 'Spree', 'Store Systems', 'Storeden', 'Strato', 'Textalk', 'Thelia', 'Ticimax', 'Tictail', 'TomatoCart', 'TotalCode', 'Tray', 'Ubercart', 'UltraCart', 'Venda', 'vibecommerce', 'VirtueMart', 'Volusion (V1)', 'Volusion (V2)', 'VP-ASP', 'VTEX', 'VTEX Integrated Store', 'Websale', 'WEBXPAY', 'WHMCS', 'Wikinggruppen', 'WooCommerce', 'Woosa', 'X-Cart', 'Xanario', 'Xonic', 'xtCommerce', 'Yahoo! Ecommerce', 'Zen Cart', 'Zeuscart']\n",
    "print(ecom_apps)"
   ]
  },
  {
   "cell_type": "code",
   "execution_count": 4,
   "metadata": {},
   "outputs": [],
   "source": [
    "def extract_wapps(path):\n",
    "\n",
    "    wapps_per_warc = {}\n",
    "    \n",
    "    # Extract wapps used by all crawls in path\n",
    "    for i, file in enumerate(os.listdir(path)):\n",
    "\n",
    "        wapps = []\n",
    "        Json = open(path + file)\n",
    "\n",
    "        try:\n",
    "            json_loaded = json.load(Json)\n",
    "        except:\n",
    "            wapps_per_warc[file] = [] # some json are empty\n",
    "        else:\n",
    "            for j in range(len(json_loaded['applications'])):\n",
    "                wapps.append(json_loaded['applications'][j]['name'])\n",
    "            wapps_per_warc[file] = wapps\n",
    "        finally:\n",
    "            Json.close()\n",
    "        \n",
    "    return wapps_per_warc"
   ]
  },
  {
   "cell_type": "code",
   "execution_count": 5,
   "metadata": {},
   "outputs": [],
   "source": [
    "def extract_ecom(dict_wapps, ecom_apps):\n",
    "    \n",
    "    ecommerce = []\n",
    "    wapps = []\n",
    "    \n",
    "    # Subset crawls resp. the wapps they use to crawls using ecommerce wapps resp. the ecommerce wapps they use\n",
    "    for key, values in dict_wapps.items():\n",
    "        wapps_for_key = []\n",
    "        for value in values:\n",
    "            if value in ecom_apps:\n",
    "                wapps_for_key.append(value)\n",
    "                if key not in ecommerce:\n",
    "                    ecommerce.append(key)\n",
    "        if wapps_for_key:\n",
    "            wapps.append(wapps_for_key)\n",
    "    \n",
    "    return ecommerce, wapps"
   ]
  },
  {
   "cell_type": "code",
   "execution_count": 6,
   "metadata": {},
   "outputs": [],
   "source": [
    "def save_csv(ecommerce, wapps, iteration):\n",
    "    \n",
    "    # Save result to csv\n",
    "    df = pd.DataFrame()\n",
    "    df['ecommerce'] = ecommerce\n",
    "    df['wapp_folder'] = f'wapp-0{iteration}'\n",
    "    df['wapps'] = wapps\n",
    "    df.to_csv(f'ecom-wapp-0{iteration}.csv', index=False)"
   ]
  },
  {
   "cell_type": "code",
   "execution_count": 7,
   "metadata": {},
   "outputs": [
    {
     "name": "stderr",
     "output_type": "stream",
     "text": [
      "10it [40:52, 164.13s/it]\n"
     ]
    }
   ],
   "source": [
    "for iteration, path in tqdm.tqdm(enumerate(paths)):\n",
    "    \n",
    "    dict_wapps = extract_wapps(path)\n",
    "    ecommerce, wapps = extract_ecom(dict_wapps, ecom_apps)\n",
    "    save_csv(ecommerce, wapps, iteration)"
   ]
  },
  {
   "cell_type": "code",
   "execution_count": 8,
   "metadata": {},
   "outputs": [
    {
     "data": {
      "text/html": [
       "<div>\n",
       "<style scoped>\n",
       "    .dataframe tbody tr th:only-of-type {\n",
       "        vertical-align: middle;\n",
       "    }\n",
       "\n",
       "    .dataframe tbody tr th {\n",
       "        vertical-align: top;\n",
       "    }\n",
       "\n",
       "    .dataframe thead th {\n",
       "        text-align: right;\n",
       "    }\n",
       "</style>\n",
       "<table border=\"1\" class=\"dataframe\">\n",
       "  <thead>\n",
       "    <tr style=\"text-align: right;\">\n",
       "      <th></th>\n",
       "      <th>ecommerce</th>\n",
       "      <th>wapp_folder</th>\n",
       "      <th>wapps</th>\n",
       "    </tr>\n",
       "  </thead>\n",
       "  <tbody>\n",
       "    <tr>\n",
       "      <th>0</th>\n",
       "      <td>CC-MAIN-20171119004302-20171119024302-00601.wa...</td>\n",
       "      <td>wapp-00</td>\n",
       "      <td>['PrestaShop']</td>\n",
       "    </tr>\n",
       "    <tr>\n",
       "      <th>1</th>\n",
       "      <td>CC-MAIN-20171120032907-20171120052907-00562.wa...</td>\n",
       "      <td>wapp-00</td>\n",
       "      <td>['OpenCart']</td>\n",
       "    </tr>\n",
       "    <tr>\n",
       "      <th>2</th>\n",
       "      <td>CC-MAIN-20171124180349-20171124200349-00561.wa...</td>\n",
       "      <td>wapp-00</td>\n",
       "      <td>['Magento']</td>\n",
       "    </tr>\n",
       "    <tr>\n",
       "      <th>3</th>\n",
       "      <td>CC-MAIN-20171123050243-20171123070243-00112.wa...</td>\n",
       "      <td>wapp-00</td>\n",
       "      <td>['OpenCart']</td>\n",
       "    </tr>\n",
       "    <tr>\n",
       "      <th>4</th>\n",
       "      <td>CC-MAIN-20171117223659-20171118003659-00491.wa...</td>\n",
       "      <td>wapp-00</td>\n",
       "      <td>['Magento']</td>\n",
       "    </tr>\n",
       "  </tbody>\n",
       "</table>\n",
       "</div>"
      ],
      "text/plain": [
       "                                           ecommerce wapp_folder  \\\n",
       "0  CC-MAIN-20171119004302-20171119024302-00601.wa...     wapp-00   \n",
       "1  CC-MAIN-20171120032907-20171120052907-00562.wa...     wapp-00   \n",
       "2  CC-MAIN-20171124180349-20171124200349-00561.wa...     wapp-00   \n",
       "3  CC-MAIN-20171123050243-20171123070243-00112.wa...     wapp-00   \n",
       "4  CC-MAIN-20171117223659-20171118003659-00491.wa...     wapp-00   \n",
       "\n",
       "            wapps  \n",
       "0  ['PrestaShop']  \n",
       "1    ['OpenCart']  \n",
       "2     ['Magento']  \n",
       "3    ['OpenCart']  \n",
       "4     ['Magento']  "
      ]
     },
     "execution_count": 8,
     "metadata": {},
     "output_type": "execute_result"
    }
   ],
   "source": [
    "df = pd.read_csv('ecom-wapp-00.csv')\n",
    "df.head()"
   ]
  },
  {
   "cell_type": "markdown",
   "metadata": {},
   "source": [
    "# Join ecommerces into one csv"
   ]
  },
  {
   "cell_type": "code",
   "execution_count": 9,
   "metadata": {},
   "outputs": [],
   "source": [
    "for i in range(1,10):\n",
    "    df_to_concat = pd.read_csv(f'ecom-wapp-0{i}.csv')\n",
    "    df = pd.concat([df,df_to_concat], ignore_index=True)\n",
    "df.to_csv('/project/0_cleaning/output_cleaning/ecom-full.csv', index=False)"
   ]
  },
  {
   "cell_type": "code",
   "execution_count": 10,
   "metadata": {},
   "outputs": [
    {
     "data": {
      "text/plain": [
       "(605987, 3)"
      ]
     },
     "execution_count": 10,
     "metadata": {},
     "output_type": "execute_result"
    }
   ],
   "source": [
    "df.shape"
   ]
  }
 ],
 "metadata": {
  "kernelspec": {
   "display_name": "Python 3",
   "language": "python",
   "name": "python3"
  },
  "language_info": {
   "codemirror_mode": {
    "name": "ipython",
    "version": 3
   },
   "file_extension": ".py",
   "mimetype": "text/x-python",
   "name": "python",
   "nbconvert_exporter": "python",
   "pygments_lexer": "ipython3",
   "version": "3.7.3"
  },
  "toc": {
   "base_numbering": 1,
   "nav_menu": {},
   "number_sections": true,
   "sideBar": true,
   "skip_h1_title": false,
   "title_cell": "Table of Contents",
   "title_sidebar": "Contents",
   "toc_cell": false,
   "toc_position": {},
   "toc_section_display": true,
   "toc_window_display": false
  },
  "varInspector": {
   "cols": {
    "lenName": 16,
    "lenType": 16,
    "lenVar": 40
   },
   "kernels_config": {
    "python": {
     "delete_cmd_postfix": "",
     "delete_cmd_prefix": "del ",
     "library": "var_list.py",
     "varRefreshCmd": "print(var_dic_list())"
    },
    "r": {
     "delete_cmd_postfix": ") ",
     "delete_cmd_prefix": "rm(",
     "library": "var_list.r",
     "varRefreshCmd": "cat(var_dic_list()) "
    }
   },
   "types_to_exclude": [
    "module",
    "function",
    "builtin_function_or_method",
    "instance",
    "_Feature"
   ],
   "window_display": false
  }
 },
 "nbformat": 4,
 "nbformat_minor": 2
}
